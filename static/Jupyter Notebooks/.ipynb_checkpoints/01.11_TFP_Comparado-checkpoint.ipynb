{
 "cells": [
  {
   "cell_type": "code",
   "execution_count": 1,
   "id": "877a7d00-f284-4fc1-9e61-581854eb90c6",
   "metadata": {},
   "outputs": [],
   "source": [
    "\"|IMPORT PACKAGES|\"\n",
    "import pandas             as pd\n",
    "import datetime\n",
    "from   bokeh.plotting     import show, figure, output_file, save\n",
    "from   bokeh.io           import show, output_notebook, curdoc, export_png\n",
    "from   bokeh.models.tools import HoverTool\n",
    "from   bokeh.models       import ColumnDataSource,LinearAxis, Range1d, NumeralTickFormatter, LabelSet, Label, BoxAnnotation, DatetimeTickFormatter, Text, Span\n",
    "from   bokeh.models       import Arrow, NormalHead, OpenHead, VeeHead\n",
    "from   bokeh.transform    import dodge\n",
    "from   datetime           import datetime as dt"
   ]
  },
  {
   "cell_type": "code",
   "execution_count": 27,
   "id": "f1948cea-1e0c-4f70-88af-f30b5b4df3da",
   "metadata": {},
   "outputs": [],
   "source": [
    "\"|IMPORT DATA|\"\n",
    "path = r'https://github.com/ncachanosky/research/blob/master/Economic%20Series/'\n",
    "file = r'Resumen%20Estadistico%20-%20Internacional.xlsx?raw=true'\n",
    "IO   = path + file\n",
    "sheet = 'DATA'\n",
    "\n",
    "# data = pd.read_excel(IO, sheet_name = sheet, usecols=\"A:C, S\", skiprows=2, nrows=12318, engine='openpyxl') # Be patient...\n",
    "data = pd.read_excel(IO, sheet_name = sheet, usecols=\"A:C, R\", skiprows=2, nrows=12318, engine='openpyxl') # Be patient...\n",
    "data = data.dropna()"
   ]
  },
  {
   "cell_type": "code",
   "execution_count": 36,
   "id": "003d1466-e34d-49f6-bbe9-49a3a743c867",
   "metadata": {},
   "outputs": [],
   "source": [
    "\"|CHECK DATA|\"\n",
    "data.columns = ['YEAR', 'ISO CODE', 'COUNTRY', 'TFP']"
   ]
  },
  {
   "cell_type": "code",
   "execution_count": 37,
   "id": "ae957ef2-c7ee-4291-be28-489504f6d6f0",
   "metadata": {},
   "outputs": [
    {
     "data": {
      "text/html": [
       "<div>\n",
       "<style scoped>\n",
       "    .dataframe tbody tr th:only-of-type {\n",
       "        vertical-align: middle;\n",
       "    }\n",
       "\n",
       "    .dataframe tbody tr th {\n",
       "        vertical-align: top;\n",
       "    }\n",
       "\n",
       "    .dataframe thead th {\n",
       "        text-align: right;\n",
       "    }\n",
       "</style>\n",
       "<table border=\"1\" class=\"dataframe\">\n",
       "  <thead>\n",
       "    <tr style=\"text-align: right;\">\n",
       "      <th></th>\n",
       "      <th>YEAR</th>\n",
       "      <th>ISO CODE</th>\n",
       "      <th>COUNTRY</th>\n",
       "      <th>TFP</th>\n",
       "    </tr>\n",
       "  </thead>\n",
       "  <tbody>\n",
       "    <tr>\n",
       "      <th>12313</th>\n",
       "      <td>2019</td>\n",
       "      <td>UKR</td>\n",
       "      <td>Ukraine</td>\n",
       "      <td>0.392283</td>\n",
       "    </tr>\n",
       "    <tr>\n",
       "      <th>12314</th>\n",
       "      <td>2019</td>\n",
       "      <td>AIA</td>\n",
       "      <td>Anguilla</td>\n",
       "      <td>0.000000</td>\n",
       "    </tr>\n",
       "    <tr>\n",
       "      <th>12315</th>\n",
       "      <td>2019</td>\n",
       "      <td>ATG</td>\n",
       "      <td>Antigua and Barbuda</td>\n",
       "      <td>0.000000</td>\n",
       "    </tr>\n",
       "    <tr>\n",
       "      <th>12316</th>\n",
       "      <td>2019</td>\n",
       "      <td>ARG</td>\n",
       "      <td>Argentina</td>\n",
       "      <td>0.812184</td>\n",
       "    </tr>\n",
       "    <tr>\n",
       "      <th>12317</th>\n",
       "      <td>2019</td>\n",
       "      <td>ABW</td>\n",
       "      <td>Aruba</td>\n",
       "      <td>0.000000</td>\n",
       "    </tr>\n",
       "  </tbody>\n",
       "</table>\n",
       "</div>"
      ],
      "text/plain": [
       "       YEAR ISO CODE              COUNTRY       TFP\n",
       "12313  2019      UKR              Ukraine  0.392283\n",
       "12314  2019      AIA             Anguilla  0.000000\n",
       "12315  2019      ATG  Antigua and Barbuda  0.000000\n",
       "12316  2019      ARG            Argentina  0.812184\n",
       "12317  2019      ABW                Aruba  0.000000"
      ]
     },
     "execution_count": 37,
     "metadata": {},
     "output_type": "execute_result"
    }
   ],
   "source": [
    "data.tail()"
   ]
  },
  {
   "cell_type": "code",
   "execution_count": 38,
   "id": "cade177e-1353-4125-b6a7-1f9039976221",
   "metadata": {},
   "outputs": [],
   "source": [
    "ARG = data.loc[data[\"COUNTRY\"]==\"Argentina\",:]\n",
    "BRA = data.loc[data[\"COUNTRY\"]==\"Brazil\",:]\n",
    "CHI = data.loc[data[\"COUNTRY\"]==\"Chile\",:]\n",
    "COL = data.loc[data[\"COUNTRY\"]==\"Colombia\",:]"
   ]
  },
  {
   "cell_type": "code",
   "execution_count": 55,
   "id": "db0c7df8-9c79-4a51-863b-419c6e75d045",
   "metadata": {},
   "outputs": [],
   "source": [
    "cdsarg = ColumnDataSource(ARG)\n",
    "cdsbra = ColumnDataSource(BRA)\n",
    "cdschi = ColumnDataSource(CHI)\n",
    "cdscol = ColumnDataSource(COL)\n",
    "\n",
    "#BUILD FIGURE\n",
    "p = figure(title = \"EL HUB ECONÓMICO | PRODUCTIVIDAD EN PAÍSES SELECTOS (USA = 1)\",\n",
    "           x_axis_label = \"Año\", \n",
    "           plot_height  = 400,\n",
    "           plot_width   = 700)\n",
    "\n",
    "p.toolbar_location = \"right\"\n",
    "p.toolbar.autohide = True\n",
    "p1 = p.line(\"YEAR\", \"TFP\", color=\"blue\" , line_alpha=0.50, width=2, legend_label=\"Argentina\", muted_alpha=0.20, source=cdsarg)\n",
    "p2 = p.line(\"YEAR\", \"TFP\", color=\"green\", line_alpha=0.50, width=2, legend_label=\"Brasil\"   , muted_alpha=0.20, source=cdsbra)\n",
    "p3 = p.line(\"YEAR\", \"TFP\", color=\"red\"  , line_alpha=0.50, width=2, legend_label=\"Chile\"    , muted_alpha=0.20, source=cdschi)\n",
    "p4 = p.line(\"YEAR\", \"TFP\", color=\"gold\" , line_alpha=0.50, width=2, legend_label=\"Colombia\" , muted_alpha=0.20, source=cdscol)\n",
    "\n",
    "p.add_tools(HoverTool(renderers=[p1], tooltips = [(\"Argentina\", \"@TFP\")], mode=\"vline\"))\n",
    "p.add_tools(HoverTool(renderers=[p2], tooltips = [(\"Brasil\"   , \"@TFP\")], mode=\"vline\"))\n",
    "p.add_tools(HoverTool(renderers=[p3], tooltips = [(\"Chile\"    , \"@TFP\")], mode=\"vline\"))\n",
    "p.add_tools(HoverTool(renderers=[p4], tooltips = [(\"Colombia\" , \"@TFP\")], mode=\"vline\"))\n",
    "\n",
    "p.legend.location     = \"top_right\"\n",
    "p.legend.orientation  = \"horizontal\"\n",
    "p.legend.click_policy = \"mute\"\n",
    "show(p)"
   ]
  },
  {
   "cell_type": "code",
   "execution_count": null,
   "id": "55b9c9de-daa6-416f-8fd2-3c52cd800051",
   "metadata": {},
   "outputs": [],
   "source": [
    "\"|EXPORT .PNG FILE|\"\n",
    "\n",
    "export_png(p, filename=\"TFP_Comparado.png\")"
   ]
  },
  {
   "cell_type": "code",
   "execution_count": null,
   "id": "67d36107-615b-41a3-89f2-5ecd4b380e93",
   "metadata": {},
   "outputs": [],
   "source": [
    "\"|# CREATE HTML FILE|\"\n",
    "\n",
    "output_file(filename=\"TFP_Comparado.html\", title=\"TFP Comparado (USA = 1)\")\n",
    "save(p)"
   ]
  },
  {
   "cell_type": "code",
   "execution_count": 56,
   "id": "2cb73802-f588-4b4e-85fd-4f6db53162e3",
   "metadata": {},
   "outputs": [],
   "source": [
    "\"|CREATE JSON FILE|\"\n",
    "import json\n",
    "import bokeh.embed\n",
    "\n",
    "from bokeh.embed import json_item\n",
    "\n",
    "j = json.dumps(json_item(p, \"TFP_Comparad\"))\n",
    "with open(\"01.11_TFP_Comparado.json\", \"w\") as fp:\n",
    "    json.dump(j, fp)"
   ]
  }
 ],
 "metadata": {
  "kernelspec": {
   "display_name": "Python 3",
   "language": "python",
   "name": "python3"
  },
  "language_info": {
   "codemirror_mode": {
    "name": "ipython",
    "version": 3
   },
   "file_extension": ".py",
   "mimetype": "text/x-python",
   "name": "python",
   "nbconvert_exporter": "python",
   "pygments_lexer": "ipython3",
   "version": "3.8.8"
  }
 },
 "nbformat": 4,
 "nbformat_minor": 5
}
