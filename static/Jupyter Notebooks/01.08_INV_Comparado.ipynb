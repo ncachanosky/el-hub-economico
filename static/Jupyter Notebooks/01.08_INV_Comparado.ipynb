{
 "cells": [
  {
   "cell_type": "code",
   "execution_count": 4,
   "id": "877a7d00-f284-4fc1-9e61-581854eb90c6",
   "metadata": {},
   "outputs": [],
   "source": [
    "\"|IMPORT PACKAGES|\"\n",
    "import pandas             as pd\n",
    "import datetime\n",
    "from   bokeh.plotting     import show, figure, output_file, save\n",
    "from   bokeh.io           import show, output_notebook, curdoc, export_png\n",
    "from   bokeh.models.tools import HoverTool\n",
    "from   bokeh.models       import ColumnDataSource,LinearAxis, Range1d, NumeralTickFormatter, LabelSet, Label, BoxAnnotation, DatetimeTickFormatter, Text, Span\n",
    "from   bokeh.models       import Arrow, NormalHead, OpenHead, VeeHead\n",
    "from   bokeh.transform    import dodge\n",
    "from   datetime           import datetime as dt"
   ]
  },
  {
   "cell_type": "code",
   "execution_count": 5,
   "id": "f1948cea-1e0c-4f70-88af-f30b5b4df3da",
   "metadata": {},
   "outputs": [],
   "source": [
    "\"|IMPORT DATA|\"\n",
    "path = r'https://github.com/ncachanosky/research/blob/master/Economic%20Series/'\n",
    "file = r'Resumen%20Estadistico%20-%20Internacional.xlsx?raw=true'\n",
    "IO   = path + file\n",
    "sheet = 'DATA'\n",
    "\n",
    "data = pd.read_excel(IO, sheet_name = sheet, usecols=\"A:C, N\", skiprows=2, nrows=12648, engine='openpyxl') # Be patient...\n",
    "data = data.dropna()"
   ]
  },
  {
   "cell_type": "code",
   "execution_count": 6,
   "id": "003d1466-e34d-49f6-bbe9-49a3a743c867",
   "metadata": {},
   "outputs": [],
   "source": [
    "\"|CHECK DATA|\"\n",
    "data.columns = ['YEAR', 'ISO CODE', 'COUNTRY', 'INV']"
   ]
  },
  {
   "cell_type": "code",
   "execution_count": 7,
   "id": "ae957ef2-c7ee-4291-be28-489504f6d6f0",
   "metadata": {},
   "outputs": [
    {
     "data": {
      "text/html": [
       "<div>\n",
       "<style scoped>\n",
       "    .dataframe tbody tr th:only-of-type {\n",
       "        vertical-align: middle;\n",
       "    }\n",
       "\n",
       "    .dataframe tbody tr th {\n",
       "        vertical-align: top;\n",
       "    }\n",
       "\n",
       "    .dataframe thead th {\n",
       "        text-align: right;\n",
       "    }\n",
       "</style>\n",
       "<table border=\"1\" class=\"dataframe\">\n",
       "  <thead>\n",
       "    <tr style=\"text-align: right;\">\n",
       "      <th></th>\n",
       "      <th>YEAR</th>\n",
       "      <th>ISO CODE</th>\n",
       "      <th>COUNTRY</th>\n",
       "      <th>INV</th>\n",
       "    </tr>\n",
       "  </thead>\n",
       "  <tbody>\n",
       "    <tr>\n",
       "      <th>12612</th>\n",
       "      <td>2020</td>\n",
       "      <td>URY</td>\n",
       "      <td>Uruguay</td>\n",
       "      <td>16.355604</td>\n",
       "    </tr>\n",
       "    <tr>\n",
       "      <th>12615</th>\n",
       "      <td>2020</td>\n",
       "      <td>CAN</td>\n",
       "      <td>Canada</td>\n",
       "      <td>23.003401</td>\n",
       "    </tr>\n",
       "    <tr>\n",
       "      <th>12620</th>\n",
       "      <td>2020</td>\n",
       "      <td>AUS</td>\n",
       "      <td>Australia</td>\n",
       "      <td>22.515888</td>\n",
       "    </tr>\n",
       "    <tr>\n",
       "      <th>12624</th>\n",
       "      <td>2020</td>\n",
       "      <td>FJI</td>\n",
       "      <td>Fiji</td>\n",
       "      <td>15.861421</td>\n",
       "    </tr>\n",
       "    <tr>\n",
       "      <th>12646</th>\n",
       "      <td>2020</td>\n",
       "      <td>VUT</td>\n",
       "      <td>Vanuatu</td>\n",
       "      <td>33.562113</td>\n",
       "    </tr>\n",
       "  </tbody>\n",
       "</table>\n",
       "</div>"
      ],
      "text/plain": [
       "       YEAR ISO CODE    COUNTRY        INV\n",
       "12612  2020      URY    Uruguay  16.355604\n",
       "12615  2020      CAN     Canada  23.003401\n",
       "12620  2020      AUS  Australia  22.515888\n",
       "12624  2020      FJI       Fiji  15.861421\n",
       "12646  2020      VUT    Vanuatu  33.562113"
      ]
     },
     "execution_count": 7,
     "metadata": {},
     "output_type": "execute_result"
    }
   ],
   "source": [
    "data.tail()"
   ]
  },
  {
   "cell_type": "code",
   "execution_count": 8,
   "id": "cade177e-1353-4125-b6a7-1f9039976221",
   "metadata": {},
   "outputs": [],
   "source": [
    "ARG = data.loc[data[\"COUNTRY\"]==\"Argentina\",:]\n",
    "BRA = data.loc[data[\"COUNTRY\"]==\"Brazil\",:]\n",
    "CHI = data.loc[data[\"COUNTRY\"]==\"Chile\",:]\n",
    "PAR = data.loc[data[\"COUNTRY\"]==\"Paraguay\",:]\n",
    "PER = data.loc[data[\"COUNTRY\"]==\"Peru\",:]\n",
    "MEX = data.loc[data[\"COUNTRY\"]==\"Mexico\",:]"
   ]
  },
  {
   "cell_type": "code",
   "execution_count": 21,
   "id": "db0c7df8-9c79-4a51-863b-419c6e75d045",
   "metadata": {},
   "outputs": [],
   "source": [
    "cds_arg = ColumnDataSource(ARG)\n",
    "cds_bra = ColumnDataSource(BRA)\n",
    "cds_chi = ColumnDataSource(CHI)\n",
    "cds_par = ColumnDataSource(PAR)\n",
    "cds_per = ColumnDataSource(PER)\n",
    "cds_mex = ColumnDataSource(MEX)\n",
    "\n",
    "#BUILD FIGURE\n",
    "p = figure(title = \"EL HUB ECONÓMICO | FORMACIÓN BURTA DE CAPITAL FIJO (% PBI): PAÍSES SELECTOS\",\n",
    "           x_axis_label = \"Año\", \n",
    "           plot_height  = 400,\n",
    "           plot_width   = 700)\n",
    "\n",
    "p.toolbar_location = \"right\"\n",
    "p.toolbar.autohide = True\n",
    "p1 = p.line(\"YEAR\", \"INV\", color=\"black\" , line_alpha=0.75, width=2, legend_label=\"Argentina\", muted_alpha=0.20, source=cds_arg)\n",
    "p2 = p.line(\"YEAR\", \"INV\", color=\"green\" , line_alpha=0.50, width=2, legend_label=\"Brasil\"   , muted_alpha=0.20, source=cds_bra)\n",
    "p3 = p.line(\"YEAR\", \"INV\", color=\"red\"   , line_alpha=0.50, width=2, legend_label=\"Chile\"    , muted_alpha=0.20, source=cds_chi)\n",
    "p4 = p.line(\"YEAR\", \"INV\", color=\"blue\"  , line_alpha=0.50, width=2, legend_label=\"Paraguay\" , muted_alpha=0.20, source=cds_par)\n",
    "p5 = p.line(\"YEAR\", \"INV\", color=\"purple\", line_alpha=0.50, width=2, legend_label=\"Perú\"     , muted_alpha=0.20, source=cds_per)\n",
    "p6 = p.line(\"YEAR\", \"INV\", color=\"olive\" , line_alpha=0.50, width=2, legend_label=\"Méjico\"   , muted_alpha=0.20, source=cds_mex)\n",
    "\n",
    "p.legend.location     = \"top_right\"\n",
    "p.legend.orientation  = \"horizontal\"\n",
    "p.legend.click_policy = \"mute\"\n",
    "show(p)"
   ]
  },
  {
   "cell_type": "code",
   "execution_count": null,
   "id": "55b9c9de-daa6-416f-8fd2-3c52cd800051",
   "metadata": {},
   "outputs": [],
   "source": [
    "\"|EXPORT .PNG FILE|\"\n",
    "\n",
    "export_png(p, filename=\"INV_Argentina.png\")"
   ]
  },
  {
   "cell_type": "code",
   "execution_count": null,
   "id": "67d36107-615b-41a3-89f2-5ecd4b380e93",
   "metadata": {},
   "outputs": [],
   "source": [
    "\"|# CREATE HTML FILE|\"\n",
    "\n",
    "output_file(filename=\"INV_Comparado.html\", title=\"INV Comparado (%PBI)\")\n",
    "save(p)"
   ]
  },
  {
   "cell_type": "code",
   "execution_count": 22,
   "id": "2cb73802-f588-4b4e-85fd-4f6db53162e3",
   "metadata": {},
   "outputs": [],
   "source": [
    "\"|CREATE JSON FILE|\"\n",
    "import json\n",
    "import bokeh.embed\n",
    "\n",
    "from bokeh.embed import json_item\n",
    "\n",
    "j = json.dumps(json_item(p, \"INV_Comparado\"))\n",
    "with open(\"01.09_INV_Comparado.json\", \"w\") as fp:\n",
    "    json.dump(j, fp)"
   ]
  }
 ],
 "metadata": {
  "interpreter": {
   "hash": "67f5e3deb3d1187721f1897673cbf480ee531fe068877b6e0cbed7fdb83e5983"
  },
  "kernelspec": {
   "display_name": "Python 3",
   "language": "python",
   "name": "python3"
  },
  "language_info": {
   "codemirror_mode": {
    "name": "ipython",
    "version": 3
   },
   "file_extension": ".py",
   "mimetype": "text/x-python",
   "name": "python",
   "nbconvert_exporter": "python",
   "pygments_lexer": "ipython3",
   "version": "3.8.8"
  }
 },
 "nbformat": 4,
 "nbformat_minor": 5
}
