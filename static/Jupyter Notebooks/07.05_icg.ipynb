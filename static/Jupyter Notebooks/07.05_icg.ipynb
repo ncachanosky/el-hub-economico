{
 "cells": [
  {
   "cell_type": "code",
   "execution_count": 1,
   "metadata": {},
   "outputs": [],
   "source": [
    "\"|IMPORT PACKAGES|\"\n",
    "import numpy              as np\n",
    "import pandas             as pd\n",
    "import datetime\n",
    "from   bokeh.plotting     import show, figure, output_file, save\n",
    "from   bokeh.io           import show, output_notebook, curdoc, export_png\n",
    "from   bokeh.models       import ColumnDataSource,LinearAxis, Range1d, NumeralTickFormatter, LabelSet, Label, BoxAnnotation, DatetimeTickFormatter, Text, Span\n",
    "from   bokeh.models.tools import HoverTool\n",
    "from   bokeh.models       import Arrow, NormalHead, OpenHead, VeeHead\n",
    "from   bokeh.transform    import dodge\n",
    "from   bokeh.layouts      import gridplot\n",
    "from   bokeh.layouts      import column\n",
    "from   datetime           import datetime as dt"
   ]
  },
  {
   "cell_type": "code",
   "execution_count": 2,
   "metadata": {},
   "outputs": [],
   "source": [
    "\"|IMPORT DATA|\"\n",
    "path = r'https://github.com/ncachanosky/research/blob/master/Economic%20Series/'\n",
    "file = r'Resumen%20Estadistico%20-%20Argentina.xlsx?raw=true'\n",
    "IO   = path + file\n",
    "\n",
    "sheet = 'MONTHLY'\n",
    "\n",
    "data = pd.read_excel(IO, sheet_name = sheet, usecols=\"B,KQ\", skiprows=2, engine='openpyxl') # Be patient...\n",
    "\n",
    "data = data.drop(data.index[0:168])\n",
    "\n"
   ]
  },
  {
   "cell_type": "code",
   "execution_count": 3,
   "metadata": {},
   "outputs": [
    {
     "data": {
      "text/html": [
       "<div>\n",
       "<style scoped>\n",
       "    .dataframe tbody tr th:only-of-type {\n",
       "        vertical-align: middle;\n",
       "    }\n",
       "\n",
       "    .dataframe tbody tr th {\n",
       "        vertical-align: top;\n",
       "    }\n",
       "\n",
       "    .dataframe thead th {\n",
       "        text-align: right;\n",
       "    }\n",
       "</style>\n",
       "<table border=\"1\" class=\"dataframe\">\n",
       "  <thead>\n",
       "    <tr style=\"text-align: right;\">\n",
       "      <th></th>\n",
       "      <th>MONTH</th>\n",
       "      <th>ICG</th>\n",
       "    </tr>\n",
       "  </thead>\n",
       "  <tbody>\n",
       "    <tr>\n",
       "      <th>168</th>\n",
       "      <td>2002-01-31</td>\n",
       "      <td>1.357</td>\n",
       "    </tr>\n",
       "    <tr>\n",
       "      <th>169</th>\n",
       "      <td>2002-02-28</td>\n",
       "      <td>0.983</td>\n",
       "    </tr>\n",
       "    <tr>\n",
       "      <th>170</th>\n",
       "      <td>2002-03-31</td>\n",
       "      <td>0.862</td>\n",
       "    </tr>\n",
       "    <tr>\n",
       "      <th>171</th>\n",
       "      <td>2002-04-30</td>\n",
       "      <td>0.782</td>\n",
       "    </tr>\n",
       "    <tr>\n",
       "      <th>172</th>\n",
       "      <td>2002-05-31</td>\n",
       "      <td>0.467</td>\n",
       "    </tr>\n",
       "    <tr>\n",
       "      <th>...</th>\n",
       "      <td>...</td>\n",
       "      <td>...</td>\n",
       "    </tr>\n",
       "    <tr>\n",
       "      <th>406</th>\n",
       "      <td>2021-11-30</td>\n",
       "      <td>NaN</td>\n",
       "    </tr>\n",
       "    <tr>\n",
       "      <th>407</th>\n",
       "      <td>2021-12-31</td>\n",
       "      <td>NaN</td>\n",
       "    </tr>\n",
       "    <tr>\n",
       "      <th>408</th>\n",
       "      <td>NaT</td>\n",
       "      <td>NaN</td>\n",
       "    </tr>\n",
       "    <tr>\n",
       "      <th>409</th>\n",
       "      <td>NaT</td>\n",
       "      <td>NaN</td>\n",
       "    </tr>\n",
       "    <tr>\n",
       "      <th>410</th>\n",
       "      <td>NaT</td>\n",
       "      <td>NaN</td>\n",
       "    </tr>\n",
       "  </tbody>\n",
       "</table>\n",
       "<p>243 rows × 2 columns</p>\n",
       "</div>"
      ],
      "text/plain": [
       "         MONTH    ICG\n",
       "168 2002-01-31  1.357\n",
       "169 2002-02-28  0.983\n",
       "170 2002-03-31  0.862\n",
       "171 2002-04-30  0.782\n",
       "172 2002-05-31  0.467\n",
       "..         ...    ...\n",
       "406 2021-11-30    NaN\n",
       "407 2021-12-31    NaN\n",
       "408        NaT    NaN\n",
       "409        NaT    NaN\n",
       "410        NaT    NaN\n",
       "\n",
       "[243 rows x 2 columns]"
      ]
     },
     "execution_count": 3,
     "metadata": {},
     "output_type": "execute_result"
    }
   ],
   "source": [
    "\"|CHECK DATA|\"\n",
    "data"
   ]
  },
  {
   "cell_type": "code",
   "execution_count": 10,
   "metadata": {},
   "outputs": [
    {
     "data": {
      "text/html": [
       "\n",
       "    <div class=\"bk-root\">\n",
       "        <a href=\"https://bokeh.org\" target=\"_blank\" class=\"bk-logo bk-logo-small bk-logo-notebook\"></a>\n",
       "        <span id=\"2246\">Loading BokehJS ...</span>\n",
       "    </div>"
      ]
     },
     "metadata": {},
     "output_type": "display_data"
    },
    {
     "data": {
      "application/javascript": "\n(function(root) {\n  function now() {\n    return new Date();\n  }\n\n  var force = true;\n\n  if (typeof root._bokeh_onload_callbacks === \"undefined\" || force === true) {\n    root._bokeh_onload_callbacks = [];\n    root._bokeh_is_loading = undefined;\n  }\n\n  var JS_MIME_TYPE = 'application/javascript';\n  var HTML_MIME_TYPE = 'text/html';\n  var EXEC_MIME_TYPE = 'application/vnd.bokehjs_exec.v0+json';\n  var CLASS_NAME = 'output_bokeh rendered_html';\n\n  /**\n   * Render data to the DOM node\n   */\n  function render(props, node) {\n    var script = document.createElement(\"script\");\n    node.appendChild(script);\n  }\n\n  /**\n   * Handle when an output is cleared or removed\n   */\n  function handleClearOutput(event, handle) {\n    var cell = handle.cell;\n\n    var id = cell.output_area._bokeh_element_id;\n    var server_id = cell.output_area._bokeh_server_id;\n    // Clean up Bokeh references\n    if (id != null && id in Bokeh.index) {\n      Bokeh.index[id].model.document.clear();\n      delete Bokeh.index[id];\n    }\n\n    if (server_id !== undefined) {\n      // Clean up Bokeh references\n      var cmd = \"from bokeh.io.state import curstate; print(curstate().uuid_to_server['\" + server_id + \"'].get_sessions()[0].document.roots[0]._id)\";\n      cell.notebook.kernel.execute(cmd, {\n        iopub: {\n          output: function(msg) {\n            var id = msg.content.text.trim();\n            if (id in Bokeh.index) {\n              Bokeh.index[id].model.document.clear();\n              delete Bokeh.index[id];\n            }\n          }\n        }\n      });\n      // Destroy server and session\n      var cmd = \"import bokeh.io.notebook as ion; ion.destroy_server('\" + server_id + \"')\";\n      cell.notebook.kernel.execute(cmd);\n    }\n  }\n\n  /**\n   * Handle when a new output is added\n   */\n  function handleAddOutput(event, handle) {\n    var output_area = handle.output_area;\n    var output = handle.output;\n\n    // limit handleAddOutput to display_data with EXEC_MIME_TYPE content only\n    if ((output.output_type != \"display_data\") || (!Object.prototype.hasOwnProperty.call(output.data, EXEC_MIME_TYPE))) {\n      return\n    }\n\n    var toinsert = output_area.element.find(\".\" + CLASS_NAME.split(' ')[0]);\n\n    if (output.metadata[EXEC_MIME_TYPE][\"id\"] !== undefined) {\n      toinsert[toinsert.length - 1].firstChild.textContent = output.data[JS_MIME_TYPE];\n      // store reference to embed id on output_area\n      output_area._bokeh_element_id = output.metadata[EXEC_MIME_TYPE][\"id\"];\n    }\n    if (output.metadata[EXEC_MIME_TYPE][\"server_id\"] !== undefined) {\n      var bk_div = document.createElement(\"div\");\n      bk_div.innerHTML = output.data[HTML_MIME_TYPE];\n      var script_attrs = bk_div.children[0].attributes;\n      for (var i = 0; i < script_attrs.length; i++) {\n        toinsert[toinsert.length - 1].firstChild.setAttribute(script_attrs[i].name, script_attrs[i].value);\n        toinsert[toinsert.length - 1].firstChild.textContent = bk_div.children[0].textContent\n      }\n      // store reference to server id on output_area\n      output_area._bokeh_server_id = output.metadata[EXEC_MIME_TYPE][\"server_id\"];\n    }\n  }\n\n  function register_renderer(events, OutputArea) {\n\n    function append_mime(data, metadata, element) {\n      // create a DOM node to render to\n      var toinsert = this.create_output_subarea(\n        metadata,\n        CLASS_NAME,\n        EXEC_MIME_TYPE\n      );\n      this.keyboard_manager.register_events(toinsert);\n      // Render to node\n      var props = {data: data, metadata: metadata[EXEC_MIME_TYPE]};\n      render(props, toinsert[toinsert.length - 1]);\n      element.append(toinsert);\n      return toinsert\n    }\n\n    /* Handle when an output is cleared or removed */\n    events.on('clear_output.CodeCell', handleClearOutput);\n    events.on('delete.Cell', handleClearOutput);\n\n    /* Handle when a new output is added */\n    events.on('output_added.OutputArea', handleAddOutput);\n\n    /**\n     * Register the mime type and append_mime function with output_area\n     */\n    OutputArea.prototype.register_mime_type(EXEC_MIME_TYPE, append_mime, {\n      /* Is output safe? */\n      safe: true,\n      /* Index of renderer in `output_area.display_order` */\n      index: 0\n    });\n  }\n\n  // register the mime type if in Jupyter Notebook environment and previously unregistered\n  if (root.Jupyter !== undefined) {\n    var events = require('base/js/events');\n    var OutputArea = require('notebook/js/outputarea').OutputArea;\n\n    if (OutputArea.prototype.mime_types().indexOf(EXEC_MIME_TYPE) == -1) {\n      register_renderer(events, OutputArea);\n    }\n  }\n\n  \n  if (typeof (root._bokeh_timeout) === \"undefined\" || force === true) {\n    root._bokeh_timeout = Date.now() + 5000;\n    root._bokeh_failed_load = false;\n  }\n\n  var NB_LOAD_WARNING = {'data': {'text/html':\n     \"<div style='background-color: #fdd'>\\n\"+\n     \"<p>\\n\"+\n     \"BokehJS does not appear to have successfully loaded. If loading BokehJS from CDN, this \\n\"+\n     \"may be due to a slow or bad network connection. Possible fixes:\\n\"+\n     \"</p>\\n\"+\n     \"<ul>\\n\"+\n     \"<li>re-rerun `output_notebook()` to attempt to load from CDN again, or</li>\\n\"+\n     \"<li>use INLINE resources instead, as so:</li>\\n\"+\n     \"</ul>\\n\"+\n     \"<code>\\n\"+\n     \"from bokeh.resources import INLINE\\n\"+\n     \"output_notebook(resources=INLINE)\\n\"+\n     \"</code>\\n\"+\n     \"</div>\"}};\n\n  function display_loaded() {\n    var el = document.getElementById(\"2246\");\n    if (el != null) {\n      el.textContent = \"BokehJS is loading...\";\n    }\n    if (root.Bokeh !== undefined) {\n      if (el != null) {\n        el.textContent = \"BokehJS \" + root.Bokeh.version + \" successfully loaded.\";\n      }\n    } else if (Date.now() < root._bokeh_timeout) {\n      setTimeout(display_loaded, 100)\n    }\n  }\n\n\n  function run_callbacks() {\n    try {\n      root._bokeh_onload_callbacks.forEach(function(callback) {\n        if (callback != null)\n          callback();\n      });\n    } finally {\n      delete root._bokeh_onload_callbacks\n    }\n    console.debug(\"Bokeh: all callbacks have finished\");\n  }\n\n  function load_libs(css_urls, js_urls, callback) {\n    if (css_urls == null) css_urls = [];\n    if (js_urls == null) js_urls = [];\n\n    root._bokeh_onload_callbacks.push(callback);\n    if (root._bokeh_is_loading > 0) {\n      console.debug(\"Bokeh: BokehJS is being loaded, scheduling callback at\", now());\n      return null;\n    }\n    if (js_urls == null || js_urls.length === 0) {\n      run_callbacks();\n      return null;\n    }\n    console.debug(\"Bokeh: BokehJS not loaded, scheduling load and callback at\", now());\n    root._bokeh_is_loading = css_urls.length + js_urls.length;\n\n    function on_load() {\n      root._bokeh_is_loading--;\n      if (root._bokeh_is_loading === 0) {\n        console.debug(\"Bokeh: all BokehJS libraries/stylesheets loaded\");\n        run_callbacks()\n      }\n    }\n\n    function on_error(url) {\n      console.error(\"failed to load \" + url);\n    }\n\n    for (let i = 0; i < css_urls.length; i++) {\n      const url = css_urls[i];\n      const element = document.createElement(\"link\");\n      element.onload = on_load;\n      element.onerror = on_error.bind(null, url);\n      element.rel = \"stylesheet\";\n      element.type = \"text/css\";\n      element.href = url;\n      console.debug(\"Bokeh: injecting link tag for BokehJS stylesheet: \", url);\n      document.body.appendChild(element);\n    }\n\n    const hashes = {\"https://cdn.bokeh.org/bokeh/release/bokeh-2.3.3.min.js\": \"dM3QQsP+wXdHg42wTqW85BjZQdLNNIXqlPw/BgKoExPmTG7ZLML4EGqLMfqHT6ON\", \"https://cdn.bokeh.org/bokeh/release/bokeh-tables-2.3.3.min.js\": \"8x57I4YuIfu8XyZfFo0XVr2WAT8EK4rh/uDe3wF7YuW2FNUSNEpJbsPaB1nJ2fz2\", \"https://cdn.bokeh.org/bokeh/release/bokeh-widgets-2.3.3.min.js\": \"3QTqdz9LyAm2i0sG5XTePsHec3UHWwVsrOL68SYRoAXsafvfAyqtQ+h440+qIBhS\"};\n\n    for (let i = 0; i < js_urls.length; i++) {\n      const url = js_urls[i];\n      const element = document.createElement('script');\n      element.onload = on_load;\n      element.onerror = on_error.bind(null, url);\n      element.async = false;\n      element.src = url;\n      if (url in hashes) {\n        element.crossOrigin = \"anonymous\";\n        element.integrity = \"sha384-\" + hashes[url];\n      }\n      console.debug(\"Bokeh: injecting script tag for BokehJS library: \", url);\n      document.head.appendChild(element);\n    }\n  };\n\n  function inject_raw_css(css) {\n    const element = document.createElement(\"style\");\n    element.appendChild(document.createTextNode(css));\n    document.body.appendChild(element);\n  }\n\n  \n  var js_urls = [\"https://cdn.bokeh.org/bokeh/release/bokeh-2.3.3.min.js\", \"https://cdn.bokeh.org/bokeh/release/bokeh-widgets-2.3.3.min.js\", \"https://cdn.bokeh.org/bokeh/release/bokeh-tables-2.3.3.min.js\"];\n  var css_urls = [];\n  \n\n  var inline_js = [\n    function(Bokeh) {\n      Bokeh.set_log_level(\"info\");\n    },\n    function(Bokeh) {\n    \n    \n    }\n  ];\n\n  function run_inline_js() {\n    \n    if (root.Bokeh !== undefined || force === true) {\n      \n    for (var i = 0; i < inline_js.length; i++) {\n      inline_js[i].call(root, root.Bokeh);\n    }\n    if (force === true) {\n        display_loaded();\n      }} else if (Date.now() < root._bokeh_timeout) {\n      setTimeout(run_inline_js, 100);\n    } else if (!root._bokeh_failed_load) {\n      console.log(\"Bokeh: BokehJS failed to load within specified timeout.\");\n      root._bokeh_failed_load = true;\n    } else if (force !== true) {\n      var cell = $(document.getElementById(\"2246\")).parents('.cell').data().cell;\n      cell.output_area.append_execute_result(NB_LOAD_WARNING)\n    }\n\n  }\n\n  if (root._bokeh_is_loading === 0) {\n    console.debug(\"Bokeh: BokehJS loaded, going straight to plotting\");\n    run_inline_js();\n  } else {\n    load_libs(css_urls, js_urls, function() {\n      console.debug(\"Bokeh: BokehJS plotting callback run at\", now());\n      run_inline_js();\n    });\n  }\n}(window));",
      "application/vnd.bokehjs_load.v0+json": ""
     },
     "metadata": {},
     "output_type": "display_data"
    },
    {
     "data": {
      "text/html": [
       "\n",
       "\n",
       "\n",
       "\n",
       "\n",
       "\n",
       "  <div class=\"bk-root\" id=\"04c9b46c-0e81-4e4c-a9e4-e54df2df8594\" data-root-id=\"2191\"></div>\n"
      ]
     },
     "metadata": {},
     "output_type": "display_data"
    },
    {
     "data": {
      "application/javascript": "(function(root) {\n  function embed_document(root) {\n    \n  var docs_json = {\"42960fe5-a32e-40c9-a3aa-98930a03e612\":{\"defs\":[],\"roots\":{\"references\":[{\"attributes\":{\"below\":[{\"id\":\"2202\"}],\"center\":[{\"id\":\"2205\"},{\"id\":\"2209\"},{\"id\":\"2234\"},{\"id\":\"2235\"},{\"id\":\"2236\"},{\"id\":\"2237\"},{\"id\":\"2238\"},{\"id\":\"2239\"},{\"id\":\"2240\"},{\"id\":\"2241\"},{\"id\":\"2242\"},{\"id\":\"2243\"}],\"height\":400,\"left\":[{\"id\":\"2206\"}],\"renderers\":[{\"id\":\"2228\"}],\"title\":{\"id\":\"2192\"},\"toolbar\":{\"id\":\"2217\"},\"width\":700,\"x_range\":{\"id\":\"2194\"},\"x_scale\":{\"id\":\"2198\"},\"y_range\":{\"id\":\"2196\"},\"y_scale\":{\"id\":\"2200\"}},\"id\":\"2191\",\"subtype\":\"Figure\",\"type\":\"Plot\"},{\"attributes\":{},\"id\":\"2355\",\"type\":\"BasicTickFormatter\"},{\"attributes\":{\"end\":1635573600000.0,\"start\":1012460400000.0},\"id\":\"2194\",\"type\":\"Range1d\"},{\"attributes\":{\"line_alpha\":0.75,\"line_color\":\"firebrick\",\"line_width\":2,\"x\":{\"field\":\"MONTH\"},\"y\":{\"field\":\"ICG\"}},\"id\":\"2225\",\"type\":\"Line\"},{\"attributes\":{\"angle_units\":\"deg\",\"text\":\"C. Kirchner\",\"text_align\":\"center\",\"text_baseline\":\"middle\",\"text_font_size\":\"10pt\",\"x\":1323500400000.0,\"y\":4.7},\"id\":\"2241\",\"type\":\"Label\"},{\"attributes\":{\"days\":[1,2,3,4,5,6,7,8,9,10,11,12,13,14,15,16,17,18,19,20,21,22,23,24,25,26,27,28,29,30,31]},\"id\":\"2361\",\"type\":\"DaysTicker\"},{\"attributes\":{},\"id\":\"2198\",\"type\":\"LinearScale\"},{\"attributes\":{\"active_multi\":null,\"tools\":[{\"id\":\"2210\"},{\"id\":\"2211\"},{\"id\":\"2212\"},{\"id\":\"2213\"},{\"id\":\"2214\"},{\"id\":\"2215\"},{\"id\":\"2230\"}]},\"id\":\"2217\",\"type\":\"Toolbar\"},{\"attributes\":{\"days\":[1,4,7,10,13,16,19,22,25,28]},\"id\":\"2362\",\"type\":\"DaysTicker\"},{\"attributes\":{},\"id\":\"2200\",\"type\":\"LinearScale\"},{\"attributes\":{\"months\":[0,1,2,3,4,5,6,7,8,9,10,11]},\"id\":\"2365\",\"type\":\"MonthsTicker\"},{\"attributes\":{\"formatter\":{\"id\":\"2244\"},\"major_label_policy\":{\"id\":\"2353\"},\"ticker\":{\"id\":\"2203\"}},\"id\":\"2202\",\"type\":\"DatetimeAxis\"},{\"attributes\":{\"base\":60,\"mantissas\":[1,2,5,10,15,20,30],\"max_interval\":1800000.0,\"min_interval\":1000.0,\"num_minor_ticks\":0},\"id\":\"2359\",\"type\":\"AdaptiveTicker\"},{\"attributes\":{\"axis\":{\"id\":\"2202\"},\"ticker\":null},\"id\":\"2205\",\"type\":\"Grid\"},{\"attributes\":{\"base\":24,\"mantissas\":[1,2,4,6,8,12],\"max_interval\":43200000.0,\"min_interval\":3600000.0,\"num_minor_ticks\":0},\"id\":\"2360\",\"type\":\"AdaptiveTicker\"},{\"attributes\":{\"days\":[1,8,15,22]},\"id\":\"2363\",\"type\":\"DaysTicker\"},{\"attributes\":{\"source\":{\"id\":\"2190\"}},\"id\":\"2229\",\"type\":\"CDSView\"},{\"attributes\":{},\"id\":\"2371\",\"type\":\"UnionRenderers\"},{\"attributes\":{\"end\":5},\"id\":\"2196\",\"type\":\"Range1d\"},{\"attributes\":{\"line_alpha\":0.1,\"line_color\":\"firebrick\",\"line_width\":2,\"x\":{\"field\":\"MONTH\"},\"y\":{\"field\":\"ICG\"}},\"id\":\"2227\",\"type\":\"Line\"},{\"attributes\":{},\"id\":\"2372\",\"type\":\"Selection\"},{\"attributes\":{},\"id\":\"2353\",\"type\":\"AllLabels\"},{\"attributes\":{\"line_alpha\":0.1,\"line_color\":\"firebrick\",\"line_width\":2,\"x\":{\"field\":\"MONTH\"},\"y\":{\"field\":\"ICG\"}},\"id\":\"2226\",\"type\":\"Line\"},{\"attributes\":{\"bottom_units\":\"screen\",\"fill_alpha\":0.5,\"fill_color\":\"lightgrey\",\"left_units\":\"screen\",\"level\":\"overlay\",\"line_alpha\":1.0,\"line_color\":\"black\",\"line_dash\":[4,4],\"line_width\":2,\"right_units\":\"screen\",\"syncable\":false,\"top_units\":\"screen\"},\"id\":\"2216\",\"type\":\"BoxAnnotation\"},{\"attributes\":{\"days\":[1,15]},\"id\":\"2364\",\"type\":\"DaysTicker\"},{\"attributes\":{\"fill_alpha\":0.1,\"fill_color\":\"blue\",\"left\":1575961200000.0,\"line_color\":\"black\",\"right\":1619762400000.0},\"id\":\"2238\",\"type\":\"BoxAnnotation\"},{\"attributes\":{\"months\":[0,2,4,6,8,10]},\"id\":\"2366\",\"type\":\"MonthsTicker\"},{\"attributes\":{},\"id\":\"2356\",\"type\":\"AllLabels\"},{\"attributes\":{\"fill_alpha\":0.1,\"fill_color\":\"blue\",\"left\":1009954800000.0,\"line_color\":\"black\",\"right\":1053842400000.0},\"id\":\"2234\",\"type\":\"BoxAnnotation\"},{\"attributes\":{\"mantissas\":[1,2,5],\"max_interval\":500.0,\"num_minor_ticks\":0},\"id\":\"2358\",\"type\":\"AdaptiveTicker\"},{\"attributes\":{\"formatter\":{\"id\":\"2355\"},\"major_label_policy\":{\"id\":\"2356\"},\"ticker\":{\"id\":\"2207\"}},\"id\":\"2206\",\"type\":\"LinearAxis\"},{\"attributes\":{\"angle_units\":\"deg\",\"text\":\"N. Kirchner\",\"text_align\":\"center\",\"text_baseline\":\"middle\",\"text_font_size\":\"10pt\",\"x\":1125556200000.0,\"y\":4.7},\"id\":\"2240\",\"type\":\"Label\"},{\"attributes\":{\"months\":[0,6]},\"id\":\"2368\",\"type\":\"MonthsTicker\"},{\"attributes\":{\"text\":\"EL HUB ECON\\u00d3MICO | \\u00cdNDICE DE CONFIANZA EN EL GOBIERNO (0 - 5)\"},\"id\":\"2192\",\"type\":\"Title\"},{\"attributes\":{\"fill_alpha\":0.1,\"fill_color\":\"blue\",\"left\":1197270000000.0,\"line_color\":\"black\",\"right\":1449730800000.0},\"id\":\"2236\",\"type\":\"BoxAnnotation\"},{\"attributes\":{\"angle_units\":\"deg\",\"text\":\"Macri\",\"text_align\":\"center\",\"text_baseline\":\"middle\",\"text_font_size\":\"10pt\",\"x\":1512846000000.0,\"y\":4.7},\"id\":\"2242\",\"type\":\"Label\"},{\"attributes\":{\"months\":[\"%b %Y\"]},\"id\":\"2244\",\"type\":\"DatetimeTickFormatter\"},{\"attributes\":{\"months\":[0,4,8]},\"id\":\"2367\",\"type\":\"MonthsTicker\"},{\"attributes\":{\"data\":{\"ICG\":{\"__ndarray__\":\"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\",\"dtype\":\"float64\",\"order\":\"little\",\"shape\":[243]},\"MONTH\":{\"__ndarray__\":\"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\",\"dtype\":\"float64\",\"order\":\"little\",\"shape\":[243]},\"index\":[168,169,170,171,172,173,174,175,176,177,178,179,180,181,182,183,184,185,186,187,188,189,190,191,192,193,194,195,196,197,198,199,200,201,202,203,204,205,206,207,208,209,210,211,212,213,214,215,216,217,218,219,220,221,222,223,224,225,226,227,228,229,230,231,232,233,234,235,236,237,238,239,240,241,242,243,244,245,246,247,248,249,250,251,252,253,254,255,256,257,258,259,260,261,262,263,264,265,266,267,268,269,270,271,272,273,274,275,276,277,278,279,280,281,282,283,284,285,286,287,288,289,290,291,292,293,294,295,296,297,298,299,300,301,302,303,304,305,306,307,308,309,310,311,312,313,314,315,316,317,318,319,320,321,322,323,324,325,326,327,328,329,330,331,332,333,334,335,336,337,338,339,340,341,342,343,344,345,346,347,348,349,350,351,352,353,354,355,356,357,358,359,360,361,362,363,364,365,366,367,368,369,370,371,372,373,374,375,376,377,378,379,380,381,382,383,384,385,386,387,388,389,390,391,392,393,394,395,396,397,398,399,400,401,402,403,404,405,406,407,408,409,410]},\"selected\":{\"id\":\"2372\"},\"selection_policy\":{\"id\":\"2371\"}},\"id\":\"2190\",\"type\":\"ColumnDataSource\"},{\"attributes\":{\"angle\":90,\"angle_units\":\"deg\",\"text\":\"Duhalde\",\"text_align\":\"right\",\"text_baseline\":\"middle\",\"text_font_size\":\"10pt\",\"x\":1031898600000.0,\"y\":4.7},\"id\":\"2239\",\"type\":\"Label\"},{\"attributes\":{\"fill_alpha\":0.1,\"fill_color\":\"yellow\",\"left\":1449730800000.0,\"line_color\":\"black\",\"right\":1575961200000.0},\"id\":\"2237\",\"type\":\"BoxAnnotation\"},{\"attributes\":{\"angle_units\":\"deg\",\"text\":\"AF\",\"text_align\":\"center\",\"text_baseline\":\"middle\",\"text_font_size\":\"10pt\",\"x\":1597861800000.0,\"y\":4.7},\"id\":\"2243\",\"type\":\"Label\"},{\"attributes\":{},\"id\":\"2215\",\"type\":\"HelpTool\"},{\"attributes\":{},\"id\":\"2214\",\"type\":\"ResetTool\"},{\"attributes\":{\"data_source\":{\"id\":\"2190\"},\"glyph\":{\"id\":\"2225\"},\"hover_glyph\":null,\"muted_glyph\":{\"id\":\"2227\"},\"nonselection_glyph\":{\"id\":\"2226\"},\"view\":{\"id\":\"2229\"}},\"id\":\"2228\",\"type\":\"GlyphRenderer\"},{\"attributes\":{\"overlay\":{\"id\":\"2216\"}},\"id\":\"2212\",\"type\":\"BoxZoomTool\"},{\"attributes\":{},\"id\":\"2213\",\"type\":\"SaveTool\"},{\"attributes\":{\"callback\":null,\"tooltips\":[[\"ICG\",\"@ICG{0.00}\"]]},\"id\":\"2230\",\"type\":\"HoverTool\"},{\"attributes\":{\"fill_alpha\":0.1,\"fill_color\":\"blue\",\"left\":1053842400000.0,\"line_color\":\"black\",\"right\":1197270000000.0},\"id\":\"2235\",\"type\":\"BoxAnnotation\"},{\"attributes\":{\"num_minor_ticks\":5,\"tickers\":[{\"id\":\"2358\"},{\"id\":\"2359\"},{\"id\":\"2360\"},{\"id\":\"2361\"},{\"id\":\"2362\"},{\"id\":\"2363\"},{\"id\":\"2364\"},{\"id\":\"2365\"},{\"id\":\"2366\"},{\"id\":\"2367\"},{\"id\":\"2368\"},{\"id\":\"2369\"}]},\"id\":\"2203\",\"type\":\"DatetimeTicker\"},{\"attributes\":{},\"id\":\"2369\",\"type\":\"YearsTicker\"},{\"attributes\":{},\"id\":\"2210\",\"type\":\"PanTool\"},{\"attributes\":{},\"id\":\"2211\",\"type\":\"WheelZoomTool\"},{\"attributes\":{},\"id\":\"2207\",\"type\":\"BasicTicker\"},{\"attributes\":{\"axis\":{\"id\":\"2206\"},\"dimension\":1,\"ticker\":null},\"id\":\"2209\",\"type\":\"Grid\"}],\"root_ids\":[\"2191\"]},\"title\":\"Bokeh Application\",\"version\":\"2.3.3\"}};\n  var render_items = [{\"docid\":\"42960fe5-a32e-40c9-a3aa-98930a03e612\",\"root_ids\":[\"2191\"],\"roots\":{\"2191\":\"04c9b46c-0e81-4e4c-a9e4-e54df2df8594\"}}];\n  root.Bokeh.embed.embed_items_notebook(docs_json, render_items);\n\n  }\n  if (root.Bokeh !== undefined) {\n    embed_document(root);\n  } else {\n    var attempts = 0;\n    var timer = setInterval(function(root) {\n      if (root.Bokeh !== undefined) {\n        clearInterval(timer);\n        embed_document(root);\n      } else {\n        attempts++;\n        if (attempts > 100) {\n          clearInterval(timer);\n          console.log(\"Bokeh: ERROR: Unable to run BokehJS code because BokehJS library is missing\");\n        }\n      }\n    }, 10, root)\n  }\n})(window);",
      "application/vnd.bokehjs_exec.v0+json": ""
     },
     "metadata": {
      "application/vnd.bokehjs_exec.v0+json": {
       "id": "2191"
      }
     },
     "output_type": "display_data"
    }
   ],
   "source": [
    "\"|BUILD PLOT|\"\n",
    "\n",
    "cds = ColumnDataSource(data)\n",
    "\n",
    "#BUILD FIGURE 1\n",
    "p = figure(title = \"EL HUB ECONÓMICO | ÍNDICE DE CONFIANZA EN EL GOBIERNO (0 - 5)\",\n",
    "           y_range      = (0, 5)    ,\n",
    "           x_axis_type  = \"datetime\",\n",
    "           x_range      = (dt(2002, 1,31).timestamp()*1000, dt(2021, 10,30).timestamp()*1000),\n",
    "           plot_height  = 400,\n",
    "           plot_width   = 700)\n",
    "\n",
    "\n",
    "#AXIS 1 (LEFT)\n",
    "p.line('MONTH', 'ICG', color='firebrick', line_alpha=0.75, width=2, muted_alpha=0.1, source=cds)\n",
    "\n",
    "p.add_tools(HoverTool(tooltips = [(\"ICG\", \"@ICG{0.00}\")]))\n",
    "\n",
    "#ADD NOTES\n",
    "#Presidents' shades and names\n",
    "Menem     = BoxAnnotation(left=dt(1989, 6, 8).timestamp()*1000, right=dt(1999,12,10).timestamp()*1000, line_color=\"black\", fill_color=\"blue\"  , fill_alpha=0.1)\n",
    "DeLaRua   = BoxAnnotation(left=dt(1999,12,10).timestamp()*1000, right=dt(2001,12,20).timestamp()*1000, line_color=\"black\", fill_color=\"red\"   , fill_alpha=0.1)\n",
    "Duhalde   = BoxAnnotation(left=dt(2002, 1, 2).timestamp()*1000, right=dt(2003, 5,25).timestamp()*1000, line_color=\"black\", fill_color=\"blue\"  , fill_alpha=0.1)\n",
    "NKirchner = BoxAnnotation(left=dt(2003, 5,25).timestamp()*1000, right=dt(2007,12,10).timestamp()*1000, line_color=\"black\" ,fill_color=\"blue\"  , fill_alpha=0.1)\n",
    "CFK       = BoxAnnotation(left=dt(2007,12,10).timestamp()*1000, right=dt(2015,12,10).timestamp()*1000, line_color=\"black\" ,fill_color=\"blue\"  , fill_alpha=0.1)\n",
    "Macri     = BoxAnnotation(left=dt(2015,12,10).timestamp()*1000, right=dt(2019,12,10).timestamp()*1000, line_color=\"black\", fill_color=\"yellow\", fill_alpha=0.1)\n",
    "Fernandez = BoxAnnotation(left=dt(2019,12,10).timestamp()*1000, right=dt(2021,10,30).timestamp()*1000, line_color=\"black\", fill_color=\"blue\"  , fill_alpha=0.1)\n",
    "\n",
    "x1 = (dt(1993, 1, 1).timestamp()*1000 + dt(1999,12,10).timestamp()*1000) / 2\n",
    "x2 = (dt(1999,12,10).timestamp()*1000 + dt(2001,12,20).timestamp()*1000) / 2\n",
    "x3 = (dt(2002, 1, 2).timestamp()*1000 + dt(2003, 5,25).timestamp()*1000) / 2\n",
    "x4 = (dt(2003, 5,25).timestamp()*1000 + dt(2007,12,10).timestamp()*1000) / 2\n",
    "x5 = (dt(2007,12,10).timestamp()*1000 + dt(2015,12,10).timestamp()*1000) / 2\n",
    "x6 = (dt(2015,12,10).timestamp()*1000 + dt(2019,12,10).timestamp()*1000) / 2\n",
    "x7 = (dt(2019,12,10).timestamp()*1000 + dt(2021,10,30).timestamp()*1000) / 2\n",
    "\n",
    "Duhalde_N   = Label(x=x3, y=4.7, text=\"Duhalde\"    , text_font_size=\"10pt\", text_align=\"right\" , text_baseline=\"middle\", angle_units=\"deg\", angle=90)\n",
    "NKirchner_N = Label(x=x4, y=4.7, text=\"N. Kirchner\", text_font_size=\"10pt\", text_align=\"center\", text_baseline=\"middle\", angle_units=\"deg\", angle= 0)\n",
    "CFK_N       = Label(x=x5, y=4.7, text=\"C. Kirchner\", text_font_size=\"10pt\", text_align=\"center\", text_baseline=\"middle\", angle_units=\"deg\", angle= 0)\n",
    "Macri_N     = Label(x=x6, y=4.7, text=\"Macri\"      , text_font_size=\"10pt\", text_align=\"center\", text_baseline=\"middle\", angle_units=\"deg\", angle= 0)\n",
    "Fernandez_N = Label(x=x7, y=4.7, text=\"AF\"         , text_font_size=\"10pt\", text_align=\"center\", text_baseline=\"middle\", angle_units=\"deg\", angle= 0)\n",
    "\n",
    "p.add_layout(Duhalde)\n",
    "p.add_layout(NKirchner)\n",
    "p.add_layout(CFK)\n",
    "p.add_layout(Macri)\n",
    "p.add_layout(Fernandez)\n",
    "\n",
    "p.add_layout(Duhalde_N)\n",
    "p.add_layout(NKirchner_N)\n",
    "p.add_layout(CFK_N)\n",
    "p.add_layout(Macri_N)\n",
    "p.add_layout(Fernandez_N)\n",
    "\n",
    "#LEGEND\n",
    "p.xaxis[0].formatter = DatetimeTickFormatter(months='%b %Y')\n",
    "output_notebook()\n",
    "show(p)"
   ]
  },
  {
   "cell_type": "code",
   "execution_count": null,
   "metadata": {},
   "outputs": [],
   "source": [
    "\"|EXPORT .PNG FILE|\"\n",
    "\n",
    "export_png(p, filename=\"ICG.png\")"
   ]
  },
  {
   "cell_type": "code",
   "execution_count": null,
   "metadata": {},
   "outputs": [],
   "source": [
    "\"|# CREATE HTML FILE|\"\n",
    "\n",
    "output_file(filename=\"ICG.html\", title=\"ICG\")\n",
    "save(p)"
   ]
  },
  {
   "cell_type": "code",
   "execution_count": 11,
   "metadata": {},
   "outputs": [],
   "source": [
    "\"|CREATE JSON FILE|\"\n",
    "import json\n",
    "import bokeh.embed\n",
    "\n",
    "from bokeh.embed import json_item\n",
    "\n",
    "j = json.dumps(json_item(p, \"icg\"))\n",
    "with open(\"07.05_icg.json\", \"w\") as fp:\n",
    "    json.dump(j, fp)"
   ]
  }
 ],
 "metadata": {
  "interpreter": {
   "hash": "67f5e3deb3d1187721f1897673cbf480ee531fe068877b6e0cbed7fdb83e5983"
  },
  "kernelspec": {
   "display_name": "Python 3.8.8 64-bit ('base': conda)",
   "name": "python3"
  },
  "language_info": {
   "codemirror_mode": {
    "name": "ipython",
    "version": 3
   },
   "file_extension": ".py",
   "mimetype": "text/x-python",
   "name": "python",
   "nbconvert_exporter": "python",
   "pygments_lexer": "ipython3",
   "version": "3.8.8"
  }
 },
 "nbformat": 4,
 "nbformat_minor": 5
}
