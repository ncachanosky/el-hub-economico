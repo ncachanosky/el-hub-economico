{
 "cells": [
  {
   "cell_type": "code",
   "execution_count": 1,
   "metadata": {},
   "outputs": [],
   "source": [
    "\"|IMPORT PACKAGES|\"\n",
    "import numpy              as np\n",
    "import pandas             as pd\n",
    "import datetime\n",
    "from   bokeh.plotting     import show, figure, output_file, save\n",
    "from   bokeh.io           import show, output_notebook, curdoc, export_png\n",
    "from   bokeh.models       import ColumnDataSource,LinearAxis, Range1d, NumeralTickFormatter, LabelSet, Label, BoxAnnotation, DatetimeTickFormatter, Text, Span\n",
    "from   bokeh.models.tools import HoverTool\n",
    "from   bokeh.models       import Arrow, NormalHead, OpenHead, VeeHead\n",
    "from   bokeh.transform    import dodge\n",
    "from   datetime           import datetime as dt"
   ]
  },
  {
   "cell_type": "code",
   "execution_count": 2,
   "metadata": {},
   "outputs": [],
   "source": [
    "\"|IMPORT DATA|\"\n",
    "path = r'https://github.com/ncachanosky/research/blob/master/Economic%20Series/'\n",
    "file = r'Resumen%20Estadistico%20-%20Argentina.xlsx?raw=true'\n",
    "IO   = path + file\n",
    "\n",
    "sheet = 'MONTHLY'\n",
    "\n",
    "data = pd.read_excel(IO, sheet_name = sheet, usecols=\"B,CH, CJ:CL\", skiprows=2, nrows=408, engine='openpyxl') # Be patient...\n",
    "\n",
    "data = data.rename(columns={\"Inflation IPC-C 12M\"           :\"INFLA\"})\n",
    "data = data.rename(columns={\"Tiempo para duplicar precios\"  :\"TIEMPO1\"})\n",
    "data = data.rename(columns={\"Tiempo para duplicar precios.1\":\"TIEMPO2\"})\n",
    "data = data.rename(columns={\"Marca duplicacion de precios\"  :\"MARCA\"})\n",
    "\n",
    "data[\"INFLA\"] = data[\"INFLA\"]*100\n",
    "\n",
    "data = data.drop(data.index[0:72])"
   ]
  },
  {
   "cell_type": "code",
   "execution_count": 3,
   "metadata": {},
   "outputs": [
    {
     "data": {
      "text/html": [
       "<div>\n",
       "<style scoped>\n",
       "    .dataframe tbody tr th:only-of-type {\n",
       "        vertical-align: middle;\n",
       "    }\n",
       "\n",
       "    .dataframe tbody tr th {\n",
       "        vertical-align: top;\n",
       "    }\n",
       "\n",
       "    .dataframe thead th {\n",
       "        text-align: right;\n",
       "    }\n",
       "</style>\n",
       "<table border=\"1\" class=\"dataframe\">\n",
       "  <thead>\n",
       "    <tr style=\"text-align: right;\">\n",
       "      <th></th>\n",
       "      <th>MONTH</th>\n",
       "      <th>INFLA</th>\n",
       "      <th>TIEMPO1</th>\n",
       "      <th>TIEMPO2</th>\n",
       "      <th>MARCA</th>\n",
       "    </tr>\n",
       "  </thead>\n",
       "  <tbody>\n",
       "    <tr>\n",
       "      <th>72</th>\n",
       "      <td>1994-01-31</td>\n",
       "      <td>NaN</td>\n",
       "      <td>NaN</td>\n",
       "      <td>NaN</td>\n",
       "      <td>NaN</td>\n",
       "    </tr>\n",
       "    <tr>\n",
       "      <th>73</th>\n",
       "      <td>1994-02-28</td>\n",
       "      <td>NaN</td>\n",
       "      <td>NaN</td>\n",
       "      <td>NaN</td>\n",
       "      <td>NaN</td>\n",
       "    </tr>\n",
       "    <tr>\n",
       "      <th>74</th>\n",
       "      <td>1994-03-31</td>\n",
       "      <td>NaN</td>\n",
       "      <td>NaN</td>\n",
       "      <td>NaN</td>\n",
       "      <td>NaN</td>\n",
       "    </tr>\n",
       "    <tr>\n",
       "      <th>75</th>\n",
       "      <td>1994-04-30</td>\n",
       "      <td>NaN</td>\n",
       "      <td>NaN</td>\n",
       "      <td>NaN</td>\n",
       "      <td>NaN</td>\n",
       "    </tr>\n",
       "    <tr>\n",
       "      <th>76</th>\n",
       "      <td>1994-05-31</td>\n",
       "      <td>NaN</td>\n",
       "      <td>NaN</td>\n",
       "      <td>NaN</td>\n",
       "      <td>NaN</td>\n",
       "    </tr>\n",
       "    <tr>\n",
       "      <th>...</th>\n",
       "      <td>...</td>\n",
       "      <td>...</td>\n",
       "      <td>...</td>\n",
       "      <td>...</td>\n",
       "      <td>...</td>\n",
       "    </tr>\n",
       "    <tr>\n",
       "      <th>403</th>\n",
       "      <td>2021-08-31</td>\n",
       "      <td>51.512938</td>\n",
       "      <td>1.668221</td>\n",
       "      <td>1Y, 8M</td>\n",
       "      <td>NaN</td>\n",
       "    </tr>\n",
       "    <tr>\n",
       "      <th>404</th>\n",
       "      <td>2021-09-30</td>\n",
       "      <td>52.544641</td>\n",
       "      <td>1.641412</td>\n",
       "      <td>1Y, 8M</td>\n",
       "      <td>NaN</td>\n",
       "    </tr>\n",
       "    <tr>\n",
       "      <th>405</th>\n",
       "      <td>2021-10-31</td>\n",
       "      <td>52.103761</td>\n",
       "      <td>1.652740</td>\n",
       "      <td>1Y, 8M</td>\n",
       "      <td>NaN</td>\n",
       "    </tr>\n",
       "    <tr>\n",
       "      <th>406</th>\n",
       "      <td>2021-11-30</td>\n",
       "      <td>51.072049</td>\n",
       "      <td>1.680004</td>\n",
       "      <td>1Y, 8M</td>\n",
       "      <td>NaN</td>\n",
       "    </tr>\n",
       "    <tr>\n",
       "      <th>407</th>\n",
       "      <td>2021-12-31</td>\n",
       "      <td>50.781526</td>\n",
       "      <td>1.687879</td>\n",
       "      <td>1Y, 8M</td>\n",
       "      <td>NaN</td>\n",
       "    </tr>\n",
       "  </tbody>\n",
       "</table>\n",
       "<p>336 rows × 5 columns</p>\n",
       "</div>"
      ],
      "text/plain": [
       "         MONTH      INFLA   TIEMPO1 TIEMPO2  MARCA\n",
       "72  1994-01-31        NaN       NaN     NaN    NaN\n",
       "73  1994-02-28        NaN       NaN     NaN    NaN\n",
       "74  1994-03-31        NaN       NaN     NaN    NaN\n",
       "75  1994-04-30        NaN       NaN     NaN    NaN\n",
       "76  1994-05-31        NaN       NaN     NaN    NaN\n",
       "..         ...        ...       ...     ...    ...\n",
       "403 2021-08-31  51.512938  1.668221  1Y, 8M    NaN\n",
       "404 2021-09-30  52.544641  1.641412  1Y, 8M    NaN\n",
       "405 2021-10-31  52.103761  1.652740  1Y, 8M    NaN\n",
       "406 2021-11-30  51.072049  1.680004  1Y, 8M    NaN\n",
       "407 2021-12-31  50.781526  1.687879  1Y, 8M    NaN\n",
       "\n",
       "[336 rows x 5 columns]"
      ]
     },
     "execution_count": 3,
     "metadata": {},
     "output_type": "execute_result"
    }
   ],
   "source": [
    "\"|CHECK DATA|\"\n",
    "data"
   ]
  },
  {
   "cell_type": "code",
   "execution_count": 4,
   "metadata": {},
   "outputs": [
    {
     "data": {
      "text/html": [
       "\n",
       "    <div class=\"bk-root\">\n",
       "        <a href=\"https://bokeh.org\" target=\"_blank\" class=\"bk-logo bk-logo-small bk-logo-notebook\"></a>\n",
       "        <span id=\"1086\">Loading BokehJS ...</span>\n",
       "    </div>"
      ]
     },
     "metadata": {},
     "output_type": "display_data"
    },
    {
     "data": {
      "application/javascript": "\n(function(root) {\n  function now() {\n    return new Date();\n  }\n\n  const force = true;\n\n  if (typeof root._bokeh_onload_callbacks === \"undefined\" || force === true) {\n    root._bokeh_onload_callbacks = [];\n    root._bokeh_is_loading = undefined;\n  }\n\n  const JS_MIME_TYPE = 'application/javascript';\n  const HTML_MIME_TYPE = 'text/html';\n  const EXEC_MIME_TYPE = 'application/vnd.bokehjs_exec.v0+json';\n  const CLASS_NAME = 'output_bokeh rendered_html';\n\n  /**\n   * Render data to the DOM node\n   */\n  function render(props, node) {\n    const script = document.createElement(\"script\");\n    node.appendChild(script);\n  }\n\n  /**\n   * Handle when an output is cleared or removed\n   */\n  function handleClearOutput(event, handle) {\n    const cell = handle.cell;\n\n    const id = cell.output_area._bokeh_element_id;\n    const server_id = cell.output_area._bokeh_server_id;\n    // Clean up Bokeh references\n    if (id != null && id in Bokeh.index) {\n      Bokeh.index[id].model.document.clear();\n      delete Bokeh.index[id];\n    }\n\n    if (server_id !== undefined) {\n      // Clean up Bokeh references\n      const cmd_clean = \"from bokeh.io.state import curstate; print(curstate().uuid_to_server['\" + server_id + \"'].get_sessions()[0].document.roots[0]._id)\";\n      cell.notebook.kernel.execute(cmd_clean, {\n        iopub: {\n          output: function(msg) {\n            const id = msg.content.text.trim();\n            if (id in Bokeh.index) {\n              Bokeh.index[id].model.document.clear();\n              delete Bokeh.index[id];\n            }\n          }\n        }\n      });\n      // Destroy server and session\n      const cmd_destroy = \"import bokeh.io.notebook as ion; ion.destroy_server('\" + server_id + \"')\";\n      cell.notebook.kernel.execute(cmd_destroy);\n    }\n  }\n\n  /**\n   * Handle when a new output is added\n   */\n  function handleAddOutput(event, handle) {\n    const output_area = handle.output_area;\n    const output = handle.output;\n\n    // limit handleAddOutput to display_data with EXEC_MIME_TYPE content only\n    if ((output.output_type != \"display_data\") || (!Object.prototype.hasOwnProperty.call(output.data, EXEC_MIME_TYPE))) {\n      return\n    }\n\n    const toinsert = output_area.element.find(\".\" + CLASS_NAME.split(' ')[0]);\n\n    if (output.metadata[EXEC_MIME_TYPE][\"id\"] !== undefined) {\n      toinsert[toinsert.length - 1].firstChild.textContent = output.data[JS_MIME_TYPE];\n      // store reference to embed id on output_area\n      output_area._bokeh_element_id = output.metadata[EXEC_MIME_TYPE][\"id\"];\n    }\n    if (output.metadata[EXEC_MIME_TYPE][\"server_id\"] !== undefined) {\n      const bk_div = document.createElement(\"div\");\n      bk_div.innerHTML = output.data[HTML_MIME_TYPE];\n      const script_attrs = bk_div.children[0].attributes;\n      for (let i = 0; i < script_attrs.length; i++) {\n        toinsert[toinsert.length - 1].firstChild.setAttribute(script_attrs[i].name, script_attrs[i].value);\n        toinsert[toinsert.length - 1].firstChild.textContent = bk_div.children[0].textContent\n      }\n      // store reference to server id on output_area\n      output_area._bokeh_server_id = output.metadata[EXEC_MIME_TYPE][\"server_id\"];\n    }\n  }\n\n  function register_renderer(events, OutputArea) {\n\n    function append_mime(data, metadata, element) {\n      // create a DOM node to render to\n      const toinsert = this.create_output_subarea(\n        metadata,\n        CLASS_NAME,\n        EXEC_MIME_TYPE\n      );\n      this.keyboard_manager.register_events(toinsert);\n      // Render to node\n      const props = {data: data, metadata: metadata[EXEC_MIME_TYPE]};\n      render(props, toinsert[toinsert.length - 1]);\n      element.append(toinsert);\n      return toinsert\n    }\n\n    /* Handle when an output is cleared or removed */\n    events.on('clear_output.CodeCell', handleClearOutput);\n    events.on('delete.Cell', handleClearOutput);\n\n    /* Handle when a new output is added */\n    events.on('output_added.OutputArea', handleAddOutput);\n\n    /**\n     * Register the mime type and append_mime function with output_area\n     */\n    OutputArea.prototype.register_mime_type(EXEC_MIME_TYPE, append_mime, {\n      /* Is output safe? */\n      safe: true,\n      /* Index of renderer in `output_area.display_order` */\n      index: 0\n    });\n  }\n\n  // register the mime type if in Jupyter Notebook environment and previously unregistered\n  if (root.Jupyter !== undefined) {\n    const events = require('base/js/events');\n    const OutputArea = require('notebook/js/outputarea').OutputArea;\n\n    if (OutputArea.prototype.mime_types().indexOf(EXEC_MIME_TYPE) == -1) {\n      register_renderer(events, OutputArea);\n    }\n  }\n\n  \n  if (typeof (root._bokeh_timeout) === \"undefined\" || force === true) {\n    root._bokeh_timeout = Date.now() + 5000;\n    root._bokeh_failed_load = false;\n  }\n\n  const NB_LOAD_WARNING = {'data': {'text/html':\n     \"<div style='background-color: #fdd'>\\n\"+\n     \"<p>\\n\"+\n     \"BokehJS does not appear to have successfully loaded. If loading BokehJS from CDN, this \\n\"+\n     \"may be due to a slow or bad network connection. Possible fixes:\\n\"+\n     \"</p>\\n\"+\n     \"<ul>\\n\"+\n     \"<li>re-rerun `output_notebook()` to attempt to load from CDN again, or</li>\\n\"+\n     \"<li>use INLINE resources instead, as so:</li>\\n\"+\n     \"</ul>\\n\"+\n     \"<code>\\n\"+\n     \"from bokeh.resources import INLINE\\n\"+\n     \"output_notebook(resources=INLINE)\\n\"+\n     \"</code>\\n\"+\n     \"</div>\"}};\n\n  function display_loaded() {\n    const el = document.getElementById(\"1086\");\n    if (el != null) {\n      el.textContent = \"BokehJS is loading...\";\n    }\n    if (root.Bokeh !== undefined) {\n      if (el != null) {\n        el.textContent = \"BokehJS \" + root.Bokeh.version + \" successfully loaded.\";\n      }\n    } else if (Date.now() < root._bokeh_timeout) {\n      setTimeout(display_loaded, 100)\n    }\n  }\n\n\n  function run_callbacks() {\n    try {\n      root._bokeh_onload_callbacks.forEach(function(callback) {\n        if (callback != null)\n          callback();\n      });\n    } finally {\n      delete root._bokeh_onload_callbacks\n    }\n    console.debug(\"Bokeh: all callbacks have finished\");\n  }\n\n  function load_libs(css_urls, js_urls, callback) {\n    if (css_urls == null) css_urls = [];\n    if (js_urls == null) js_urls = [];\n\n    root._bokeh_onload_callbacks.push(callback);\n    if (root._bokeh_is_loading > 0) {\n      console.debug(\"Bokeh: BokehJS is being loaded, scheduling callback at\", now());\n      return null;\n    }\n    if (js_urls == null || js_urls.length === 0) {\n      run_callbacks();\n      return null;\n    }\n    console.debug(\"Bokeh: BokehJS not loaded, scheduling load and callback at\", now());\n    root._bokeh_is_loading = css_urls.length + js_urls.length;\n\n    function on_load() {\n      root._bokeh_is_loading--;\n      if (root._bokeh_is_loading === 0) {\n        console.debug(\"Bokeh: all BokehJS libraries/stylesheets loaded\");\n        run_callbacks()\n      }\n    }\n\n    function on_error(url) {\n      console.error(\"failed to load \" + url);\n    }\n\n    for (let i = 0; i < css_urls.length; i++) {\n      const url = css_urls[i];\n      const element = document.createElement(\"link\");\n      element.onload = on_load;\n      element.onerror = on_error.bind(null, url);\n      element.rel = \"stylesheet\";\n      element.type = \"text/css\";\n      element.href = url;\n      console.debug(\"Bokeh: injecting link tag for BokehJS stylesheet: \", url);\n      document.body.appendChild(element);\n    }\n\n    for (let i = 0; i < js_urls.length; i++) {\n      const url = js_urls[i];\n      const element = document.createElement('script');\n      element.onload = on_load;\n      element.onerror = on_error.bind(null, url);\n      element.async = false;\n      element.src = url;\n      console.debug(\"Bokeh: injecting script tag for BokehJS library: \", url);\n      document.head.appendChild(element);\n    }\n  };\n\n  function inject_raw_css(css) {\n    const element = document.createElement(\"style\");\n    element.appendChild(document.createTextNode(css));\n    document.body.appendChild(element);\n  }\n\n  \n  const js_urls = [\"https://cdn.bokeh.org/bokeh/release/bokeh-2.4.1.min.js\", \"https://cdn.bokeh.org/bokeh/release/bokeh-gl-2.4.1.min.js\", \"https://cdn.bokeh.org/bokeh/release/bokeh-widgets-2.4.1.min.js\", \"https://cdn.bokeh.org/bokeh/release/bokeh-tables-2.4.1.min.js\", \"https://cdn.bokeh.org/bokeh/release/bokeh-mathjax-2.4.1.min.js\"];\n  const css_urls = [];\n  \n\n  const inline_js = [\n    function(Bokeh) {\n      Bokeh.set_log_level(\"info\");\n    },\n    function(Bokeh) {\n    \n    \n    }\n  ];\n\n  function run_inline_js() {\n    \n    if (root.Bokeh !== undefined || force === true) {\n      \n    for (let i = 0; i < inline_js.length; i++) {\n      inline_js[i].call(root, root.Bokeh);\n    }\n    if (force === true) {\n        display_loaded();\n      }} else if (Date.now() < root._bokeh_timeout) {\n      setTimeout(run_inline_js, 100);\n    } else if (!root._bokeh_failed_load) {\n      console.log(\"Bokeh: BokehJS failed to load within specified timeout.\");\n      root._bokeh_failed_load = true;\n    } else if (force !== true) {\n      const cell = $(document.getElementById(\"1086\")).parents('.cell').data().cell;\n      cell.output_area.append_execute_result(NB_LOAD_WARNING)\n    }\n\n  }\n\n  if (root._bokeh_is_loading === 0) {\n    console.debug(\"Bokeh: BokehJS loaded, going straight to plotting\");\n    run_inline_js();\n  } else {\n    load_libs(css_urls, js_urls, function() {\n      console.debug(\"Bokeh: BokehJS plotting callback run at\", now());\n      run_inline_js();\n    });\n  }\n}(window));",
      "application/vnd.bokehjs_load.v0+json": ""
     },
     "metadata": {},
     "output_type": "display_data"
    },
    {
     "data": {
      "text/html": [
       "\n",
       "\n",
       "\n",
       "\n",
       "\n",
       "\n",
       "  <div class=\"bk-root\" id=\"ddeafdef-faa9-406a-bbdb-bc9c6411e4a1\" data-root-id=\"1004\"></div>\n"
      ]
     },
     "metadata": {},
     "output_type": "display_data"
    },
    {
     "data": {
      "application/javascript": "(function(root) {\n  function embed_document(root) {\n    \n  const docs_json = {\"50c6c397-a529-4e8b-94cf-7a3047cafed5\":{\"defs\":[],\"roots\":{\"references\":[{\"attributes\":{\"below\":[{\"id\":\"1015\"}],\"center\":[{\"id\":\"1018\"},{\"id\":\"1022\"},{\"id\":\"1048\"},{\"id\":\"1049\"},{\"id\":\"1050\"},{\"id\":\"1051\"},{\"id\":\"1052\"},{\"id\":\"1053\"},{\"id\":\"1054\"},{\"id\":\"1055\"},{\"id\":\"1063\"},{\"id\":\"1056\"},{\"id\":\"1067\"},{\"id\":\"1057\"},{\"id\":\"1071\"},{\"id\":\"1058\"},{\"id\":\"1075\"},{\"id\":\"1059\"},{\"id\":\"1079\"},{\"id\":\"1060\"},{\"id\":\"1083\"}],\"height\":400,\"left\":[{\"id\":\"1019\"}],\"renderers\":[{\"id\":\"1044\"}],\"title\":{\"id\":\"1005\"},\"toolbar\":{\"id\":\"1030\"},\"width\":700,\"x_range\":{\"id\":\"1007\"},\"x_scale\":{\"id\":\"1011\"},\"y_range\":{\"id\":\"1009\"},\"y_scale\":{\"id\":\"1013\"}},\"id\":\"1004\",\"subtype\":\"Figure\",\"type\":\"Plot\"},{\"attributes\":{},\"id\":\"1090\",\"type\":\"AllLabels\"},{\"attributes\":{},\"id\":\"1092\",\"type\":\"AllLabels\"},{\"attributes\":{\"data\":{},\"selected\":{\"id\":\"1123\"},\"selection_policy\":{\"id\":\"1122\"}},\"id\":\"1097\",\"type\":\"ColumnDataSource\"},{\"attributes\":{\"data\":{},\"selected\":{\"id\":\"1125\"},\"selection_policy\":{\"id\":\"1124\"}},\"id\":\"1098\",\"type\":\"ColumnDataSource\"},{\"attributes\":{},\"id\":\"1114\",\"type\":\"UnionRenderers\"},{\"attributes\":{},\"id\":\"1099\",\"type\":\"UnionRenderers\"},{\"attributes\":{},\"id\":\"1115\",\"type\":\"Selection\"},{\"attributes\":{},\"id\":\"1100\",\"type\":\"Selection\"},{\"attributes\":{},\"id\":\"1116\",\"type\":\"UnionRenderers\"},{\"attributes\":{},\"id\":\"1117\",\"type\":\"Selection\"},{\"attributes\":{},\"id\":\"1118\",\"type\":\"UnionRenderers\"},{\"attributes\":{},\"id\":\"1119\",\"type\":\"Selection\"},{\"attributes\":{\"data\":{},\"selected\":{\"id\":\"1115\"},\"selection_policy\":{\"id\":\"1114\"}},\"id\":\"1093\",\"type\":\"ColumnDataSource\"},{\"attributes\":{},\"id\":\"1120\",\"type\":\"UnionRenderers\"},{\"attributes\":{\"base\":60,\"mantissas\":[1,2,5,10,15,20,30],\"max_interval\":1800000.0,\"min_interval\":1000.0,\"num_minor_ticks\":0},\"id\":\"1103\",\"type\":\"AdaptiveTicker\"},{\"attributes\":{},\"id\":\"1121\",\"type\":\"Selection\"},{\"attributes\":{\"data\":{},\"selected\":{\"id\":\"1117\"},\"selection_policy\":{\"id\":\"1116\"}},\"id\":\"1094\",\"type\":\"ColumnDataSource\"},{\"attributes\":{\"days\":[1,8,15,22]},\"id\":\"1107\",\"type\":\"DaysTicker\"},{\"attributes\":{},\"id\":\"1122\",\"type\":\"UnionRenderers\"},{\"attributes\":{\"data\":{},\"selected\":{\"id\":\"1119\"},\"selection_policy\":{\"id\":\"1118\"}},\"id\":\"1095\",\"type\":\"ColumnDataSource\"},{\"attributes\":{},\"id\":\"1123\",\"type\":\"Selection\"},{\"attributes\":{\"mantissas\":[1,2,5],\"max_interval\":500.0,\"num_minor_ticks\":0},\"id\":\"1102\",\"type\":\"AdaptiveTicker\"},{\"attributes\":{\"months\":[0,2,4,6,8,10]},\"id\":\"1110\",\"type\":\"MonthsTicker\"},{\"attributes\":{\"days\":[1,2,3,4,5,6,7,8,9,10,11,12,13,14,15,16,17,18,19,20,21,22,23,24,25,26,27,28,29,30,31]},\"id\":\"1105\",\"type\":\"DaysTicker\"},{\"attributes\":{\"base\":24,\"mantissas\":[1,2,4,6,8,12],\"max_interval\":43200000.0,\"min_interval\":3600000.0,\"num_minor_ticks\":0},\"id\":\"1104\",\"type\":\"AdaptiveTicker\"},{\"attributes\":{},\"id\":\"1124\",\"type\":\"UnionRenderers\"},{\"attributes\":{},\"id\":\"1113\",\"type\":\"YearsTicker\"},{\"attributes\":{\"data\":{},\"selected\":{\"id\":\"1121\"},\"selection_policy\":{\"id\":\"1120\"}},\"id\":\"1096\",\"type\":\"ColumnDataSource\"},{\"attributes\":{\"months\":[0,1,2,3,4,5,6,7,8,9,10,11]},\"id\":\"1109\",\"type\":\"MonthsTicker\"},{\"attributes\":{},\"id\":\"1125\",\"type\":\"Selection\"},{\"attributes\":{\"days\":[1,4,7,10,13,16,19,22,25,28]},\"id\":\"1106\",\"type\":\"DaysTicker\"},{\"attributes\":{\"days\":[1,15]},\"id\":\"1108\",\"type\":\"DaysTicker\"},{\"attributes\":{\"months\":[0,6]},\"id\":\"1112\",\"type\":\"MonthsTicker\"},{\"attributes\":{\"months\":[0,4,8]},\"id\":\"1111\",\"type\":\"MonthsTicker\"},{\"attributes\":{\"coordinates\":null,\"dimension\":\"height\",\"group\":null,\"line_alpha\":0.5,\"line_color\":\"steelblue\",\"location\":1075532400000.0},\"id\":\"1048\",\"type\":\"Span\"},{\"attributes\":{\"bottom_units\":\"screen\",\"coordinates\":null,\"fill_alpha\":0.5,\"fill_color\":\"lightgrey\",\"group\":null,\"left_units\":\"screen\",\"level\":\"overlay\",\"line_alpha\":1.0,\"line_color\":\"black\",\"line_dash\":[4,4],\"line_width\":2,\"right_units\":\"screen\",\"syncable\":false,\"top_units\":\"screen\"},\"id\":\"1029\",\"type\":\"BoxAnnotation\"},{\"attributes\":{\"line_alpha\":0.1,\"line_color\":\"red\",\"line_width\":2,\"x\":{\"field\":\"MONTH\"},\"y\":{\"field\":\"TIEMPO1\"}},\"id\":\"1042\",\"type\":\"Line\"},{\"attributes\":{\"start\":35},\"id\":\"1009\",\"type\":\"Range1d\"},{\"attributes\":{\"line_alpha\":0.75,\"line_color\":\"red\",\"line_width\":2,\"x\":{\"field\":\"MONTH\"},\"y\":{\"field\":\"TIEMPO1\"}},\"id\":\"1041\",\"type\":\"Line\"},{\"attributes\":{\"coordinates\":null,\"group\":null,\"text\":\"3Y 7M\",\"text_align\":\"center\",\"text_color\":\"steelblue\",\"text_font_size\":\"10px\",\"x\":1288504800000.0,\"y\":25},\"id\":\"1056\",\"type\":\"Label\"},{\"attributes\":{\"fill_alpha\":{\"value\":0.5},\"fill_color\":{\"value\":\"steelblue\"},\"line_alpha\":{\"value\":0.5},\"line_color\":{\"value\":\"steelblue\"},\"line_width\":{\"value\":2},\"size\":{\"value\":15}},\"id\":\"1074\",\"type\":\"VeeHead\"},{\"attributes\":{\"coordinates\":null,\"group\":null,\"text\":\"5Y\",\"text_align\":\"center\",\"text_color\":\"steelblue\",\"text_font_size\":\"10px\",\"x\":1151647200000.0,\"y\":25},\"id\":\"1055\",\"type\":\"Label\"},{\"attributes\":{\"coordinates\":null,\"end\":{\"id\":\"1074\"},\"group\":null,\"line_alpha\":{\"value\":0.5},\"line_color\":{\"value\":\"steelblue\"},\"source\":{\"id\":\"1096\"},\"start\":{\"id\":\"1073\"},\"x_end\":{\"value\":1504159200000.0},\"x_start\":{\"value\":1425106800000.0},\"y_end\":{\"value\":20},\"y_start\":{\"value\":20}},\"id\":\"1075\",\"type\":\"Arrow\"},{\"attributes\":{\"num_minor_ticks\":10},\"id\":\"1020\",\"type\":\"LogTicker\"},{\"attributes\":{\"source\":{\"id\":\"1002\"}},\"id\":\"1045\",\"type\":\"CDSView\"},{\"attributes\":{\"coordinates\":null,\"formatter\":{\"id\":\"1085\"},\"group\":null,\"major_label_policy\":{\"id\":\"1092\"},\"ticker\":{\"id\":\"1016\"}},\"id\":\"1015\",\"type\":\"DatetimeAxis\"},{\"attributes\":{\"fill_alpha\":{\"value\":0.5},\"fill_color\":{\"value\":\"steelblue\"},\"line_alpha\":{\"value\":0.5},\"line_color\":{\"value\":\"steelblue\"},\"line_width\":{\"value\":2},\"size\":{\"value\":15}},\"id\":\"1062\",\"type\":\"VeeHead\"},{\"attributes\":{\"line_alpha\":0.2,\"line_color\":\"red\",\"line_width\":2,\"x\":{\"field\":\"MONTH\"},\"y\":{\"field\":\"TIEMPO1\"}},\"id\":\"1043\",\"type\":\"Line\"},{\"attributes\":{\"coordinates\":null,\"dimension\":\"height\",\"group\":null,\"line_alpha\":0.5,\"line_color\":\"steelblue\",\"location\":1567231200000.0},\"id\":\"1053\",\"type\":\"Span\"},{\"attributes\":{\"coordinates\":null,\"dimension\":\"height\",\"group\":null,\"line_alpha\":0.5,\"line_color\":\"steelblue\",\"location\":1425106800000.0},\"id\":\"1051\",\"type\":\"Span\"},{\"attributes\":{\"coordinates\":null,\"dimension\":\"height\",\"group\":null,\"line_alpha\":0.5,\"line_color\":\"steelblue\",\"location\":1343714400000.0},\"id\":\"1050\",\"type\":\"Span\"},{\"attributes\":{\"coordinates\":null,\"dimension\":\"height\",\"group\":null,\"line_alpha\":0.5,\"line_color\":\"steelblue\",\"location\":1625032800000.0},\"id\":\"1054\",\"type\":\"Span\"},{\"attributes\":{\"data\":{\"INFLA\":{\"__ndarray__\":\"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\",\"dtype\":\"float64\",\"order\":\"little\",\"shape\":[336]},\"MARCA\":{\"__ndarray__\":\"AAAAAAAA+H8AAAAAAAD4fwAAAAAAAPh/AAAAAAAA+H8AAAAAAAD4fwAAAAAAAPh/AAAAAAAA+H8AAAAAAAD4fwAAAAAAAPh/AAAAAAAA+H8AAAAAAAD4fwAAAAAAAPh/AAAAAAAA+H8AAAAAAAD4fwAAAAAAAPh/AAAAAAAA+H8AAAAAAAD4fwAAAAAAAPh/AAAAAAAA+H8AAAAAAAD4fwAAAAAAAPh/AAAAAAAA+H8AAAAAAAD4fwAAAAAAAPh/AAAAAAAA+H8AAAAAAAD4fwAAAAAAAPh/AAAAAAAA+H8AAAAAAAD4fwAAAAAAAPh/AAAAAAAA+H8AAAAAAAD4fwAAAAAAAPh/AAAAAAAA+H8AAAAAAAD4fwAAAAAAAPh/AAAAAAAA+H8AAAAAAAD4fwAAAAAAAPh/AAAAAAAA+H8AAAAAAAD4fwAAAAAAAPh/AAAAAAAA+H8AAAAAAAD4fwAAAAAAAPh/AAAAAAAA+H8AAAAAAAD4fwAAAAAAAPh/AAAAAAAA+H8AAAAAAAD4fwAAAAAAAPh/AAAAAAAA+H8AAAAAAAD4fwAAAAAAAPh/AAAAAAAA+H8AAAAAAAD4fwAAAAAAAPh/AAAAAAAA+H8AAAAAAAD4fwAAAAAAAPh/AAAAAAAA+H8AAAAAAAD4fwAAAAAAAPh/AAAAAAAA+H8AAAAAAAD4fwAAAAAAAPh/AAAAAAAA+H8AAAAAAAD4fwAAAAAAAPh/AAAAAAAA+H8AAAAAAAD4fwAAAAAAAPh/AAAAAAAA+H8AAAAAAAD4fwAAAAAAAPh/AAAAAAAA+H8AAAAAAAD4fwAAAAAAAPh/AAAAAAAA+H8AAAAAAAD4fwAAAAAAAPh/AAAAAAAA+H8AAAAAAAD4fwAAAAAAAPh/AAAAAAAA+H8AAAAAAAD4fwAAAAAAAPh/AAAAAAAA+H8AAAAAAAD4fwAAAAAAAPh/AAAAAAAA+H8AAAAAAAD4fwAAAAAAAPh/AAAAAAAA+H8AAAAAAAD4fwAAAAAAAPh/AAAAAAAA+H8AAAAAAAD4fwAAAAAAAPh/AAAAAAAA+H8AAAAAAAD4fwAAAAAAAPh/AAAAAAAA+H8AAAAAAAD4fwAAAAAAAPh/AAAAAAAA+H8AAAAAAAD4fwAAAAAAAPh/AAAAAAAA+H8AAAAAAAD4fwAAAAAAAPh/AAAAAAAA+H8AAAAAAAD4fwAAAAAAAPh/AAAAAAAA+H8AAAAAAAD4fwAAAAAAAPh/AAAAAAAA+H8AAAAAAAD4fwAAAAAAAPh/AAAAAAAA+H8AAAAAAAD4fwAAAAAAAPh/AAAAAAAA+H8AAAAAAAD4fwAAAAAAAPh/AAAAAAAA+H8AAAAAAAD4fwAAAAAAAPh/AAAAAAAA+H8AAAAAAAD4fwAAAAAAAPh/AAAAAAAA+H8AAAAAAAD4fwAAAAAAAPh/AAAAAAAA+H8AAAAAAAD4fwAAAAAAAPh/AAAAAAAA+H8AAAAAAAD4fwAAAAAAAPh/AAAAAAAA+H8AAAAAAAD4fwAAAAAAAPh/AAAAAAAA+H8AAAAAAAD4fwAAAAAAAPh/AAAAAAAA+H8AAAAAAAD4fwAAAAAAAPh/AAAAAAAA+H8AAAAAAAD4fwAAAAAAAPh/AAAAAAAA+H8AAAAAAAD4fwAAAAAAAPh/AAAAAAAA+H8AAAAAAAD4fwAAAAAAAPh/AAAAAAAA+H8AAAAAAAD4fwAAAAAAAPh/AAAAAAAA+H8AAAAAAAD4fwAAAAAAAPh/AAAAAAAA+H8AAAAAAAD4fwAAAAAAAPh/AAAAAAAA+H8AAAAAAAD4fwAAAAAAAPh/AAAAAAAA+H8AAAAAAAD4fwAAAAAAAPh/AAAAAAAA+H8AAAAAAAD4fwAAAAAAAPh/AAAAAAAA+H8AAAAAAAD4f5qZmZmZmbk/AAAAAAAA+H8AAAAAAAD4fwAAAAAAAPh/AAAAAAAA+H8AAAAAAAD4fwAAAAAAAPh/AAAAAAAA+H8AAAAAAAD4fwAAAAAAAPh/AAAAAAAA+H8AAAAAAAD4fwAAAAAAAPh/AAAAAAAA+H8AAAAAAAD4fwAAAAAAAPh/AAAAAAAA+H8AAAAAAAD4fwAAAAAAAPh/AAAAAAAA+H8AAAAAAAD4fwAAAAAAAPh/AAAAAAAA+H8AAAAAAAD4fwAAAAAAAPh/AAAAAAAA+H8AAAAAAAD4fwAAAAAAAPh/AAAAAAAA+H8AAAAAAAD4fwAAAAAAAPh/AAAAAAAA+H8AAAAAAAD4fwAAAAAAAPh/AAAAAAAA+H8AAAAAAAD4fwAAAAAAAPh/AAAAAAAA+H8AAAAAAAD4fwAAAAAAAPh/AAAAAAAA+H8AAAAAAAD4fwAAAAAAAPh/mpmZmZmZuT8AAAAAAAD4fwAAAAAAAPh/AAAAAAAA+H8AAAAAAAD4fwAAAAAAAPh/AAAAAAAA+H8AAAAAAAD4fwAAAAAAAPh/AAAAAAAA+H8AAAAAAAD4fwAAAAAAAPh/AAAAAAAA+H8AAAAAAAD4fwAAAAAAAPh/AAAAAAAA+H8AAAAAAAD4fwAAAAAAAPh/AAAAAAAA+H8AAAAAAAD4fwAAAAAAAPh/AAAAAAAA+H8AAAAAAAD4fwAAAAAAAPh/AAAAAAAA+H8AAAAAAAD4fwAAAAAAAPh/AAAAAAAA+H8AAAAAAAD4fwAAAAAAAPh/AAAAAAAA+H+amZmZmZm5PwAAAAAAAPh/AAAAAAAA+H8AAAAAAAD4fwAAAAAAAPh/AAAAAAAA+H8AAAAAAAD4fwAAAAAAAPh/AAAAAAAA+H8AAAAAAAD4fwAAAAAAAPh/AAAAAAAA+H8AAAAAAAD4fwAAAAAAAPh/AAAAAAAA+H8AAAAAAAD4fwAAAAAAAPh/AAAAAAAA+H8AAAAAAAD4fwAAAAAAAPh/AAAAAAAA+H8AAAAAAAD4fwAAAAAAAPh/AAAAAAAA+H8AAAAAAAD4fwAAAAAAAPh/AAAAAAAA+H8AAAAAAAD4fwAAAAAAAPh/AAAAAAAA+H+amZmZmZm5PwAAAAAAAPh/AAAAAAAA+H8AAAAAAAD4fwAAAAAAAPh/AAAAAAAA+H8AAAAAAAD4fwAAAAAAAPh/AAAAAAAA+H8AAAAAAAD4fwAAAAAAAPh/AAAAAAAA+H8AAAAAAAD4fwAAAAAAAPh/AAAAAAAA+H8AAAAAAAD4fwAAAAAAAPh/AAAAAAAA+H8AAAAAAAD4fwAAAAAAAPh/AAAAAAAA+H8AAAAAAAD4fwAAAAAAAPh/AAAAAAAA+H+amZmZmZm5PwAAAAAAAPh/AAAAAAAA+H8AAAAAAAD4fwAAAAAAAPh/AAAAAAAA+H8AAAAAAAD4fwAAAAAAAPh/AAAAAAAA+H8AAAAAAAD4fwAAAAAAAPh/AAAAAAAA+H8AAAAAAAD4fwAAAAAAAPh/AAAAAAAA+H8AAAAAAAD4fwAAAAAAAPh/AAAAAAAA+H8AAAAAAAD4fwAAAAAAAPh/AAAAAAAA+H8AAAAAAAD4f5qZmZmZmbk/AAAAAAAA+H8AAAAAAAD4fwAAAAAAAPh/AAAAAAAA+H8AAAAAAAD4fwAAAAAAAPh/\",\"dtype\":\"float64\",\"order\":\"little\",\"shape\":[336]},\"MONTH\":{\"__ndarray__\":\"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\",\"dtype\":\"float64\",\"order\":\"little\",\"shape\":[336]},\"TIEMPO1\":{\"__ndarray__\":\"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\",\"dtype\":\"float64\",\"order\":\"little\",\"shape\":[336]},\"TIEMPO2\":[\"NaN\",\"NaN\",\"NaN\",\"NaN\",\"NaN\",\"NaN\",\"NaN\",\"NaN\",\"NaN\",\"NaN\",\"NaN\",\"NaN\",\"NaN\",\"NaN\",\"NaN\",\"NaN\",\"NaN\",\"NaN\",\"NaN\",\"NaN\",\"NaN\",\"NaN\",\"NaN\",\"NaN\",\"NaN\",\"NaN\",\"NaN\",\"NaN\",\"NaN\",\"NaN\",\"NaN\",\"NaN\",\"NaN\",\"NaN\",\"NaN\",\"NaN\",\"NaN\",\"NaN\",\"NaN\",\"NaN\",\"NaN\",\"NaN\",\"NaN\",\"NaN\",\"NaN\",\"NaN\",\"NaN\",\"NaN\",\"NaN\",\"NaN\",\"NaN\",\"NaN\",\"NaN\",\"NaN\",\"NaN\",\"NaN\",\"NaN\",\"NaN\",\"NaN\",\"NaN\",\"NaN\",\"NaN\",\"NaN\",\"NaN\",\"NaN\",\"NaN\",\"NaN\",\"NaN\",\"NaN\",\"NaN\",\"NaN\",\"NaN\",\"NaN\",\"NaN\",\"NaN\",\"NaN\",\"NaN\",\"NaN\",\"NaN\",\"NaN\",\"NaN\",\"NaN\",\"NaN\",\"NaN\",\"NaN\",\"NaN\",\"NaN\",\"NaN\",\"NaN\",\"NaN\",\"NaN\",\"NaN\",\"NaN\",\"NaN\",\"NaN\",\"NaN\",\"NaN\",\"NaN\",\"NaN\",\"NaN\",\"NaN\",\"NaN\",\"NaN\",\"NaN\",\"NaN\",\"NaN\",\"NaN\",\"NaN\",\"NaN\",\"NaN\",\"NaN\",\"NaN\",\"NaN\",\"NaN\",\"NaN\",\"NaN\",\"NaN\",\"NaN\",\"NaN\",\"NaN\",\"25Y, 8M\",\"30Y, 11M\",\"30Y, 10M\",\"22Y, 9M\",\"16Y, 8M\",\"14Y, 5M\",\"14Y, 4M\",\"13Y, 6M\",\"12Y, 1M\",\"12Y, 6M\",\"13Y, 1M\",\"11Y, 9M\",\"9Y, 11M\",\"8Y, 10M\",\"7Y, 11M\",\"8Y, 3M\",\"8Y, 5M\",\"8Y, 1M\",\"7Y, 7M\",\"7Y, 6M\",\"7Y, 1M\",\"6Y, 10M\",\"6Y, 1M\",\"5Y, 12M\",\"6Y, 1M\",\"6Y, 4M\",\"6Y, 7M\",\"6Y, 4M\",\"6Y, 4M\",\"6Y, 8M\",\"6Y, 11M\",\"6Y, 10M\",\"6Y, 12M\",\"6Y, 11M\",\"7Y, 3M\",\"7Y, 5M\",\"7Y, 3M\",\"6Y, 10M\",\"6Y, 9M\",\"5Y, 11M\",\"5Y, 3M\",\"4Y, 7M\",\"4Y, 2M\",\"3Y, 7M\",\"3Y, 6M\",\"3Y, 4M\",\"3Y, 2M\",\"3Y, 0M\",\"2Y, 11M\",\"2Y, 11M\",\"2Y, 8M\",\"2Y, 9M\",\"2Y, 9M\",\"2Y, 10M\",\"2Y, 10M\",\"2Y, 11M\",\"2Y, 12M\",\"3Y, 1M\",\"3Y, 3M\",\"3Y, 4M\",\"3Y, 5M\",\"3Y, 6M\",\"3Y, 11M\",\"4Y, 2M\",\"4Y, 4M\",\"4Y, 10M\",\"5Y, 2M\",\"5Y, 5M\",\"5Y, 6M\",\"5Y, 6M\",\"5Y, 3M\",\"5Y, 0M\",\"4Y, 9M\",\"4Y, 2M\",\"3Y, 10M\",\"3Y, 8M\",\"3Y, 7M\",\"3Y, 5M\",\"3Y, 4M\",\"3Y, 3M\",\"3Y, 3M\",\"3Y, 0M\",\"3Y, 0M\",\"3Y, 1M\",\"3Y, 1M\",\"3Y, 4M\",\"3Y, 5M\",\"3Y, 5M\",\"3Y, 5M\",\"3Y, 5M\",\"3Y, 5M\",\"3Y, 5M\",\"3Y, 4M\",\"3Y, 6M\",\"3Y, 5M\",\"3Y, 5M\",\"3Y, 5M\",\"3Y, 4M\",\"3Y, 4M\",\"3Y, 4M\",\"3Y, 3M\",\"3Y, 3M\",\"3Y, 2M\",\"3Y, 2M\",\"3Y, 2M\",\"3Y, 2M\",\"3Y, 1M\",\"3Y, 1M\",\"2Y, 12M\",\"3Y, 1M\",\"3Y, 2M\",\"3Y, 3M\",\"3Y, 4M\",\"3Y, 3M\",\"3Y, 1M\",\"3Y, 1M\",\"3Y, 1M\",\"2Y, 12M\",\"2Y, 11M\",\"2Y, 9M\",\"2Y, 7M\",\"2Y, 4M\",\"2Y, 2M\",\"2Y, 1M\",\"2Y, 1M\",\"2Y, 1M\",\"2Y, 1M\",\"2Y, 0M\",\"2Y, 0M\",\"2Y, 0M\",\"2Y, 0M\",\"2Y, 2M\",\"2Y, 4M\",\"2Y, 7M\",\"2Y, 8M\",\"2Y, 9M\",\"2Y, 9M\",\"2Y, 10M\",\"2Y, 11M\",\"2Y, 11M\",\"3Y, 0M\",\"3Y, 1M\",\"3Y, 1M\",\"2Y, 10M\",\"2Y, 8M\",\"2Y, 4M\",\"2Y, 3M\",\"1Y, 12M\",\"1Y, 11M\",\"1Y, 10M\",\"1Y, 10M\",\"1Y, 11M\",\"1Y, 12M\",\"1Y, 11M\",\"1Y, 11M\",\"2Y, 0M\",\"2Y, 2M\",\"2Y, 4M\",\"2Y, 5M\",\"2Y, 10M\",\"3Y, 1M\",\"3Y, 4M\",\"3Y, 4M\",\"3Y, 3M\",\"3Y, 1M\",\"3Y, 4M\",\"3Y, 5M\",\"3Y, 2M\",\"3Y, 1M\",\"3Y, 1M\",\"3Y, 1M\",\"2Y, 12M\",\"2Y, 11M\",\"2Y, 8M\",\"2Y, 7M\",\"2Y, 4M\",\"2Y, 1M\",\"1Y, 10M\",\"1Y, 9M\",\"1Y, 9M\",\"1Y, 9M\",\"1Y, 8M\",\"1Y, 7M\",\"1Y, 7M\",\"1Y, 6M\",\"1Y, 7M\",\"1Y, 7M\",\"1Y, 7M\",\"1Y, 7M\",\"1Y, 8M\",\"1Y, 8M\",\"1Y, 7M\",\"1Y, 8M\",\"1Y, 8M\",\"1Y, 9M\",\"1Y, 10M\",\"1Y, 11M\",\"1Y, 11M\",\"1Y, 12M\",\"2Y, 0M\",\"2Y, 3M\",\"2Y, 2M\",\"2Y, 3M\",\"2Y, 3M\",\"2Y, 2M\",\"2Y, 0M\",\"1Y, 11M\",\"1Y, 10M\",\"1Y, 9M\",\"1Y, 8M\",\"1Y, 8M\",\"1Y, 8M\",\"1Y, 8M\",\"1Y, 8M\",\"1Y, 8M\",\"1Y, 8M\"],\"index\":[72,73,74,75,76,77,78,79,80,81,82,83,84,85,86,87,88,89,90,91,92,93,94,95,96,97,98,99,100,101,102,103,104,105,106,107,108,109,110,111,112,113,114,115,116,117,118,119,120,121,122,123,124,125,126,127,128,129,130,131,132,133,134,135,136,137,138,139,140,141,142,143,144,145,146,147,148,149,150,151,152,153,154,155,156,157,158,159,160,161,162,163,164,165,166,167,168,169,170,171,172,173,174,175,176,177,178,179,180,181,182,183,184,185,186,187,188,189,190,191,192,193,194,195,196,197,198,199,200,201,202,203,204,205,206,207,208,209,210,211,212,213,214,215,216,217,218,219,220,221,222,223,224,225,226,227,228,229,230,231,232,233,234,235,236,237,238,239,240,241,242,243,244,245,246,247,248,249,250,251,252,253,254,255,256,257,258,259,260,261,262,263,264,265,266,267,268,269,270,271,272,273,274,275,276,277,278,279,280,281,282,283,284,285,286,287,288,289,290,291,292,293,294,295,296,297,298,299,300,301,302,303,304,305,306,307,308,309,310,311,312,313,314,315,316,317,318,319,320,321,322,323,324,325,326,327,328,329,330,331,332,333,334,335,336,337,338,339,340,341,342,343,344,345,346,347,348,349,350,351,352,353,354,355,356,357,358,359,360,361,362,363,364,365,366,367,368,369,370,371,372,373,374,375,376,377,378,379,380,381,382,383,384,385,386,387,388,389,390,391,392,393,394,395,396,397,398,399,400,401,402,403,404,405,406,407]},\"selected\":{\"id\":\"1100\"},\"selection_policy\":{\"id\":\"1099\"}},\"id\":\"1002\",\"type\":\"ColumnDataSource\"},{\"attributes\":{\"coordinates\":null,\"dimension\":\"height\",\"group\":null,\"line_alpha\":0.5,\"line_color\":\"steelblue\",\"location\":1504159200000.0},\"id\":\"1052\",\"type\":\"Span\"},{\"attributes\":{\"coordinates\":null,\"group\":null,\"text\":\"2Y 7M\",\"text_align\":\"center\",\"text_color\":\"steelblue\",\"text_font_size\":\"10px\",\"x\":1383199200000.0,\"y\":25},\"id\":\"1057\",\"type\":\"Label\"},{\"attributes\":{\"coordinates\":null,\"group\":null,\"text\":\"EL HUB ECON\\u00d3MICO | TIEMPO EN QUE SE DUPLICA EL NIVEL DE PRECIOS\"},\"id\":\"1005\",\"type\":\"Title\"},{\"attributes\":{\"coordinates\":null,\"dimension\":\"height\",\"group\":null,\"line_alpha\":0.5,\"line_color\":\"steelblue\",\"location\":1230706800000.0},\"id\":\"1049\",\"type\":\"Span\"},{\"attributes\":{\"fill_alpha\":{\"value\":0.5},\"fill_color\":{\"value\":\"steelblue\"},\"line_alpha\":{\"value\":0.5},\"line_color\":{\"value\":\"steelblue\"},\"line_width\":{\"value\":2},\"size\":{\"value\":15}},\"id\":\"1065\",\"type\":\"VeeHead\"},{\"attributes\":{\"callback\":null,\"mode\":\"vline\",\"tooltips\":[[\"Tiempo\",\"@TIEMPO2\"],[\"Inflaci\\u00f3n\",\"@INFLA{0.0}\"]]},\"id\":\"1046\",\"type\":\"HoverTool\"},{\"attributes\":{\"fill_alpha\":{\"value\":0.5},\"fill_color\":{\"value\":\"steelblue\"},\"line_alpha\":{\"value\":0.5},\"line_color\":{\"value\":\"steelblue\"},\"line_width\":{\"value\":2},\"size\":{\"value\":15}},\"id\":\"1073\",\"type\":\"VeeHead\"},{\"attributes\":{\"fill_alpha\":{\"value\":0.5},\"fill_color\":{\"value\":\"steelblue\"},\"line_alpha\":{\"value\":0.5},\"line_color\":{\"value\":\"steelblue\"},\"line_width\":{\"value\":2},\"size\":{\"value\":15}},\"id\":\"1082\",\"type\":\"VeeHead\"},{\"attributes\":{\"fill_alpha\":{\"value\":0.5},\"fill_color\":{\"value\":\"steelblue\"},\"line_alpha\":{\"value\":0.5},\"line_color\":{\"value\":\"steelblue\"},\"line_width\":{\"value\":2},\"size\":{\"value\":15}},\"id\":\"1078\",\"type\":\"VeeHead\"},{\"attributes\":{\"coordinates\":null,\"group\":null,\"text\":\"1Y 8M\",\"text_align\":\"center\",\"text_color\":\"steelblue\",\"text_font_size\":\"10px\",\"x\":1596175200000.0,\"y\":25},\"id\":\"1060\",\"type\":\"Label\"},{\"attributes\":{\"months\":[\"%b %Y\"]},\"id\":\"1085\",\"type\":\"DatetimeTickFormatter\"},{\"attributes\":{\"coordinates\":null,\"group\":null,\"text\":\"2Y 6M\",\"text_align\":\"center\",\"text_color\":\"steelblue\",\"text_font_size\":\"10px\",\"x\":1464674400000.0,\"y\":25},\"id\":\"1058\",\"type\":\"Label\"},{\"attributes\":{},\"id\":\"1011\",\"type\":\"LinearScale\"},{\"attributes\":{\"coordinates\":null,\"group\":null,\"text\":\"2Y\",\"text_align\":\"center\",\"text_color\":\"steelblue\",\"text_font_size\":\"10px\",\"x\":1538287200000.0,\"y\":25},\"id\":\"1059\",\"type\":\"Label\"},{\"attributes\":{\"coordinates\":null,\"end\":{\"id\":\"1062\"},\"group\":null,\"line_alpha\":{\"value\":0.5},\"line_color\":{\"value\":\"steelblue\"},\"source\":{\"id\":\"1093\"},\"start\":{\"id\":\"1061\"},\"x_end\":{\"value\":1230706800000.0},\"x_start\":{\"value\":1075532400000.0},\"y_end\":{\"value\":20},\"y_start\":{\"value\":20}},\"id\":\"1063\",\"type\":\"Arrow\"},{\"attributes\":{\"coordinates\":null,\"end\":{\"id\":\"1070\"},\"group\":null,\"line_alpha\":{\"value\":0.5},\"line_color\":{\"value\":\"steelblue\"},\"source\":{\"id\":\"1095\"},\"start\":{\"id\":\"1069\"},\"x_end\":{\"value\":1425106800000.0},\"x_start\":{\"value\":1343714400000.0},\"y_end\":{\"value\":20},\"y_start\":{\"value\":20}},\"id\":\"1071\",\"type\":\"Arrow\"},{\"attributes\":{\"fill_alpha\":{\"value\":0.5},\"fill_color\":{\"value\":\"steelblue\"},\"line_alpha\":{\"value\":0.5},\"line_color\":{\"value\":\"steelblue\"},\"line_width\":{\"value\":2},\"size\":{\"value\":15}},\"id\":\"1069\",\"type\":\"VeeHead\"},{\"attributes\":{\"fill_alpha\":{\"value\":0.5},\"fill_color\":{\"value\":\"steelblue\"},\"line_alpha\":{\"value\":0.5},\"line_color\":{\"value\":\"steelblue\"},\"line_width\":{\"value\":2},\"size\":{\"value\":15}},\"id\":\"1070\",\"type\":\"VeeHead\"},{\"attributes\":{},\"id\":\"1007\",\"type\":\"DataRange1d\"},{\"attributes\":{\"axis\":{\"id\":\"1015\"},\"coordinates\":null,\"group\":null,\"ticker\":null},\"id\":\"1018\",\"type\":\"Grid\"},{\"attributes\":{\"fill_alpha\":{\"value\":0.5},\"fill_color\":{\"value\":\"steelblue\"},\"line_alpha\":{\"value\":0.5},\"line_color\":{\"value\":\"steelblue\"},\"line_width\":{\"value\":2},\"size\":{\"value\":15}},\"id\":\"1077\",\"type\":\"VeeHead\"},{\"attributes\":{\"coordinates\":null,\"data_source\":{\"id\":\"1002\"},\"glyph\":{\"id\":\"1041\"},\"group\":null,\"hover_glyph\":null,\"muted_glyph\":{\"id\":\"1043\"},\"nonselection_glyph\":{\"id\":\"1042\"},\"view\":{\"id\":\"1045\"}},\"id\":\"1044\",\"type\":\"GlyphRenderer\"},{\"attributes\":{\"fill_alpha\":{\"value\":0.5},\"fill_color\":{\"value\":\"steelblue\"},\"line_alpha\":{\"value\":0.5},\"line_color\":{\"value\":\"steelblue\"},\"line_width\":{\"value\":2},\"size\":{\"value\":15}},\"id\":\"1061\",\"type\":\"VeeHead\"},{\"attributes\":{\"fill_alpha\":{\"value\":0.5},\"fill_color\":{\"value\":\"steelblue\"},\"line_alpha\":{\"value\":0.5},\"line_color\":{\"value\":\"steelblue\"},\"line_width\":{\"value\":2},\"size\":{\"value\":15}},\"id\":\"1081\",\"type\":\"VeeHead\"},{\"attributes\":{\"fill_alpha\":{\"value\":0.5},\"fill_color\":{\"value\":\"steelblue\"},\"line_alpha\":{\"value\":0.5},\"line_color\":{\"value\":\"steelblue\"},\"line_width\":{\"value\":2},\"size\":{\"value\":15}},\"id\":\"1066\",\"type\":\"VeeHead\"},{\"attributes\":{\"coordinates\":null,\"end\":{\"id\":\"1078\"},\"group\":null,\"line_alpha\":{\"value\":0.5},\"line_color\":{\"value\":\"steelblue\"},\"source\":{\"id\":\"1097\"},\"start\":{\"id\":\"1077\"},\"x_end\":{\"value\":1567231200000.0},\"x_start\":{\"value\":1504159200000.0},\"y_end\":{\"value\":20},\"y_start\":{\"value\":20}},\"id\":\"1079\",\"type\":\"Arrow\"},{\"attributes\":{\"coordinates\":null,\"end\":{\"id\":\"1066\"},\"group\":null,\"line_alpha\":{\"value\":0.5},\"line_color\":{\"value\":\"steelblue\"},\"source\":{\"id\":\"1094\"},\"start\":{\"id\":\"1065\"},\"x_end\":{\"value\":1343714400000.0},\"x_start\":{\"value\":1230706800000.0},\"y_end\":{\"value\":20},\"y_start\":{\"value\":20}},\"id\":\"1067\",\"type\":\"Arrow\"},{\"attributes\":{\"coordinates\":null,\"end\":{\"id\":\"1082\"},\"group\":null,\"line_alpha\":{\"value\":0.5},\"line_color\":{\"value\":\"steelblue\"},\"source\":{\"id\":\"1098\"},\"start\":{\"id\":\"1081\"},\"x_end\":{\"value\":1625032800000.0},\"x_start\":{\"value\":1567231200000.0},\"y_end\":{\"value\":20},\"y_start\":{\"value\":20}},\"id\":\"1083\",\"type\":\"Arrow\"},{\"attributes\":{\"autohide\":true,\"tools\":[{\"id\":\"1023\"},{\"id\":\"1024\"},{\"id\":\"1025\"},{\"id\":\"1026\"},{\"id\":\"1027\"},{\"id\":\"1028\"},{\"id\":\"1046\"}]},\"id\":\"1030\",\"type\":\"Toolbar\"},{\"attributes\":{\"overlay\":{\"id\":\"1029\"}},\"id\":\"1025\",\"type\":\"BoxZoomTool\"},{\"attributes\":{},\"id\":\"1028\",\"type\":\"HelpTool\"},{\"attributes\":{},\"id\":\"1026\",\"type\":\"SaveTool\"},{\"attributes\":{},\"id\":\"1027\",\"type\":\"ResetTool\"},{\"attributes\":{},\"id\":\"1013\",\"type\":\"LogScale\"},{\"attributes\":{},\"id\":\"1023\",\"type\":\"PanTool\"},{\"attributes\":{\"coordinates\":null,\"formatter\":{\"id\":\"1089\"},\"group\":null,\"major_label_policy\":{\"id\":\"1090\"},\"ticker\":{\"id\":\"1020\"}},\"id\":\"1019\",\"type\":\"LogAxis\"},{\"attributes\":{\"axis\":{\"id\":\"1019\"},\"coordinates\":null,\"dimension\":1,\"group\":null,\"ticker\":null},\"id\":\"1022\",\"type\":\"Grid\"},{\"attributes\":{\"ticker\":null},\"id\":\"1089\",\"type\":\"LogTickFormatter\"},{\"attributes\":{\"num_minor_ticks\":5,\"tickers\":[{\"id\":\"1102\"},{\"id\":\"1103\"},{\"id\":\"1104\"},{\"id\":\"1105\"},{\"id\":\"1106\"},{\"id\":\"1107\"},{\"id\":\"1108\"},{\"id\":\"1109\"},{\"id\":\"1110\"},{\"id\":\"1111\"},{\"id\":\"1112\"},{\"id\":\"1113\"}]},\"id\":\"1016\",\"type\":\"DatetimeTicker\"},{\"attributes\":{},\"id\":\"1024\",\"type\":\"WheelZoomTool\"}],\"root_ids\":[\"1004\"]},\"title\":\"Bokeh Application\",\"version\":\"2.4.1\"}};\n  const render_items = [{\"docid\":\"50c6c397-a529-4e8b-94cf-7a3047cafed5\",\"root_ids\":[\"1004\"],\"roots\":{\"1004\":\"ddeafdef-faa9-406a-bbdb-bc9c6411e4a1\"}}];\n  root.Bokeh.embed.embed_items_notebook(docs_json, render_items);\n\n  }\n  if (root.Bokeh !== undefined) {\n    embed_document(root);\n  } else {\n    let attempts = 0;\n    const timer = setInterval(function(root) {\n      if (root.Bokeh !== undefined) {\n        clearInterval(timer);\n        embed_document(root);\n      } else {\n        attempts++;\n        if (attempts > 100) {\n          clearInterval(timer);\n          console.log(\"Bokeh: ERROR: Unable to run BokehJS code because BokehJS library is missing\");\n        }\n      }\n    }, 10, root)\n  }\n})(window);",
      "application/vnd.bokehjs_exec.v0+json": ""
     },
     "metadata": {
      "application/vnd.bokehjs_exec.v0+json": {
       "id": "1004"
      }
     },
     "output_type": "display_data"
    }
   ],
   "source": [
    "\"|BUILD PLOT|\"\n",
    "\n",
    "cds = ColumnDataSource(data)\n",
    "\n",
    "text1  = Label(x=25, y=325, x_units='screen', y_units='screen', text_font_size=\"12px\", text_color=\"darkslategrey\",\n",
    "               text=\"VARIACIÓN ANAUL\")\n",
    "\n",
    "\n",
    "#BUILD FIGURE\n",
    "p = figure(title = \"EL HUB ECONÓMICO | TIEMPO EN QUE SE DUPLICA EL NIVEL DE PRECIOS\",\n",
    "           y_range      = (35, 1),\n",
    "           x_axis_label = \"\",\n",
    "           y_axis_label = \"\",\n",
    "           x_axis_type  = \"datetime\",\n",
    "           y_axis_type  = \"log\",\n",
    "           plot_height  = 400,\n",
    "           plot_width   = 700)\n",
    "\n",
    "p.xaxis[0].formatter = DatetimeTickFormatter(months=\"%b %Y\")\n",
    "p.toolbar_location = \"right\"\n",
    "p.toolbar.autohide = True\n",
    "\n",
    "#AXIS 1 (LEFT)\n",
    "p.line(\"MONTH\", \"TIEMPO1\" , color=\"red\"  , line_alpha=0.75, width=2 , source=cds)\n",
    "p.add_tools(HoverTool(tooltips = [(\"Tiempo\", \"@TIEMPO2\"), (\"Inflación\", \"@INFLA{0.0}\")], mode=\"vline\"))\n",
    "\n",
    "\n",
    "#ADD PRICE DUPLICATION MARKS\n",
    "mark1 = Span(location=dt(2004, 1,31).timestamp()*1000, dimension='height', line_color='steelblue', line_alpha=0.5)\n",
    "mark2 = Span(location=dt(2008,12,31).timestamp()*1000, dimension='height', line_color='steelblue', line_alpha=0.5)\n",
    "mark3 = Span(location=dt(2012, 7,31).timestamp()*1000, dimension='height', line_color='steelblue', line_alpha=0.5)\n",
    "mark4 = Span(location=dt(2015, 2,28).timestamp()*1000, dimension='height', line_color='steelblue', line_alpha=0.5)\n",
    "mark5 = Span(location=dt(2017, 8,31).timestamp()*1000, dimension='height', line_color='steelblue', line_alpha=0.5)\n",
    "mark6 = Span(location=dt(2019, 8,31).timestamp()*1000, dimension='height', line_color='steelblue', line_alpha=0.5)\n",
    "mark7 = Span(location=dt(2021, 6,30).timestamp()*1000, dimension='height', line_color='steelblue', line_alpha=0.5)\n",
    "\n",
    "text1 = Label(x=dt(2006, 6,30).timestamp()*1000, y=25, text_font_size='10px', text_color='steelblue', text_align='center',\n",
    "              text='5Y')\n",
    "text2 = Label(x=dt(2010,10,31).timestamp()*1000, y=25, text_font_size='10px', text_color='steelblue', text_align='center',\n",
    "              text='3Y 7M')\n",
    "text3 = Label(x=dt(2013,10,31).timestamp()*1000, y=25, text_font_size='10px', text_color='steelblue', text_align='center',\n",
    "              text='2Y 7M')\n",
    "text4 = Label(x=dt(2016, 5,31).timestamp()*1000, y=25, text_font_size='10px', text_color='steelblue', text_align='center',\n",
    "              text='2Y 6M')\n",
    "text5 = Label(x=dt(2018, 9,30).timestamp()*1000, y=25, text_font_size='10px', text_color='steelblue', text_align='center',\n",
    "              text='2Y')\n",
    "text6 = Label(x=dt(2020, 7,31).timestamp()*1000, y=25, text_font_size='10px', text_color='steelblue', text_align='center',\n",
    "              text='1Y 8M')\n",
    "\n",
    "p.add_layout(mark1)\n",
    "p.add_layout(mark2)\n",
    "p.add_layout(mark3)\n",
    "p.add_layout(mark4)\n",
    "p.add_layout(mark5)\n",
    "p.add_layout(mark6)\n",
    "p.add_layout(mark7)\n",
    "\n",
    "p.add_layout(text1)\n",
    "p.add_layout(Arrow(start=VeeHead(line_color='steelblue', line_width=2, line_alpha=0.5, size=15, fill_alpha=0.5, fill_color='steelblue'),\n",
    "                   end  =VeeHead(line_color='steelblue', line_width=2, line_alpha=0.5, size=15, fill_alpha=0.5, fill_color='steelblue'),\n",
    "                   x_start=dt(2004, 1,31).timestamp()*1000, y_start=20, x_end=dt(2008,12,31).timestamp()*1000, y_end=20,\n",
    "                   line_color='steelblue', line_alpha=0.5))\n",
    "\n",
    "p.add_layout(text2)\n",
    "p.add_layout(Arrow(start=VeeHead(line_color='steelblue', line_width=2, line_alpha=0.5, size=15, fill_alpha=0.5, fill_color='steelblue'),\n",
    "                   end  =VeeHead(line_color='steelblue', line_width=2, line_alpha=0.5, size=15, fill_alpha=0.5, fill_color='steelblue'),\n",
    "                   x_start=dt(2008,12,31).timestamp()*1000, y_start=20, x_end=dt(2012, 7,31).timestamp()*1000, y_end=20,\n",
    "                   line_color='steelblue', line_alpha=0.5))\n",
    "\n",
    "p.add_layout(text3)\n",
    "p.add_layout(Arrow(start=VeeHead(line_color='steelblue', line_width=2, line_alpha=0.5, size=15, fill_alpha=0.5, fill_color='steelblue'),\n",
    "                   end  =VeeHead(line_color='steelblue', line_width=2, line_alpha=0.5, size=15, fill_alpha=0.5, fill_color='steelblue'),\n",
    "                   x_start=dt(2012, 7,31).timestamp()*1000, y_start=20, x_end=dt(2015, 2,28).timestamp()*1000, y_end=20,\n",
    "                   line_color='steelblue', line_alpha=0.5))\n",
    "\n",
    "p.add_layout(text4)\n",
    "p.add_layout(Arrow(start=VeeHead(line_color='steelblue', line_width=2, line_alpha=0.5, size=15, fill_alpha=0.5, fill_color='steelblue'),\n",
    "                   end  =VeeHead(line_color='steelblue', line_width=2, line_alpha=0.5, size=15, fill_alpha=0.5, fill_color='steelblue'),\n",
    "                   x_start=dt(2015, 2,28).timestamp()*1000, y_start=20, x_end=dt(2017, 8,31).timestamp()*1000, y_end=20,\n",
    "                   line_color='steelblue', line_alpha=0.5))\n",
    "p.add_layout(text5)\n",
    "p.add_layout(Arrow(start=VeeHead(line_color='steelblue', line_width=2, line_alpha=0.5, size=15, fill_alpha=0.5, fill_color='steelblue'),\n",
    "                   end  =VeeHead(line_color='steelblue', line_width=2, line_alpha=0.5, size=15, fill_alpha=0.5, fill_color='steelblue'),\n",
    "                   x_start=dt(2017, 8,31).timestamp()*1000, y_start=20, x_end=dt(2019, 8,31).timestamp()*1000, y_end=20,\n",
    "                   line_color='steelblue', line_alpha=0.5))\n",
    "\n",
    "p.add_layout(text6)\n",
    "p.add_layout(Arrow(start=VeeHead(line_color='steelblue', line_width=2, line_alpha=0.5, size=15, fill_alpha=0.5, fill_color='steelblue'),\n",
    "                   end  =VeeHead(line_color='steelblue', line_width=2, line_alpha=0.5, size=15, fill_alpha=0.5, fill_color='steelblue'),\n",
    "                   x_start=dt(2019, 8,31).timestamp()*1000, y_start=20, x_end=dt(2021, 6,30).timestamp()*1000, y_end=20,\n",
    "                   line_color='steelblue', line_alpha=0.5))\n",
    "\n",
    "#LEGEND\n",
    "p.xaxis[0].formatter = DatetimeTickFormatter(months=['%b %Y'])\n",
    "output_notebook()\n",
    "show(p)"
   ]
  },
  {
   "cell_type": "code",
   "execution_count": 5,
   "metadata": {},
   "outputs": [
    {
     "data": {
      "text/plain": [
       "'c:\\\\Users\\\\ncach\\\\OneDrive\\\\My Documents\\\\GitHub\\\\el-hub-economico\\\\static\\\\Jupyter Notebooks\\\\precios_x2.png'"
      ]
     },
     "execution_count": 5,
     "metadata": {},
     "output_type": "execute_result"
    }
   ],
   "source": [
    "\"|EXPORT .PNG FILE|\"\n",
    "\n",
    "export_png(p, filename=\"precios_x2.png\")"
   ]
  },
  {
   "cell_type": "code",
   "execution_count": null,
   "metadata": {},
   "outputs": [],
   "source": [
    "\"|# CREATE HTML FILE|\"\n",
    "\n",
    "output_file(filename=\"precio_x2.html\", title=\"Tiempo en que se duplica el nivel de precios\")\n",
    "save(p)"
   ]
  },
  {
   "cell_type": "code",
   "execution_count": 6,
   "metadata": {},
   "outputs": [],
   "source": [
    "\"|CREATE JSON FILE|\"\n",
    "import json\n",
    "import bokeh.embed\n",
    "\n",
    "from bokeh.embed import json_item\n",
    "\n",
    "j = json.dumps(json_item(p, \"aprecios_x2\"))\n",
    "with open(\"02.03_precios_x2.json\", \"w\") as fp:\n",
    "    json.dump(j, fp)"
   ]
  },
  {
   "cell_type": "code",
   "execution_count": null,
   "metadata": {},
   "outputs": [],
   "source": []
  }
 ],
 "metadata": {
  "interpreter": {
   "hash": "67f5e3deb3d1187721f1897673cbf480ee531fe068877b6e0cbed7fdb83e5983"
  },
  "kernelspec": {
   "display_name": "Python 3.8.8 64-bit ('base': conda)",
   "name": "python3"
  },
  "language_info": {
   "codemirror_mode": {
    "name": "ipython",
    "version": 3
   },
   "file_extension": ".py",
   "mimetype": "text/x-python",
   "name": "python",
   "nbconvert_exporter": "python",
   "pygments_lexer": "ipython3",
   "version": "3.8.8"
  }
 },
 "nbformat": 4,
 "nbformat_minor": 5
}
