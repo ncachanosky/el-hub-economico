{
 "cells": [
  {
   "cell_type": "code",
   "execution_count": 7,
   "source": [
    "\"|IMPORT PACKAGES|\"\r\n",
    "import numpy              as np\r\n",
    "import pandas             as pd\r\n",
    "import datetime\r\n",
    "from   bokeh.plotting     import show, figure, output_file, save\r\n",
    "from   bokeh.io           import show, output_notebook, curdoc, export_png\r\n",
    "from   bokeh.models       import ColumnDataSource,LinearAxis, Range1d, NumeralTickFormatter, LabelSet, Label, BoxAnnotation, DatetimeTickFormatter, Text, Span\r\n",
    "from   bokeh.models.tools import HoverTool\r\n",
    "from   bokeh.models       import Arrow, NormalHead, OpenHead, VeeHead, LabelSet\r\n",
    "from   bokeh.transform    import dodge\r\n",
    "from   datetime           import datetime as dt"
   ],
   "outputs": [],
   "metadata": {}
  },
  {
   "cell_type": "code",
   "execution_count": 3,
   "source": [
    "\"|IMPORT DATA|\"\r\n",
    "path = r'https://github.com/ncachanosky/research/blob/master/Economic%20Series/'\r\n",
    "file = r'Resumen%20Estadistico%20-%20Argentina.xlsx?raw=true'\r\n",
    "#file = r'Resumen%20Estadistico%20-%20Argentina.xlsx'\r\n",
    "IO   = path + file\r\n",
    "\r\n",
    "sheet = 'PBI'\r\n",
    "\r\n",
    "data = pd.read_excel(IO, sheet_name = sheet, usecols=\"A,D \", skiprows=10, nrows=211, engine='openpyxl') # Be patient..."
   ],
   "outputs": [],
   "metadata": {}
  },
  {
   "cell_type": "code",
   "execution_count": 4,
   "source": [
    "\"|CHECK DATA|\"\r\n",
    "data"
   ],
   "outputs": [
    {
     "output_type": "execute_result",
     "data": {
      "text/html": [
       "<div>\n",
       "<style scoped>\n",
       "    .dataframe tbody tr th:only-of-type {\n",
       "        vertical-align: middle;\n",
       "    }\n",
       "\n",
       "    .dataframe tbody tr th {\n",
       "        vertical-align: top;\n",
       "    }\n",
       "\n",
       "    .dataframe thead th {\n",
       "        text-align: right;\n",
       "    }\n",
       "</style>\n",
       "<table border=\"1\" class=\"dataframe\">\n",
       "  <thead>\n",
       "    <tr style=\"text-align: right;\">\n",
       "      <th></th>\n",
       "      <th>YEAR</th>\n",
       "      <th>PBI FINAL</th>\n",
       "    </tr>\n",
       "  </thead>\n",
       "  <tbody>\n",
       "    <tr>\n",
       "      <th>0</th>\n",
       "      <td>1810.0</td>\n",
       "      <td>1157.150754</td>\n",
       "    </tr>\n",
       "    <tr>\n",
       "      <th>1</th>\n",
       "      <td>1811.0</td>\n",
       "      <td>1175.043607</td>\n",
       "    </tr>\n",
       "    <tr>\n",
       "      <th>2</th>\n",
       "      <td>1812.0</td>\n",
       "      <td>1174.878619</td>\n",
       "    </tr>\n",
       "    <tr>\n",
       "      <th>3</th>\n",
       "      <td>1813.0</td>\n",
       "      <td>1188.507235</td>\n",
       "    </tr>\n",
       "    <tr>\n",
       "      <th>4</th>\n",
       "      <td>1814.0</td>\n",
       "      <td>1208.059223</td>\n",
       "    </tr>\n",
       "    <tr>\n",
       "      <th>...</th>\n",
       "      <td>...</td>\n",
       "      <td>...</td>\n",
       "    </tr>\n",
       "    <tr>\n",
       "      <th>206</th>\n",
       "      <td>2016.0</td>\n",
       "      <td>706477.848598</td>\n",
       "    </tr>\n",
       "    <tr>\n",
       "      <th>207</th>\n",
       "      <td>2017.0</td>\n",
       "      <td>726389.947763</td>\n",
       "    </tr>\n",
       "    <tr>\n",
       "      <th>208</th>\n",
       "      <td>2018.0</td>\n",
       "      <td>707755.489604</td>\n",
       "    </tr>\n",
       "    <tr>\n",
       "      <th>209</th>\n",
       "      <td>2019.0</td>\n",
       "      <td>692977.449784</td>\n",
       "    </tr>\n",
       "    <tr>\n",
       "      <th>210</th>\n",
       "      <td>2020.0</td>\n",
       "      <td>624336.405910</td>\n",
       "    </tr>\n",
       "  </tbody>\n",
       "</table>\n",
       "<p>211 rows × 2 columns</p>\n",
       "</div>"
      ],
      "text/plain": [
       "       YEAR      PBI FINAL\n",
       "0    1810.0    1157.150754\n",
       "1    1811.0    1175.043607\n",
       "2    1812.0    1174.878619\n",
       "3    1813.0    1188.507235\n",
       "4    1814.0    1208.059223\n",
       "..      ...            ...\n",
       "206  2016.0  706477.848598\n",
       "207  2017.0  726389.947763\n",
       "208  2018.0  707755.489604\n",
       "209  2019.0  692977.449784\n",
       "210  2020.0  624336.405910\n",
       "\n",
       "[211 rows x 2 columns]"
      ]
     },
     "metadata": {},
     "execution_count": 4
    }
   ],
   "metadata": {}
  },
  {
   "cell_type": "code",
   "execution_count": 42,
   "source": [
    "\"|BUILD PLOT|\"\r\n",
    "\r\n",
    "x = ['1900-10', #01\r\n",
    "     '1910-20', #02\r\n",
    "     '1920-30', #03\r\n",
    "     '1930-40', #04\r\n",
    "     '1940-50', #05\r\n",
    "     '1950-60', #06\r\n",
    "     '1960-70', #07\r\n",
    "     '1970-80', #08\r\n",
    "     '1980-90', #09\r\n",
    "     '1990-00', #10\r\n",
    "     '2000-10', #11\r\n",
    "     '2010-20'  #12\r\n",
    "     ]\r\n",
    "\r\n",
    "y = [((data.iloc[100,1]/data.iloc[ 90,1])**(1/10)-1)*100, # 01 | 1900 - 1910\r\n",
    "     ((data.iloc[110,1]/data.iloc[100,1])**(1/10)-1)*100, # 02 | 1910 - 1920\r\n",
    "     ((data.iloc[120,1]/data.iloc[110,1])**(1/10)-1)*100, # 03 | 1920 - 1930\r\n",
    "     ((data.iloc[130,1]/data.iloc[120,1])**(1/10)-1)*100, # 04 | 1930 - 1940\r\n",
    "     ((data.iloc[140,1]/data.iloc[130,1])**(1/10)-1)*100, # 05 | 1940 - 1950\r\n",
    "     ((data.iloc[150,1]/data.iloc[140,1])**(1/10)-1)*100, # 06 | 1950 - 1960\r\n",
    "     ((data.iloc[160,1]/data.iloc[150,1])**(1/10)-1)*100, # 07 | 1960 - 1970\r\n",
    "     ((data.iloc[170,1]/data.iloc[160,1])**(1/10)-1)*100, # 08 | 1970 - 1980\r\n",
    "     ((data.iloc[180,1]/data.iloc[170,1])**(1/10)-1)*100, # 09 | 1980 - 1990\r\n",
    "     ((data.iloc[190,1]/data.iloc[180,1])**(1/10)-1)*100, # 10 | 1990 - 2000\r\n",
    "     ((data.iloc[200,1]/data.iloc[190,1])**(1/10)-1)*100, # 11 | 2000 - 2010\r\n",
    "     ((data.iloc[210,1]/data.iloc[200,1])**(1/10)-1)*100  # 12 | 2010 - 2020\r\n",
    "     ]\r\n",
    "\r\n",
    "colors = ['blue', #01\r\n",
    "          'blue', #02\r\n",
    "          'blue', #03\r\n",
    "          'blue', #04\r\n",
    "          'blue', #05\r\n",
    "          'blue', #06\r\n",
    "          'blue', #07\r\n",
    "          'blue', #08\r\n",
    "          'red' , #09\r\n",
    "          'blue', #10\r\n",
    "          'blue', #11\r\n",
    "          'red'   #12\r\n",
    "          ]\r\n",
    "\r\n",
    "cds = ColumnDataSource(data=dict(x=x, y=y, colors=colors))\r\n",
    "\r\n",
    "#BUILD FIGURE\r\n",
    "p = figure(title        = \"EL HUB ECONÓMICO | CRECIMIENTO ANUALIZADO, PBI REAL, POR DÉCADAS\",\r\n",
    "           x_axis_label = ''         ,\r\n",
    "           y_axis_label = 'Percentil',\r\n",
    "           x_range      = x          ,\r\n",
    "           y_range      = (-2, 8)    ,\r\n",
    "           plot_height  = 400        ,\r\n",
    "           plot_width   = 700\r\n",
    "           )\r\n",
    "\r\n",
    "p.toolbar_location = 'right'\r\n",
    "p.toolbar.autohide = True\r\n",
    "\r\n",
    "#AXIS 1 (LEFT)\r\n",
    "p.vbar(x='x', top='y', width=0.5, bottom=0, color='colors', alpha=0.75, source=cds)\r\n",
    "\r\n",
    "hline = Span(location=0, dimension='width', line_color='black', line_width=1)\r\n",
    "p.add_layout(hline)\r\n",
    "\r\n",
    "p.add_tools(HoverTool(tooltips = [(\"Década\", \"@x\"),(\"Tasa anualizada\", \"@y{0.0}\")], mode=\"vline\"))\r\n",
    "\r\n",
    "\r\n",
    "#LEGEND\r\n",
    "output_notebook()\r\n",
    "show(p)"
   ],
   "outputs": [
    {
     "output_type": "display_data",
     "data": {
      "text/html": [
       "\n",
       "    <div class=\"bk-root\">\n",
       "        <a href=\"https://bokeh.org\" target=\"_blank\" class=\"bk-logo bk-logo-small bk-logo-notebook\"></a>\n",
       "        <span id=\"3631\">Loading BokehJS ...</span>\n",
       "    </div>"
      ]
     },
     "metadata": {}
    },
    {
     "output_type": "display_data",
     "data": {
      "application/vnd.bokehjs_load.v0+json": "",
      "application/javascript": "\n(function(root) {\n  function now() {\n    return new Date();\n  }\n\n  var force = true;\n\n  if (typeof root._bokeh_onload_callbacks === \"undefined\" || force === true) {\n    root._bokeh_onload_callbacks = [];\n    root._bokeh_is_loading = undefined;\n  }\n\n  var JS_MIME_TYPE = 'application/javascript';\n  var HTML_MIME_TYPE = 'text/html';\n  var EXEC_MIME_TYPE = 'application/vnd.bokehjs_exec.v0+json';\n  var CLASS_NAME = 'output_bokeh rendered_html';\n\n  /**\n   * Render data to the DOM node\n   */\n  function render(props, node) {\n    var script = document.createElement(\"script\");\n    node.appendChild(script);\n  }\n\n  /**\n   * Handle when an output is cleared or removed\n   */\n  function handleClearOutput(event, handle) {\n    var cell = handle.cell;\n\n    var id = cell.output_area._bokeh_element_id;\n    var server_id = cell.output_area._bokeh_server_id;\n    // Clean up Bokeh references\n    if (id != null && id in Bokeh.index) {\n      Bokeh.index[id].model.document.clear();\n      delete Bokeh.index[id];\n    }\n\n    if (server_id !== undefined) {\n      // Clean up Bokeh references\n      var cmd = \"from bokeh.io.state import curstate; print(curstate().uuid_to_server['\" + server_id + \"'].get_sessions()[0].document.roots[0]._id)\";\n      cell.notebook.kernel.execute(cmd, {\n        iopub: {\n          output: function(msg) {\n            var id = msg.content.text.trim();\n            if (id in Bokeh.index) {\n              Bokeh.index[id].model.document.clear();\n              delete Bokeh.index[id];\n            }\n          }\n        }\n      });\n      // Destroy server and session\n      var cmd = \"import bokeh.io.notebook as ion; ion.destroy_server('\" + server_id + \"')\";\n      cell.notebook.kernel.execute(cmd);\n    }\n  }\n\n  /**\n   * Handle when a new output is added\n   */\n  function handleAddOutput(event, handle) {\n    var output_area = handle.output_area;\n    var output = handle.output;\n\n    // limit handleAddOutput to display_data with EXEC_MIME_TYPE content only\n    if ((output.output_type != \"display_data\") || (!Object.prototype.hasOwnProperty.call(output.data, EXEC_MIME_TYPE))) {\n      return\n    }\n\n    var toinsert = output_area.element.find(\".\" + CLASS_NAME.split(' ')[0]);\n\n    if (output.metadata[EXEC_MIME_TYPE][\"id\"] !== undefined) {\n      toinsert[toinsert.length - 1].firstChild.textContent = output.data[JS_MIME_TYPE];\n      // store reference to embed id on output_area\n      output_area._bokeh_element_id = output.metadata[EXEC_MIME_TYPE][\"id\"];\n    }\n    if (output.metadata[EXEC_MIME_TYPE][\"server_id\"] !== undefined) {\n      var bk_div = document.createElement(\"div\");\n      bk_div.innerHTML = output.data[HTML_MIME_TYPE];\n      var script_attrs = bk_div.children[0].attributes;\n      for (var i = 0; i < script_attrs.length; i++) {\n        toinsert[toinsert.length - 1].firstChild.setAttribute(script_attrs[i].name, script_attrs[i].value);\n        toinsert[toinsert.length - 1].firstChild.textContent = bk_div.children[0].textContent\n      }\n      // store reference to server id on output_area\n      output_area._bokeh_server_id = output.metadata[EXEC_MIME_TYPE][\"server_id\"];\n    }\n  }\n\n  function register_renderer(events, OutputArea) {\n\n    function append_mime(data, metadata, element) {\n      // create a DOM node to render to\n      var toinsert = this.create_output_subarea(\n        metadata,\n        CLASS_NAME,\n        EXEC_MIME_TYPE\n      );\n      this.keyboard_manager.register_events(toinsert);\n      // Render to node\n      var props = {data: data, metadata: metadata[EXEC_MIME_TYPE]};\n      render(props, toinsert[toinsert.length - 1]);\n      element.append(toinsert);\n      return toinsert\n    }\n\n    /* Handle when an output is cleared or removed */\n    events.on('clear_output.CodeCell', handleClearOutput);\n    events.on('delete.Cell', handleClearOutput);\n\n    /* Handle when a new output is added */\n    events.on('output_added.OutputArea', handleAddOutput);\n\n    /**\n     * Register the mime type and append_mime function with output_area\n     */\n    OutputArea.prototype.register_mime_type(EXEC_MIME_TYPE, append_mime, {\n      /* Is output safe? */\n      safe: true,\n      /* Index of renderer in `output_area.display_order` */\n      index: 0\n    });\n  }\n\n  // register the mime type if in Jupyter Notebook environment and previously unregistered\n  if (root.Jupyter !== undefined) {\n    var events = require('base/js/events');\n    var OutputArea = require('notebook/js/outputarea').OutputArea;\n\n    if (OutputArea.prototype.mime_types().indexOf(EXEC_MIME_TYPE) == -1) {\n      register_renderer(events, OutputArea);\n    }\n  }\n\n  \n  if (typeof (root._bokeh_timeout) === \"undefined\" || force === true) {\n    root._bokeh_timeout = Date.now() + 5000;\n    root._bokeh_failed_load = false;\n  }\n\n  var NB_LOAD_WARNING = {'data': {'text/html':\n     \"<div style='background-color: #fdd'>\\n\"+\n     \"<p>\\n\"+\n     \"BokehJS does not appear to have successfully loaded. If loading BokehJS from CDN, this \\n\"+\n     \"may be due to a slow or bad network connection. Possible fixes:\\n\"+\n     \"</p>\\n\"+\n     \"<ul>\\n\"+\n     \"<li>re-rerun `output_notebook()` to attempt to load from CDN again, or</li>\\n\"+\n     \"<li>use INLINE resources instead, as so:</li>\\n\"+\n     \"</ul>\\n\"+\n     \"<code>\\n\"+\n     \"from bokeh.resources import INLINE\\n\"+\n     \"output_notebook(resources=INLINE)\\n\"+\n     \"</code>\\n\"+\n     \"</div>\"}};\n\n  function display_loaded() {\n    var el = document.getElementById(\"3631\");\n    if (el != null) {\n      el.textContent = \"BokehJS is loading...\";\n    }\n    if (root.Bokeh !== undefined) {\n      if (el != null) {\n        el.textContent = \"BokehJS \" + root.Bokeh.version + \" successfully loaded.\";\n      }\n    } else if (Date.now() < root._bokeh_timeout) {\n      setTimeout(display_loaded, 100)\n    }\n  }\n\n\n  function run_callbacks() {\n    try {\n      root._bokeh_onload_callbacks.forEach(function(callback) {\n        if (callback != null)\n          callback();\n      });\n    } finally {\n      delete root._bokeh_onload_callbacks\n    }\n    console.debug(\"Bokeh: all callbacks have finished\");\n  }\n\n  function load_libs(css_urls, js_urls, callback) {\n    if (css_urls == null) css_urls = [];\n    if (js_urls == null) js_urls = [];\n\n    root._bokeh_onload_callbacks.push(callback);\n    if (root._bokeh_is_loading > 0) {\n      console.debug(\"Bokeh: BokehJS is being loaded, scheduling callback at\", now());\n      return null;\n    }\n    if (js_urls == null || js_urls.length === 0) {\n      run_callbacks();\n      return null;\n    }\n    console.debug(\"Bokeh: BokehJS not loaded, scheduling load and callback at\", now());\n    root._bokeh_is_loading = css_urls.length + js_urls.length;\n\n    function on_load() {\n      root._bokeh_is_loading--;\n      if (root._bokeh_is_loading === 0) {\n        console.debug(\"Bokeh: all BokehJS libraries/stylesheets loaded\");\n        run_callbacks()\n      }\n    }\n\n    function on_error(url) {\n      console.error(\"failed to load \" + url);\n    }\n\n    for (let i = 0; i < css_urls.length; i++) {\n      const url = css_urls[i];\n      const element = document.createElement(\"link\");\n      element.onload = on_load;\n      element.onerror = on_error.bind(null, url);\n      element.rel = \"stylesheet\";\n      element.type = \"text/css\";\n      element.href = url;\n      console.debug(\"Bokeh: injecting link tag for BokehJS stylesheet: \", url);\n      document.body.appendChild(element);\n    }\n\n    const hashes = {\"https://cdn.bokeh.org/bokeh/release/bokeh-2.3.3.min.js\": \"dM3QQsP+wXdHg42wTqW85BjZQdLNNIXqlPw/BgKoExPmTG7ZLML4EGqLMfqHT6ON\", \"https://cdn.bokeh.org/bokeh/release/bokeh-tables-2.3.3.min.js\": \"8x57I4YuIfu8XyZfFo0XVr2WAT8EK4rh/uDe3wF7YuW2FNUSNEpJbsPaB1nJ2fz2\", \"https://cdn.bokeh.org/bokeh/release/bokeh-widgets-2.3.3.min.js\": \"3QTqdz9LyAm2i0sG5XTePsHec3UHWwVsrOL68SYRoAXsafvfAyqtQ+h440+qIBhS\"};\n\n    for (let i = 0; i < js_urls.length; i++) {\n      const url = js_urls[i];\n      const element = document.createElement('script');\n      element.onload = on_load;\n      element.onerror = on_error.bind(null, url);\n      element.async = false;\n      element.src = url;\n      if (url in hashes) {\n        element.crossOrigin = \"anonymous\";\n        element.integrity = \"sha384-\" + hashes[url];\n      }\n      console.debug(\"Bokeh: injecting script tag for BokehJS library: \", url);\n      document.head.appendChild(element);\n    }\n  };\n\n  function inject_raw_css(css) {\n    const element = document.createElement(\"style\");\n    element.appendChild(document.createTextNode(css));\n    document.body.appendChild(element);\n  }\n\n  \n  var js_urls = [\"https://cdn.bokeh.org/bokeh/release/bokeh-2.3.3.min.js\", \"https://cdn.bokeh.org/bokeh/release/bokeh-widgets-2.3.3.min.js\", \"https://cdn.bokeh.org/bokeh/release/bokeh-tables-2.3.3.min.js\"];\n  var css_urls = [];\n  \n\n  var inline_js = [\n    function(Bokeh) {\n      Bokeh.set_log_level(\"info\");\n    },\n    function(Bokeh) {\n    \n    \n    }\n  ];\n\n  function run_inline_js() {\n    \n    if (root.Bokeh !== undefined || force === true) {\n      \n    for (var i = 0; i < inline_js.length; i++) {\n      inline_js[i].call(root, root.Bokeh);\n    }\n    if (force === true) {\n        display_loaded();\n      }} else if (Date.now() < root._bokeh_timeout) {\n      setTimeout(run_inline_js, 100);\n    } else if (!root._bokeh_failed_load) {\n      console.log(\"Bokeh: BokehJS failed to load within specified timeout.\");\n      root._bokeh_failed_load = true;\n    } else if (force !== true) {\n      var cell = $(document.getElementById(\"3631\")).parents('.cell').data().cell;\n      cell.output_area.append_execute_result(NB_LOAD_WARNING)\n    }\n\n  }\n\n  if (root._bokeh_is_loading === 0) {\n    console.debug(\"Bokeh: BokehJS loaded, going straight to plotting\");\n    run_inline_js();\n  } else {\n    load_libs(css_urls, js_urls, function() {\n      console.debug(\"Bokeh: BokehJS plotting callback run at\", now());\n      run_inline_js();\n    });\n  }\n}(window));"
     },
     "metadata": {}
    },
    {
     "output_type": "display_data",
     "data": {
      "text/html": [
       "\n",
       "\n",
       "\n",
       "\n",
       "\n",
       "\n",
       "  <div class=\"bk-root\" id=\"518dc148-2e09-4e30-ba40-d45df800f27a\" data-root-id=\"3590\"></div>\n"
      ]
     },
     "metadata": {}
    },
    {
     "output_type": "display_data",
     "data": {
      "application/javascript": "(function(root) {\n  function embed_document(root) {\n    \n  var docs_json = {\"74f18730-bcac-434a-9f07-c93e41ecc781\":{\"defs\":[],\"roots\":{\"references\":[{\"attributes\":{\"below\":[{\"id\":\"3601\"}],\"center\":[{\"id\":\"3603\"},{\"id\":\"3607\"},{\"id\":\"3628\"}],\"height\":400,\"left\":[{\"id\":\"3604\"}],\"renderers\":[{\"id\":\"3626\"}],\"title\":{\"id\":\"3591\"},\"toolbar\":{\"id\":\"3615\"},\"width\":700,\"x_range\":{\"id\":\"3593\"},\"x_scale\":{\"id\":\"3597\"},\"y_range\":{\"id\":\"3595\"},\"y_scale\":{\"id\":\"3599\"}},\"id\":\"3590\",\"subtype\":\"Figure\",\"type\":\"Plot\"},{\"attributes\":{\"overlay\":{\"id\":\"3614\"}},\"id\":\"3610\",\"type\":\"BoxZoomTool\"},{\"attributes\":{\"axis\":{\"id\":\"3604\"},\"dimension\":1,\"ticker\":null},\"id\":\"3607\",\"type\":\"Grid\"},{\"attributes\":{},\"id\":\"3750\",\"type\":\"AllLabels\"},{\"attributes\":{\"data_source\":{\"id\":\"3589\"},\"glyph\":{\"id\":\"3624\"},\"hover_glyph\":null,\"muted_glyph\":null,\"nonselection_glyph\":{\"id\":\"3625\"},\"view\":{\"id\":\"3627\"}},\"id\":\"3626\",\"type\":\"GlyphRenderer\"},{\"attributes\":{\"axis_label\":\"Percentil\",\"formatter\":{\"id\":\"3752\"},\"major_label_policy\":{\"id\":\"3753\"},\"ticker\":{\"id\":\"3605\"}},\"id\":\"3604\",\"type\":\"LinearAxis\"},{\"attributes\":{},\"id\":\"3608\",\"type\":\"PanTool\"},{\"attributes\":{},\"id\":\"3752\",\"type\":\"BasicTickFormatter\"},{\"attributes\":{},\"id\":\"3755\",\"type\":\"UnionRenderers\"},{\"attributes\":{},\"id\":\"3609\",\"type\":\"WheelZoomTool\"},{\"attributes\":{},\"id\":\"3753\",\"type\":\"AllLabels\"},{\"attributes\":{\"formatter\":{\"id\":\"3749\"},\"major_label_policy\":{\"id\":\"3750\"},\"ticker\":{\"id\":\"3602\"}},\"id\":\"3601\",\"type\":\"CategoricalAxis\"},{\"attributes\":{},\"id\":\"3613\",\"type\":\"HelpTool\"},{\"attributes\":{},\"id\":\"3756\",\"type\":\"Selection\"},{\"attributes\":{\"end\":8,\"start\":-2},\"id\":\"3595\",\"type\":\"Range1d\"},{\"attributes\":{\"bottom_units\":\"screen\",\"fill_alpha\":0.5,\"fill_color\":\"lightgrey\",\"left_units\":\"screen\",\"level\":\"overlay\",\"line_alpha\":1.0,\"line_color\":\"black\",\"line_dash\":[4,4],\"line_width\":2,\"right_units\":\"screen\",\"syncable\":false,\"top_units\":\"screen\"},\"id\":\"3614\",\"type\":\"BoxAnnotation\"},{\"attributes\":{},\"id\":\"3602\",\"type\":\"CategoricalTicker\"},{\"attributes\":{},\"id\":\"3605\",\"type\":\"BasicTicker\"},{\"attributes\":{\"source\":{\"id\":\"3589\"}},\"id\":\"3627\",\"type\":\"CDSView\"},{\"attributes\":{\"data\":{\"colors\":[\"blue\",\"blue\",\"blue\",\"blue\",\"blue\",\"blue\",\"blue\",\"blue\",\"red\",\"blue\",\"blue\",\"red\"],\"x\":[\"1900-10\",\"1910-20\",\"1920-30\",\"1930-40\",\"1940-50\",\"1950-60\",\"1960-70\",\"1970-80\",\"1980-90\",\"1990-00\",\"2000-10\",\"2010-20\"],\"y\":[7.275870622967551,1.649734686989568,4.667024800415276,1.9571377574448157,3.7955137289926055,2.9736578847392447,4.323889115955093,2.5544165910496686,-1.1515367012930544,4.131657173191727,3.386782451880843,-0.7111560627935942]},\"selected\":{\"id\":\"3756\"},\"selection_policy\":{\"id\":\"3755\"}},\"id\":\"3589\",\"type\":\"ColumnDataSource\"},{\"attributes\":{\"fill_alpha\":{\"value\":0.1},\"fill_color\":{\"field\":\"colors\"},\"line_alpha\":{\"value\":0.1},\"line_color\":{\"field\":\"colors\"},\"top\":{\"field\":\"y\"},\"width\":{\"value\":0.5},\"x\":{\"field\":\"x\"}},\"id\":\"3625\",\"type\":\"VBar\"},{\"attributes\":{\"fill_alpha\":{\"value\":0.75},\"fill_color\":{\"field\":\"colors\"},\"line_alpha\":{\"value\":0.75},\"line_color\":{\"field\":\"colors\"},\"top\":{\"field\":\"y\"},\"width\":{\"value\":0.5},\"x\":{\"field\":\"x\"}},\"id\":\"3624\",\"type\":\"VBar\"},{\"attributes\":{\"text\":\"EL HUB ECON\\u00d3MICO | CRECIMIENTO ANUALIZADO, PBI REAL, POR D\\u00c9CADAS\"},\"id\":\"3591\",\"type\":\"Title\"},{\"attributes\":{\"axis\":{\"id\":\"3601\"},\"ticker\":null},\"id\":\"3603\",\"type\":\"Grid\"},{\"attributes\":{\"factors\":[\"1900-10\",\"1910-20\",\"1920-30\",\"1930-40\",\"1940-50\",\"1950-60\",\"1960-70\",\"1970-80\",\"1980-90\",\"1990-00\",\"2000-10\",\"2010-20\"]},\"id\":\"3593\",\"type\":\"FactorRange\"},{\"attributes\":{},\"id\":\"3611\",\"type\":\"SaveTool\"},{\"attributes\":{\"active_multi\":null,\"autohide\":true,\"tools\":[{\"id\":\"3608\"},{\"id\":\"3609\"},{\"id\":\"3610\"},{\"id\":\"3611\"},{\"id\":\"3612\"},{\"id\":\"3613\"},{\"id\":\"3629\"}]},\"id\":\"3615\",\"type\":\"Toolbar\"},{\"attributes\":{\"callback\":null,\"mode\":\"vline\",\"tooltips\":[[\"D\\u00e9cada\",\"@x\"],[\"Tasa anualizada\",\"@y{0.0}\"]]},\"id\":\"3629\",\"type\":\"HoverTool\"},{\"attributes\":{},\"id\":\"3597\",\"type\":\"CategoricalScale\"},{\"attributes\":{\"location\":0},\"id\":\"3628\",\"type\":\"Span\"},{\"attributes\":{},\"id\":\"3612\",\"type\":\"ResetTool\"},{\"attributes\":{},\"id\":\"3599\",\"type\":\"LinearScale\"},{\"attributes\":{},\"id\":\"3749\",\"type\":\"CategoricalTickFormatter\"}],\"root_ids\":[\"3590\"]},\"title\":\"Bokeh Application\",\"version\":\"2.3.3\"}};\n  var render_items = [{\"docid\":\"74f18730-bcac-434a-9f07-c93e41ecc781\",\"root_ids\":[\"3590\"],\"roots\":{\"3590\":\"518dc148-2e09-4e30-ba40-d45df800f27a\"}}];\n  root.Bokeh.embed.embed_items_notebook(docs_json, render_items);\n\n  }\n  if (root.Bokeh !== undefined) {\n    embed_document(root);\n  } else {\n    var attempts = 0;\n    var timer = setInterval(function(root) {\n      if (root.Bokeh !== undefined) {\n        clearInterval(timer);\n        embed_document(root);\n      } else {\n        attempts++;\n        if (attempts > 100) {\n          clearInterval(timer);\n          console.log(\"Bokeh: ERROR: Unable to run BokehJS code because BokehJS library is missing\");\n        }\n      }\n    }, 10, root)\n  }\n})(window);",
      "application/vnd.bokehjs_exec.v0+json": ""
     },
     "metadata": {
      "application/vnd.bokehjs_exec.v0+json": {
       "id": "3590"
      }
     }
    }
   ],
   "metadata": {}
  },
  {
   "cell_type": "code",
   "execution_count": null,
   "source": [
    "\"|EXPORT .PNG FILE|\"\r\n",
    "\r\n",
    "export_png(p, filename=\"pbi_decadas.png\")"
   ],
   "outputs": [],
   "metadata": {}
  },
  {
   "cell_type": "code",
   "execution_count": null,
   "source": [
    "\"|# CREATE HTML FILE|\"\r\n",
    "\r\n",
    "output_file(filename=\"pbi_decadas.html\", title=\"CRECIMIENTO ANUALIZADO, PBI REAL, PER DÉCADAS\")\r\n",
    "save(p)"
   ],
   "outputs": [],
   "metadata": {}
  },
  {
   "cell_type": "code",
   "execution_count": 43,
   "source": [
    "\"|CREATE JSON FILE|\"\r\n",
    "import json\r\n",
    "import bokeh.embed\r\n",
    "\r\n",
    "from bokeh.embed import json_item\r\n",
    "\r\n",
    "j = json.dumps(json_item(p, \"gdp_decadas\"))\r\n",
    "with open(\"06.04_gdp_decadas.json\", \"w\") as fp:\r\n",
    "    json.dump(j, fp)"
   ],
   "outputs": [],
   "metadata": {}
  },
  {
   "cell_type": "code",
   "execution_count": null,
   "source": [],
   "outputs": [],
   "metadata": {}
  }
 ],
 "metadata": {
  "kernelspec": {
   "name": "python3",
   "display_name": "Python 3.8.8 64-bit ('base': conda)"
  },
  "language_info": {
   "codemirror_mode": {
    "name": "ipython",
    "version": 3
   },
   "file_extension": ".py",
   "mimetype": "text/x-python",
   "name": "python",
   "nbconvert_exporter": "python",
   "pygments_lexer": "ipython3",
   "version": "3.8.8"
  },
  "interpreter": {
   "hash": "67f5e3deb3d1187721f1897673cbf480ee531fe068877b6e0cbed7fdb83e5983"
  }
 },
 "nbformat": 4,
 "nbformat_minor": 5
}