{
 "cells": [
  {
   "cell_type": "code",
   "execution_count": 2,
   "source": [
    "\"|IMPORT PACKAGES|\"\r\n",
    "import pandas             as pd\r\n",
    "import datetime\r\n",
    "from   bokeh.plotting     import show, figure, output_file, save\r\n",
    "from   bokeh.io           import show, output_notebook, curdoc, export_png\r\n",
    "from   bokeh.models       import ColumnDataSource,LinearAxis, Range1d, NumeralTickFormatter, LabelSet, Label, BoxAnnotation, DatetimeTickFormatter, Legend, LegendItem\r\n",
    "from   bokeh.models.tools import HoverTool\r\n",
    "from   bokeh.models       import Arrow, NormalHead, OpenHead, VeeHead\r\n",
    "from   datetime           import datetime as dt"
   ],
   "outputs": [],
   "metadata": {}
  },
  {
   "cell_type": "code",
   "execution_count": 6,
   "source": [
    "\"|IMPORT DATA|\"\r\n",
    "path = r'https://github.com/ncachanosky/research/blob/master/Economic%20Series/'\r\n",
    "file = r'Resumen%20Estadistico%20-%20Argentina.xlsx?raw=true'\r\n",
    "IO   = path + file\r\n",
    "\r\n",
    "sheet = 'MONTHLY'\r\n",
    "\r\n",
    "data = pd.read_excel(IO, sheet_name = sheet, skiprows=2,usecols=\"B,JB,JC\",engine='openpyxl')\r\n",
    "data = data.dropna()\r\n",
    "data = data.rename(columns={\"Asalariados privados\":\"ASAL_PRI\"})\r\n",
    "data = data.rename(columns={\"Asalariados públicos\":\"ASAL_PUB\"})"
   ],
   "outputs": [],
   "metadata": {}
  },
  {
   "cell_type": "code",
   "execution_count": 7,
   "source": [
    "data"
   ],
   "outputs": [
    {
     "output_type": "execute_result",
     "data": {
      "text/html": [
       "<div>\n",
       "<style scoped>\n",
       "    .dataframe tbody tr th:only-of-type {\n",
       "        vertical-align: middle;\n",
       "    }\n",
       "\n",
       "    .dataframe tbody tr th {\n",
       "        vertical-align: top;\n",
       "    }\n",
       "\n",
       "    .dataframe thead th {\n",
       "        text-align: right;\n",
       "    }\n",
       "</style>\n",
       "<table border=\"1\" class=\"dataframe\">\n",
       "  <thead>\n",
       "    <tr style=\"text-align: right;\">\n",
       "      <th></th>\n",
       "      <th>MONTH</th>\n",
       "      <th>ASAL_PRI</th>\n",
       "      <th>ASAL_PUB</th>\n",
       "    </tr>\n",
       "  </thead>\n",
       "  <tbody>\n",
       "    <tr>\n",
       "      <th>288</th>\n",
       "      <td>2012-01-31</td>\n",
       "      <td>6068.155</td>\n",
       "      <td>2548.429</td>\n",
       "    </tr>\n",
       "    <tr>\n",
       "      <th>289</th>\n",
       "      <td>2012-02-29</td>\n",
       "      <td>6062.512</td>\n",
       "      <td>2607.158</td>\n",
       "    </tr>\n",
       "    <tr>\n",
       "      <th>290</th>\n",
       "      <td>2012-03-31</td>\n",
       "      <td>6072.122</td>\n",
       "      <td>2620.057</td>\n",
       "    </tr>\n",
       "    <tr>\n",
       "      <th>291</th>\n",
       "      <td>2012-04-30</td>\n",
       "      <td>6055.222</td>\n",
       "      <td>2623.593</td>\n",
       "    </tr>\n",
       "    <tr>\n",
       "      <th>292</th>\n",
       "      <td>2012-05-31</td>\n",
       "      <td>6065.645</td>\n",
       "      <td>2596.534</td>\n",
       "    </tr>\n",
       "    <tr>\n",
       "      <th>...</th>\n",
       "      <td>...</td>\n",
       "      <td>...</td>\n",
       "      <td>...</td>\n",
       "    </tr>\n",
       "    <tr>\n",
       "      <th>392</th>\n",
       "      <td>2020-09-30</td>\n",
       "      <td>5802.225</td>\n",
       "      <td>3215.571</td>\n",
       "    </tr>\n",
       "    <tr>\n",
       "      <th>393</th>\n",
       "      <td>2020-10-31</td>\n",
       "      <td>5798.660</td>\n",
       "      <td>3212.515</td>\n",
       "    </tr>\n",
       "    <tr>\n",
       "      <th>394</th>\n",
       "      <td>2020-11-30</td>\n",
       "      <td>5804.085</td>\n",
       "      <td>3230.865</td>\n",
       "    </tr>\n",
       "    <tr>\n",
       "      <th>395</th>\n",
       "      <td>2020-12-31</td>\n",
       "      <td>5802.666</td>\n",
       "      <td>3229.722</td>\n",
       "    </tr>\n",
       "    <tr>\n",
       "      <th>396</th>\n",
       "      <td>2021-01-31</td>\n",
       "      <td>5818.589</td>\n",
       "      <td>3232.103</td>\n",
       "    </tr>\n",
       "  </tbody>\n",
       "</table>\n",
       "<p>109 rows × 3 columns</p>\n",
       "</div>"
      ],
      "text/plain": [
       "         MONTH  ASAL_PRI  ASAL_PUB\n",
       "288 2012-01-31  6068.155  2548.429\n",
       "289 2012-02-29  6062.512  2607.158\n",
       "290 2012-03-31  6072.122  2620.057\n",
       "291 2012-04-30  6055.222  2623.593\n",
       "292 2012-05-31  6065.645  2596.534\n",
       "..         ...       ...       ...\n",
       "392 2020-09-30  5802.225  3215.571\n",
       "393 2020-10-31  5798.660  3212.515\n",
       "394 2020-11-30  5804.085  3230.865\n",
       "395 2020-12-31  5802.666  3229.722\n",
       "396 2021-01-31  5818.589  3232.103\n",
       "\n",
       "[109 rows x 3 columns]"
      ]
     },
     "metadata": {},
     "execution_count": 7
    }
   ],
   "metadata": {}
  },
  {
   "cell_type": "code",
   "execution_count": 8,
   "source": [
    "cds = ColumnDataSource(data)\r\n",
    "\r\n",
    "#BUILD FIGURE\r\n",
    "p = figure(title = \"EL HUB ECONÓMICO | ASALARIADOS SECTOR PÚBLICO Y PRIVADO (EN MILES)\",\r\n",
    "           plot_height  = 400,\r\n",
    "           plot_width   = 700,\r\n",
    "           x_axis_type  = \"datetime\",\r\n",
    "           y_range      = (5500, 6500),\r\n",
    "           y_axis_label = 'Asalariados privados')\r\n",
    "\r\n",
    "p.toolbar_location = 'right'\r\n",
    "p.toolbar.autohide = True\r\n",
    "\r\n",
    "#AXIS 1 (LEFT)\r\n",
    "p1 = p.line(\"MONTH\", \"ASAL_PRI\", color=\"green\", alpha=0.7, width=1,legend_label='Asalariados privados',source=cds)\r\n",
    "p.add_tools(HoverTool(renderers=[p1], tooltips = [(\"privados\", \"@ASAL_PRI{0,0}\")], mode=\"vline\"))\r\n",
    "\r\n",
    "#AXIS 2 (RIGHT)\r\n",
    "p.extra_y_ranges = {\"y2\": Range1d(start=2500, end=3500)}\r\n",
    "p.add_layout(LinearAxis(y_range_name = \"y2\", axis_label = \"Asalariados públicos\"), 'right')\r\n",
    "p2 = p.line(\"MONTH\", \"ASAL_PUB\", color=\"red\"  , alpha=0.7, width=1,legend_label='Asalariados públicos', y_range_name = \"y2\", source=cds)\r\n",
    "p.add_tools(HoverTool(renderers=[p2], tooltips = [(\"públicos\", \"@ASAL_PUB{0,0}\")], mode=\"vline\"))\r\n",
    "\r\n",
    "#ADD NOTES\r\n",
    "#Presidents' shades and names\r\n",
    "CFK       = BoxAnnotation(left=dt(2007,12,10).timestamp()*1000, right=dt(2015,12,10).timestamp()*1000, line_color=\"black\" ,fill_color=\"blue\"  , fill_alpha=0.1)\r\n",
    "Macri     = BoxAnnotation(left=dt(2015,12,10).timestamp()*1000, right=dt(2019,12,10).timestamp()*1000, line_color=\"black\", fill_color=\"yellow\", fill_alpha=0.1)\r\n",
    "Fernandez = BoxAnnotation(left=dt(2019,12,10).timestamp()*1000, right=dt(2021, 4,30).timestamp()*1000, line_color=\"black\", fill_color=\"blue\"  , fill_alpha=0.1)\r\n",
    "\r\n",
    "x1 = (dt(2012, 1,31).timestamp()*1000 + dt(2015,12,10).timestamp()*1000) / 2\r\n",
    "x2 = (dt(2015,12,10).timestamp()*1000 + dt(2019,12,10).timestamp()*1000) / 2\r\n",
    "x3 = (dt(2019,12,10).timestamp()*1000 + dt(2021, 4,30).timestamp()*1000) / 2\r\n",
    "\r\n",
    "CFK_N       = Label(x=x1, y=5550, text=\"C. Kirchner\", text_font_size=\"10pt\", text_align=\"center\", text_baseline=\"middle\", angle_units=\"deg\", angle= 0)\r\n",
    "Macri_N     = Label(x=x2, y=5550, text=\"Macri\"      , text_font_size=\"10pt\", text_align=\"center\", text_baseline=\"middle\", angle_units=\"deg\", angle= 0)\r\n",
    "Fernandez_N = Label(x=x3, y=5550, text=\"AF\"         , text_font_size=\"10pt\", text_align=\"center\", text_baseline=\"middle\", angle_units=\"deg\", angle= 0)\r\n",
    "\r\n",
    "p.add_layout(CFK)\r\n",
    "p.add_layout(Macri)\r\n",
    "p.add_layout(Fernandez)\r\n",
    "\r\n",
    "p.add_layout(CFK_N)\r\n",
    "p.add_layout(Macri_N)\r\n",
    "p.add_layout(Fernandez_N)\r\n",
    "\r\n",
    "#Arrows\r\n",
    "crisis_fx_text  = Label(x = dt(2018, 4, 8).timestamp()*1000,\r\n",
    "                        y = 6400                           ,\r\n",
    "                        text           = 'Crisis cambiaria',\r\n",
    "                        text_font_size = '12px'            ,\r\n",
    "                        text_color     = 'green'           ,\r\n",
    "                        text_align     = 'center'          ,\r\n",
    "                        text_baseline  = 'bottom'\r\n",
    "                        )\r\n",
    "\r\n",
    "crisis_fx_arrow = Arrow(end=VeeHead(line_color='green', line_width=2, line_alpha=0.5, size=10, fill_color='green', fill_alpha=0.75),\r\n",
    "                        line_color='green',\r\n",
    "                        x_start = dt(2018, 4, 1).timestamp()*1000,\r\n",
    "                        x_end   = dt(2018, 4, 1).timestamp()*1000,\r\n",
    "                        y_start = 6400,\r\n",
    "                        y_end   = 6300\r\n",
    "                        )\r\n",
    "\r\n",
    "p.add_layout(crisis_fx_text)\r\n",
    "p.add_layout(crisis_fx_arrow)\r\n",
    "\r\n",
    "#LEGEND\r\n",
    "p.legend.location     = 'top_left'\r\n",
    "p.legend.orientation  = 'vertical'\r\n",
    "p.legend.click_policy = 'mute'\r\n",
    "output_notebook()\r\n",
    "show(p)"
   ],
   "outputs": [
    {
     "output_type": "display_data",
     "data": {
      "text/html": [
       "\n",
       "    <div class=\"bk-root\">\n",
       "        <a href=\"https://bokeh.org\" target=\"_blank\" class=\"bk-logo bk-logo-small bk-logo-notebook\"></a>\n",
       "        <span id=\"1113\">Loading BokehJS ...</span>\n",
       "    </div>"
      ]
     },
     "metadata": {}
    },
    {
     "output_type": "display_data",
     "data": {
      "application/vnd.bokehjs_load.v0+json": "",
      "application/javascript": "\n(function(root) {\n  function now() {\n    return new Date();\n  }\n\n  var force = true;\n\n  if (typeof root._bokeh_onload_callbacks === \"undefined\" || force === true) {\n    root._bokeh_onload_callbacks = [];\n    root._bokeh_is_loading = undefined;\n  }\n\n  var JS_MIME_TYPE = 'application/javascript';\n  var HTML_MIME_TYPE = 'text/html';\n  var EXEC_MIME_TYPE = 'application/vnd.bokehjs_exec.v0+json';\n  var CLASS_NAME = 'output_bokeh rendered_html';\n\n  /**\n   * Render data to the DOM node\n   */\n  function render(props, node) {\n    var script = document.createElement(\"script\");\n    node.appendChild(script);\n  }\n\n  /**\n   * Handle when an output is cleared or removed\n   */\n  function handleClearOutput(event, handle) {\n    var cell = handle.cell;\n\n    var id = cell.output_area._bokeh_element_id;\n    var server_id = cell.output_area._bokeh_server_id;\n    // Clean up Bokeh references\n    if (id != null && id in Bokeh.index) {\n      Bokeh.index[id].model.document.clear();\n      delete Bokeh.index[id];\n    }\n\n    if (server_id !== undefined) {\n      // Clean up Bokeh references\n      var cmd = \"from bokeh.io.state import curstate; print(curstate().uuid_to_server['\" + server_id + \"'].get_sessions()[0].document.roots[0]._id)\";\n      cell.notebook.kernel.execute(cmd, {\n        iopub: {\n          output: function(msg) {\n            var id = msg.content.text.trim();\n            if (id in Bokeh.index) {\n              Bokeh.index[id].model.document.clear();\n              delete Bokeh.index[id];\n            }\n          }\n        }\n      });\n      // Destroy server and session\n      var cmd = \"import bokeh.io.notebook as ion; ion.destroy_server('\" + server_id + \"')\";\n      cell.notebook.kernel.execute(cmd);\n    }\n  }\n\n  /**\n   * Handle when a new output is added\n   */\n  function handleAddOutput(event, handle) {\n    var output_area = handle.output_area;\n    var output = handle.output;\n\n    // limit handleAddOutput to display_data with EXEC_MIME_TYPE content only\n    if ((output.output_type != \"display_data\") || (!Object.prototype.hasOwnProperty.call(output.data, EXEC_MIME_TYPE))) {\n      return\n    }\n\n    var toinsert = output_area.element.find(\".\" + CLASS_NAME.split(' ')[0]);\n\n    if (output.metadata[EXEC_MIME_TYPE][\"id\"] !== undefined) {\n      toinsert[toinsert.length - 1].firstChild.textContent = output.data[JS_MIME_TYPE];\n      // store reference to embed id on output_area\n      output_area._bokeh_element_id = output.metadata[EXEC_MIME_TYPE][\"id\"];\n    }\n    if (output.metadata[EXEC_MIME_TYPE][\"server_id\"] !== undefined) {\n      var bk_div = document.createElement(\"div\");\n      bk_div.innerHTML = output.data[HTML_MIME_TYPE];\n      var script_attrs = bk_div.children[0].attributes;\n      for (var i = 0; i < script_attrs.length; i++) {\n        toinsert[toinsert.length - 1].firstChild.setAttribute(script_attrs[i].name, script_attrs[i].value);\n        toinsert[toinsert.length - 1].firstChild.textContent = bk_div.children[0].textContent\n      }\n      // store reference to server id on output_area\n      output_area._bokeh_server_id = output.metadata[EXEC_MIME_TYPE][\"server_id\"];\n    }\n  }\n\n  function register_renderer(events, OutputArea) {\n\n    function append_mime(data, metadata, element) {\n      // create a DOM node to render to\n      var toinsert = this.create_output_subarea(\n        metadata,\n        CLASS_NAME,\n        EXEC_MIME_TYPE\n      );\n      this.keyboard_manager.register_events(toinsert);\n      // Render to node\n      var props = {data: data, metadata: metadata[EXEC_MIME_TYPE]};\n      render(props, toinsert[toinsert.length - 1]);\n      element.append(toinsert);\n      return toinsert\n    }\n\n    /* Handle when an output is cleared or removed */\n    events.on('clear_output.CodeCell', handleClearOutput);\n    events.on('delete.Cell', handleClearOutput);\n\n    /* Handle when a new output is added */\n    events.on('output_added.OutputArea', handleAddOutput);\n\n    /**\n     * Register the mime type and append_mime function with output_area\n     */\n    OutputArea.prototype.register_mime_type(EXEC_MIME_TYPE, append_mime, {\n      /* Is output safe? */\n      safe: true,\n      /* Index of renderer in `output_area.display_order` */\n      index: 0\n    });\n  }\n\n  // register the mime type if in Jupyter Notebook environment and previously unregistered\n  if (root.Jupyter !== undefined) {\n    var events = require('base/js/events');\n    var OutputArea = require('notebook/js/outputarea').OutputArea;\n\n    if (OutputArea.prototype.mime_types().indexOf(EXEC_MIME_TYPE) == -1) {\n      register_renderer(events, OutputArea);\n    }\n  }\n\n  \n  if (typeof (root._bokeh_timeout) === \"undefined\" || force === true) {\n    root._bokeh_timeout = Date.now() + 5000;\n    root._bokeh_failed_load = false;\n  }\n\n  var NB_LOAD_WARNING = {'data': {'text/html':\n     \"<div style='background-color: #fdd'>\\n\"+\n     \"<p>\\n\"+\n     \"BokehJS does not appear to have successfully loaded. If loading BokehJS from CDN, this \\n\"+\n     \"may be due to a slow or bad network connection. Possible fixes:\\n\"+\n     \"</p>\\n\"+\n     \"<ul>\\n\"+\n     \"<li>re-rerun `output_notebook()` to attempt to load from CDN again, or</li>\\n\"+\n     \"<li>use INLINE resources instead, as so:</li>\\n\"+\n     \"</ul>\\n\"+\n     \"<code>\\n\"+\n     \"from bokeh.resources import INLINE\\n\"+\n     \"output_notebook(resources=INLINE)\\n\"+\n     \"</code>\\n\"+\n     \"</div>\"}};\n\n  function display_loaded() {\n    var el = document.getElementById(\"1113\");\n    if (el != null) {\n      el.textContent = \"BokehJS is loading...\";\n    }\n    if (root.Bokeh !== undefined) {\n      if (el != null) {\n        el.textContent = \"BokehJS \" + root.Bokeh.version + \" successfully loaded.\";\n      }\n    } else if (Date.now() < root._bokeh_timeout) {\n      setTimeout(display_loaded, 100)\n    }\n  }\n\n\n  function run_callbacks() {\n    try {\n      root._bokeh_onload_callbacks.forEach(function(callback) {\n        if (callback != null)\n          callback();\n      });\n    } finally {\n      delete root._bokeh_onload_callbacks\n    }\n    console.debug(\"Bokeh: all callbacks have finished\");\n  }\n\n  function load_libs(css_urls, js_urls, callback) {\n    if (css_urls == null) css_urls = [];\n    if (js_urls == null) js_urls = [];\n\n    root._bokeh_onload_callbacks.push(callback);\n    if (root._bokeh_is_loading > 0) {\n      console.debug(\"Bokeh: BokehJS is being loaded, scheduling callback at\", now());\n      return null;\n    }\n    if (js_urls == null || js_urls.length === 0) {\n      run_callbacks();\n      return null;\n    }\n    console.debug(\"Bokeh: BokehJS not loaded, scheduling load and callback at\", now());\n    root._bokeh_is_loading = css_urls.length + js_urls.length;\n\n    function on_load() {\n      root._bokeh_is_loading--;\n      if (root._bokeh_is_loading === 0) {\n        console.debug(\"Bokeh: all BokehJS libraries/stylesheets loaded\");\n        run_callbacks()\n      }\n    }\n\n    function on_error(url) {\n      console.error(\"failed to load \" + url);\n    }\n\n    for (let i = 0; i < css_urls.length; i++) {\n      const url = css_urls[i];\n      const element = document.createElement(\"link\");\n      element.onload = on_load;\n      element.onerror = on_error.bind(null, url);\n      element.rel = \"stylesheet\";\n      element.type = \"text/css\";\n      element.href = url;\n      console.debug(\"Bokeh: injecting link tag for BokehJS stylesheet: \", url);\n      document.body.appendChild(element);\n    }\n\n    const hashes = {\"https://cdn.bokeh.org/bokeh/release/bokeh-2.3.3.min.js\": \"dM3QQsP+wXdHg42wTqW85BjZQdLNNIXqlPw/BgKoExPmTG7ZLML4EGqLMfqHT6ON\", \"https://cdn.bokeh.org/bokeh/release/bokeh-tables-2.3.3.min.js\": \"8x57I4YuIfu8XyZfFo0XVr2WAT8EK4rh/uDe3wF7YuW2FNUSNEpJbsPaB1nJ2fz2\", \"https://cdn.bokeh.org/bokeh/release/bokeh-widgets-2.3.3.min.js\": \"3QTqdz9LyAm2i0sG5XTePsHec3UHWwVsrOL68SYRoAXsafvfAyqtQ+h440+qIBhS\"};\n\n    for (let i = 0; i < js_urls.length; i++) {\n      const url = js_urls[i];\n      const element = document.createElement('script');\n      element.onload = on_load;\n      element.onerror = on_error.bind(null, url);\n      element.async = false;\n      element.src = url;\n      if (url in hashes) {\n        element.crossOrigin = \"anonymous\";\n        element.integrity = \"sha384-\" + hashes[url];\n      }\n      console.debug(\"Bokeh: injecting script tag for BokehJS library: \", url);\n      document.head.appendChild(element);\n    }\n  };\n\n  function inject_raw_css(css) {\n    const element = document.createElement(\"style\");\n    element.appendChild(document.createTextNode(css));\n    document.body.appendChild(element);\n  }\n\n  \n  var js_urls = [\"https://cdn.bokeh.org/bokeh/release/bokeh-2.3.3.min.js\", \"https://cdn.bokeh.org/bokeh/release/bokeh-widgets-2.3.3.min.js\", \"https://cdn.bokeh.org/bokeh/release/bokeh-tables-2.3.3.min.js\"];\n  var css_urls = [];\n  \n\n  var inline_js = [\n    function(Bokeh) {\n      Bokeh.set_log_level(\"info\");\n    },\n    function(Bokeh) {\n    \n    \n    }\n  ];\n\n  function run_inline_js() {\n    \n    if (root.Bokeh !== undefined || force === true) {\n      \n    for (var i = 0; i < inline_js.length; i++) {\n      inline_js[i].call(root, root.Bokeh);\n    }\n    if (force === true) {\n        display_loaded();\n      }} else if (Date.now() < root._bokeh_timeout) {\n      setTimeout(run_inline_js, 100);\n    } else if (!root._bokeh_failed_load) {\n      console.log(\"Bokeh: BokehJS failed to load within specified timeout.\");\n      root._bokeh_failed_load = true;\n    } else if (force !== true) {\n      var cell = $(document.getElementById(\"1113\")).parents('.cell').data().cell;\n      cell.output_area.append_execute_result(NB_LOAD_WARNING)\n    }\n\n  }\n\n  if (root._bokeh_is_loading === 0) {\n    console.debug(\"Bokeh: BokehJS loaded, going straight to plotting\");\n    run_inline_js();\n  } else {\n    load_libs(css_urls, js_urls, function() {\n      console.debug(\"Bokeh: BokehJS plotting callback run at\", now());\n      run_inline_js();\n    });\n  }\n}(window));"
     },
     "metadata": {}
    },
    {
     "output_type": "display_data",
     "data": {
      "text/html": [
       "\n",
       "\n",
       "\n",
       "\n",
       "\n",
       "\n",
       "  <div class=\"bk-root\" id=\"0c6371c2-32b4-4496-b265-93e210992588\" data-root-id=\"1003\"></div>\n"
      ]
     },
     "metadata": {}
    },
    {
     "output_type": "display_data",
     "data": {
      "application/javascript": "(function(root) {\n  function embed_document(root) {\n    \n  var docs_json = {\"1115744e-476c-4528-b662-cbd347c20830\":{\"defs\":[],\"roots\":{\"references\":[{\"attributes\":{\"below\":[{\"id\":\"1014\"}],\"center\":[{\"id\":\"1017\"},{\"id\":\"1021\"},{\"id\":\"1064\"},{\"id\":\"1103\"},{\"id\":\"1104\"},{\"id\":\"1105\"},{\"id\":\"1106\"},{\"id\":\"1107\"},{\"id\":\"1108\"},{\"id\":\"1109\"},{\"id\":\"1111\"}],\"extra_y_ranges\":{\"y2\":{\"id\":\"1068\"}},\"height\":400,\"left\":[{\"id\":\"1018\"}],\"renderers\":[{\"id\":\"1040\"},{\"id\":\"1073\"}],\"right\":[{\"id\":\"1069\"}],\"title\":{\"id\":\"1004\"},\"toolbar\":{\"id\":\"1029\"},\"width\":700,\"x_range\":{\"id\":\"1006\"},\"x_scale\":{\"id\":\"1010\"},\"y_range\":{\"id\":\"1008\"},\"y_scale\":{\"id\":\"1012\"}},\"id\":\"1003\",\"subtype\":\"Figure\",\"type\":\"Plot\"},{\"attributes\":{\"data_source\":{\"id\":\"1002\"},\"glyph\":{\"id\":\"1071\"},\"hover_glyph\":null,\"muted_glyph\":null,\"nonselection_glyph\":{\"id\":\"1072\"},\"view\":{\"id\":\"1074\"},\"y_range_name\":\"y2\"},\"id\":\"1073\",\"type\":\"GlyphRenderer\"},{\"attributes\":{\"formatter\":{\"id\":\"1046\"},\"major_label_policy\":{\"id\":\"1047\"},\"ticker\":{\"id\":\"1015\"}},\"id\":\"1014\",\"type\":\"DatetimeAxis\"},{\"attributes\":{\"angle_units\":\"deg\",\"text\":\"Macri\",\"text_align\":\"center\",\"text_baseline\":\"middle\",\"text_font_size\":\"10pt\",\"x\":1512846000000.0,\"y\":5550},\"id\":\"1107\",\"type\":\"Label\"},{\"attributes\":{\"line_alpha\":0.1,\"line_color\":\"green\",\"x\":{\"field\":\"MONTH\"},\"y\":{\"field\":\"ASAL_PRI\"}},\"id\":\"1039\",\"type\":\"Line\"},{\"attributes\":{\"bottom_units\":\"screen\",\"fill_alpha\":0.5,\"fill_color\":\"lightgrey\",\"left_units\":\"screen\",\"level\":\"overlay\",\"line_alpha\":1.0,\"line_color\":\"black\",\"line_dash\":[4,4],\"line_width\":2,\"right_units\":\"screen\",\"syncable\":false,\"top_units\":\"screen\"},\"id\":\"1028\",\"type\":\"BoxAnnotation\"},{\"attributes\":{\"data\":{},\"selected\":{\"id\":\"1126\"},\"selection_policy\":{\"id\":\"1127\"}},\"id\":\"1115\",\"type\":\"ColumnDataSource\"},{\"attributes\":{\"num_minor_ticks\":5,\"tickers\":[{\"id\":\"1050\"},{\"id\":\"1051\"},{\"id\":\"1052\"},{\"id\":\"1053\"},{\"id\":\"1054\"},{\"id\":\"1055\"},{\"id\":\"1056\"},{\"id\":\"1057\"},{\"id\":\"1058\"},{\"id\":\"1059\"},{\"id\":\"1060\"},{\"id\":\"1061\"}]},\"id\":\"1015\",\"type\":\"DatetimeTicker\"},{\"attributes\":{},\"id\":\"1027\",\"type\":\"HelpTool\"},{\"attributes\":{\"fill_alpha\":0.1,\"fill_color\":\"yellow\",\"left\":1449730800000.0,\"line_color\":\"black\",\"right\":1575961200000.0},\"id\":\"1104\",\"type\":\"BoxAnnotation\"},{\"attributes\":{\"overlay\":{\"id\":\"1028\"}},\"id\":\"1024\",\"type\":\"BoxZoomTool\"},{\"attributes\":{\"callback\":null,\"mode\":\"vline\",\"renderers\":[{\"id\":\"1073\"}],\"tooltips\":[[\"p\\u00fablicos\",\"@ASAL_PUB{0,0}\"]]},\"id\":\"1101\",\"type\":\"HoverTool\"},{\"attributes\":{},\"id\":\"1076\",\"type\":\"BasicTickFormatter\"},{\"attributes\":{},\"id\":\"1023\",\"type\":\"WheelZoomTool\"},{\"attributes\":{\"source\":{\"id\":\"1002\"}},\"id\":\"1074\",\"type\":\"CDSView\"},{\"attributes\":{\"text\":\"Crisis cambiaria\",\"text_align\":\"center\",\"text_color\":\"green\",\"text_font_size\":\"12px\",\"x\":1523167200000.0,\"y\":6400},\"id\":\"1109\",\"type\":\"Label\"},{\"attributes\":{\"angle_units\":\"deg\",\"text\":\"C. Kirchner\",\"text_align\":\"center\",\"text_baseline\":\"middle\",\"text_font_size\":\"10pt\",\"x\":1388862000000.0,\"y\":5550},\"id\":\"1106\",\"type\":\"Label\"},{\"attributes\":{},\"id\":\"1022\",\"type\":\"PanTool\"},{\"attributes\":{\"axis_label\":\"Asalariados p\\u00fablicos\",\"formatter\":{\"id\":\"1076\"},\"major_label_policy\":{\"id\":\"1077\"},\"ticker\":{\"id\":\"1078\"},\"y_range_name\":\"y2\"},\"id\":\"1069\",\"type\":\"LinearAxis\"},{\"attributes\":{},\"id\":\"1019\",\"type\":\"BasicTicker\"},{\"attributes\":{\"label\":{\"value\":\"Asalariados privados\"},\"renderers\":[{\"id\":\"1040\"}]},\"id\":\"1065\",\"type\":\"LegendItem\"},{\"attributes\":{},\"id\":\"1012\",\"type\":\"LinearScale\"},{\"attributes\":{\"axis_label\":\"Asalariados privados\",\"formatter\":{\"id\":\"1043\"},\"major_label_policy\":{\"id\":\"1044\"},\"ticker\":{\"id\":\"1019\"}},\"id\":\"1018\",\"type\":\"LinearAxis\"},{\"attributes\":{\"label\":{\"value\":\"Asalariados p\\u00fablicos\"},\"renderers\":[{\"id\":\"1073\"}]},\"id\":\"1100\",\"type\":\"LegendItem\"},{\"attributes\":{\"axis\":{\"id\":\"1018\"},\"dimension\":1,\"ticker\":null},\"id\":\"1021\",\"type\":\"Grid\"},{\"attributes\":{\"fill_alpha\":0.1,\"fill_color\":\"blue\",\"left\":1575961200000.0,\"line_color\":\"black\",\"right\":1619762400000.0},\"id\":\"1105\",\"type\":\"BoxAnnotation\"},{\"attributes\":{},\"id\":\"1010\",\"type\":\"LinearScale\"},{\"attributes\":{},\"id\":\"1025\",\"type\":\"SaveTool\"},{\"attributes\":{},\"id\":\"1046\",\"type\":\"DatetimeTickFormatter\"},{\"attributes\":{\"axis\":{\"id\":\"1014\"},\"ticker\":null},\"id\":\"1017\",\"type\":\"Grid\"},{\"attributes\":{\"mantissas\":[1,2,5],\"max_interval\":500.0,\"num_minor_ticks\":0},\"id\":\"1050\",\"type\":\"AdaptiveTicker\"},{\"attributes\":{},\"id\":\"1077\",\"type\":\"AllLabels\"},{\"attributes\":{\"base\":60,\"mantissas\":[1,2,5,10,15,20,30],\"max_interval\":1800000.0,\"min_interval\":1000.0,\"num_minor_ticks\":0},\"id\":\"1051\",\"type\":\"AdaptiveTicker\"},{\"attributes\":{},\"id\":\"1026\",\"type\":\"ResetTool\"},{\"attributes\":{},\"id\":\"1078\",\"type\":\"BasicTicker\"},{\"attributes\":{\"end\":{\"id\":\"1110\"},\"line_color\":{\"value\":\"green\"},\"source\":{\"id\":\"1115\"},\"start\":null,\"x_end\":{\"value\":1522562400000.0},\"x_start\":{\"value\":1522562400000.0},\"y_end\":{\"value\":6300},\"y_start\":{\"value\":6400}},\"id\":\"1111\",\"type\":\"Arrow\"},{\"attributes\":{},\"id\":\"1063\",\"type\":\"UnionRenderers\"},{\"attributes\":{\"fill_alpha\":0.1,\"fill_color\":\"blue\",\"left\":1197270000000.0,\"line_color\":\"black\",\"right\":1449730800000.0},\"id\":\"1103\",\"type\":\"BoxAnnotation\"},{\"attributes\":{\"days\":[1,2,3,4,5,6,7,8,9,10,11,12,13,14,15,16,17,18,19,20,21,22,23,24,25,26,27,28,29,30,31]},\"id\":\"1053\",\"type\":\"DaysTicker\"},{\"attributes\":{\"end\":3500,\"start\":2500},\"id\":\"1068\",\"type\":\"Range1d\"},{\"attributes\":{},\"id\":\"1126\",\"type\":\"Selection\"},{\"attributes\":{\"base\":24,\"mantissas\":[1,2,4,6,8,12],\"max_interval\":43200000.0,\"min_interval\":3600000.0,\"num_minor_ticks\":0},\"id\":\"1052\",\"type\":\"AdaptiveTicker\"},{\"attributes\":{\"months\":[0,1,2,3,4,5,6,7,8,9,10,11]},\"id\":\"1057\",\"type\":\"MonthsTicker\"},{\"attributes\":{},\"id\":\"1127\",\"type\":\"UnionRenderers\"},{\"attributes\":{\"months\":[0,2,4,6,8,10]},\"id\":\"1058\",\"type\":\"MonthsTicker\"},{\"attributes\":{\"angle_units\":\"deg\",\"text\":\"AF\",\"text_align\":\"center\",\"text_baseline\":\"middle\",\"text_font_size\":\"10pt\",\"x\":1597861800000.0,\"y\":5550},\"id\":\"1108\",\"type\":\"Label\"},{\"attributes\":{\"active_multi\":null,\"autohide\":true,\"tools\":[{\"id\":\"1022\"},{\"id\":\"1023\"},{\"id\":\"1024\"},{\"id\":\"1025\"},{\"id\":\"1026\"},{\"id\":\"1027\"},{\"id\":\"1066\"},{\"id\":\"1101\"}]},\"id\":\"1029\",\"type\":\"Toolbar\"},{\"attributes\":{},\"id\":\"1043\",\"type\":\"BasicTickFormatter\"},{\"attributes\":{\"days\":[1,4,7,10,13,16,19,22,25,28]},\"id\":\"1054\",\"type\":\"DaysTicker\"},{\"attributes\":{\"days\":[1,15]},\"id\":\"1056\",\"type\":\"DaysTicker\"},{\"attributes\":{\"fill_alpha\":{\"value\":0.75},\"fill_color\":{\"value\":\"green\"},\"line_alpha\":{\"value\":0.5},\"line_color\":{\"value\":\"green\"},\"line_width\":{\"value\":2},\"size\":{\"value\":10}},\"id\":\"1110\",\"type\":\"VeeHead\"},{\"attributes\":{\"months\":[0,6]},\"id\":\"1060\",\"type\":\"MonthsTicker\"},{\"attributes\":{},\"id\":\"1044\",\"type\":\"AllLabels\"},{\"attributes\":{\"days\":[1,8,15,22]},\"id\":\"1055\",\"type\":\"DaysTicker\"},{\"attributes\":{},\"id\":\"1061\",\"type\":\"YearsTicker\"},{\"attributes\":{\"end\":6500,\"start\":5500},\"id\":\"1008\",\"type\":\"Range1d\"},{\"attributes\":{\"source\":{\"id\":\"1002\"}},\"id\":\"1041\",\"type\":\"CDSView\"},{\"attributes\":{\"months\":[0,4,8]},\"id\":\"1059\",\"type\":\"MonthsTicker\"},{\"attributes\":{\"data\":{\"ASAL_PRI\":{\"__ndarray__\":\"4XoUrie0t0CNl24Sg663QB1aZDsfuLdAtvP91Dint0DsUbgepbG3QClcj8IVsbdAAiuHFjmvt0Cq8dJN4qu3QDEIrBz6qrdAmG4Sg0Cvt0Db+X5qXLW3QKJFtvM9y7dAarx0kzjKt0AxCKwcetG3QMuhRbYz2rdAtvP91Fjit0AEVg4t8ty3QKAaL92k17dAuB6F67Hdt0BOYhBY+ey3QHE9Ctej47dADAIrh1blt0BvEoPA6u63QKwcWmRb67dAexSuRyHjt0ACK4cWudy3QBBYObTIybdAkxgEVu7Ot0Aj2/l+Kti3QLbz/dR43rdAwcqhRVbgt0A5tMh2/t63QDvfT40X6LdAdZMYBJbwt0AQWDm0CPi3QBSuR+Ea/rdA46WbxEATuEBGtvP9lCC4QFCNl24yK7hARrbz/TRQuEAEVg4tMlW4QP7UeOmGZ7hAmG4Sg2BtuEDByqFFVnu4QG8Sg8DqdLhA5/up8fJ4uEDD9Shc7224QHWTGAS2TrhAZmZmZgZAuECR7Xw/FT24QNnO91PDNrhARIts59sruEDn+6nxkiS4QGQ7308NHLhAyXa+n1oauECkcD0K1xm4QEa28/20HbhAHVpkO18luEAhsHJosSi4QKjGSzdJKrhA8KfGS5cvuEDb+X5qXCq4QLbz/dT4N7hATmIQWHk3uEAMAiuHFka4QGQ730+tVLhAI9v5fupcuECDwMqhBVy4QJHtfD+VZrhAQmDl0OJxuEC8dJMYJH24QOOlm8TgiLhAEoPAyuF/uEAbL90khnm4QKAaL92khbhAexSuR6GKuEDb+X5qHIe4QGiR7Xy/cLhAQmDl0GJmuEBKDAIrp1u4QPYoXI+CQ7hAexSuR6EyuEDFILByyBi4QFCNl27yB7hA9P3UeCn+t0BOYhBY2f63QFpkO99v8rdAaJHtfP/wt0CWQ4tsx+23QPLSTWIw5bdAWDm0yHbct0Bt5/up8c+3QM/3U+Ols7dASgwCK6eZt0CWQ4tsh4a3QN0kBoG1cbdAsHJokc1et0ACK4cWGV63QMHKoUU2NrdA30+Nl+7StkBEi2zn+762QMUgsHIIt7ZAiUFg5dCmtkCsHFpku6S2QJqZmZk5qrZAXI/C9aimtkApXI/CFay2QCPb+X6qqrZAWDm0yJa6tkA=\",\"dtype\":\"float64\",\"order\":\"little\",\"shape\":[109]},\"ASAL_PUB\":{\"__ndarray__\":\"+FPjpdvoo0CJQWDlUF6kQL6fGi8deKRADi2ynS9/pEAhsHJoEUmkQAisHFpkkKRA7FG4HgWKpEDwp8ZLd5ukQESLbOc7k6RAI9v5fiqlpEDHSzeJAcOkQJHtfD/1zKRAvp8aL50xpUCBlUOLLDulQN9PjZfuRaVASOF6FK5wpUB9PzVe+vOlQDEIrBya3KVAlkOLbOf2pUAAAAAAwPulQPhT46VbCaZAAAAAAAAspkDP91Pj5S2mQPhT46VbUqZArkfhehROpkCR7Xw/tVymQJ7vp8ZL+aVAObTIdn5zpkCkcD0K14amQNNNYhBYmaZA/tR46SatpkBEi2znu7emQDMzMzMz3KZAaJHtfL/jpkCkcD0K1/+mQM3MzMyMAKdAd76fGm8Wp0CJQWDlECunQDEIrBxaO6dA3SQGgdVXp0BCYOXQYnWnQBSuR+G6j6dAUI2XblLip0BSuB6FK/anQMuhRbaz+qdASOF6FK4YqECDwMqhBSqoQOkmMQisI6hA8tJNYlARqEDD9ShcDyGoQH0/NV66OahAVOOlm0Q7qEAGgZVDSzyoQFYOLbLdS6hAO99PjddTqEBQjZduElioQKwcWmT7V6hAAiuHFplRqEBaZDvfT1qoQGQ7308NYqhAEoPAyuFkqEDFILBy6GWoQMUgsHLoaqhAEoPAyiFzqEDP91Pj5YeoQEjhehSujahAvHSTGISZqECq8dJNIp6oQBKDwMrhrahA16NwPQqoqECiRbbzPbCoQPyp8dLNuKhAdZMYBBbSqECF61G4HrCoQNnO91PjtahAke18PzW0qECWQ4ts566oQClcj8L1rKhAdZMYBNauqEAdWmQ7n7+oQFK4HoXrq6hAhetRuF6xqEBaZDvfD62oQLKd76cGq6hA/tR46ea5qEBKDAIrx8OoQAisHFrkxKhASOF6FK7ZqEDHSzeJAeOoQArXo3D956hAc2iR7bzsqEAQWDm0yOuoQBsv3SRGA6lAsp3vp0YLqUDByqFFdgipQN0kBoFVFalA+FPjpdsJqUDb+X5qPBWpQJzEILCyKalAJzEIrNweqUDjpZvEoBSpQK5H4XpUEqlAPQrXo/AWqUAIrBxa5B6pQAisHFokH6lA4XoUrgcZqUAUrkfhuj2pQG3n+6lxO6lA+n5qvDRAqUA=\",\"dtype\":\"float64\",\"order\":\"little\",\"shape\":[109]},\"MONTH\":{\"__ndarray__\":\"AACA+RBTc0IAAECAZlxzQgAAgNJgZnNCAAAAvwhwc0IAAEARA3pzQgAAwP2qg3NCAAAAUKWNc0IAAECin5dzQgAAwI5HoXNCAAAA4UGrc0IAAIDN6bRzQgAAwB/kvnNCAAAAct7Ic0IAAACT4dFzQgAAQOXb23NCAADA0YPlc0IAAAAkfu9zQgAAgBAm+XNCAADAYiADdEIAAAC1Gg10QgAAgKHCFnRCAADA87wgdEIAAEDgZCp0QgAAgDJfNHRCAADAhFk+dEIAAMClXEd0QgAAAPhWUXRCAACA5P5adEIAAMA2+WR0QgAAQCOhbnRCAACAdZt4dEIAAMDHlYJ0QgAAQLQ9jHRCAACABjiWdEIAAADz3590QgAAQEXaqXRCAACAl9SzdEIAAIC417x0QgAAwArSxnRCAABA93nQdEIAAIBJdNp0QgAAADYc5HRCAABAiBbudEIAAIDaEPh0QgAAAMe4AXVCAABAGbMLdUIAAMAFWxV1QgAAAFhVH3VCAABAqk8pdUIAAAAxpTJ1QgAAQIOfPHVCAADAb0dGdUIAAADCQVB1QgAAgK7pWXVCAADAAORjdUIAAABT3m11QgAAgD+Gd3VCAADAkYCBdUIAAEB+KIt1QgAAgNAilXVCAADAIh2fdUIAAMBDIKh1QgAAAJYasnVCAACAgsK7dUIAAMDUvMV1QgAAQMFkz3VCAACAE1/ZdUIAAMBlWeN1QgAAQFIB7XVCAACApPv2dUIAAACRowB2QgAAQOOdCnZCAACANZgUdkIAAIBWmx12QgAAwKiVJ3ZCAABAlT0xdkIAAIDnNzt2QgAAANTfRHZCAABAJtpOdkIAAIB41Fh2QgAAAGV8YnZCAABAt3ZsdkIAAMCjHnZ2QgAAAPYYgHZCAABASBOKdkIAAEBpFpN2QgAAgLsQnXZCAAAAqLimdkIAAED6srB2QgAAwOZaunZCAAAAOVXEdkIAAECLT852QgAAwHf313ZCAAAAyvHhdkIAAIC2met2QgAAwAiU9XZCAAAAW47/dkIAAMDh4wh3QgAAADTeEndCAACAIIYcd0IAAMBygCZ3QgAAQF8oMHdCAACAsSI6d0IAAMADHUR3QgAAQPDETXdCAACAQr9Xd0IAAAAvZ2F3QgAAQIFha3dCAACA01t1d0I=\",\"dtype\":\"float64\",\"order\":\"little\",\"shape\":[109]},\"index\":[288,289,290,291,292,293,294,295,296,297,298,299,300,301,302,303,304,305,306,307,308,309,310,311,312,313,314,315,316,317,318,319,320,321,322,323,324,325,326,327,328,329,330,331,332,333,334,335,336,337,338,339,340,341,342,343,344,345,346,347,348,349,350,351,352,353,354,355,356,357,358,359,360,361,362,363,364,365,366,367,368,369,370,371,372,373,374,375,376,377,378,379,380,381,382,383,384,385,386,387,388,389,390,391,392,393,394,395,396]},\"selected\":{\"id\":\"1062\"},\"selection_policy\":{\"id\":\"1063\"}},\"id\":\"1002\",\"type\":\"ColumnDataSource\"},{\"attributes\":{\"text\":\"EL HUB ECON\\u00d3MICO | ASALARIADOS SECTOR P\\u00daBLICO Y PRIVADO (EN MILES)\"},\"id\":\"1004\",\"type\":\"Title\"},{\"attributes\":{},\"id\":\"1062\",\"type\":\"Selection\"},{\"attributes\":{\"line_alpha\":0.7,\"line_color\":\"green\",\"x\":{\"field\":\"MONTH\"},\"y\":{\"field\":\"ASAL_PRI\"}},\"id\":\"1038\",\"type\":\"Line\"},{\"attributes\":{\"click_policy\":\"mute\",\"items\":[{\"id\":\"1065\"},{\"id\":\"1100\"}],\"location\":\"top_left\"},\"id\":\"1064\",\"type\":\"Legend\"},{\"attributes\":{\"data_source\":{\"id\":\"1002\"},\"glyph\":{\"id\":\"1038\"},\"hover_glyph\":null,\"muted_glyph\":null,\"nonselection_glyph\":{\"id\":\"1039\"},\"view\":{\"id\":\"1041\"}},\"id\":\"1040\",\"type\":\"GlyphRenderer\"},{\"attributes\":{},\"id\":\"1047\",\"type\":\"AllLabels\"},{\"attributes\":{\"callback\":null,\"mode\":\"vline\",\"renderers\":[{\"id\":\"1040\"}],\"tooltips\":[[\"privados\",\"@ASAL_PRI{0,0}\"]]},\"id\":\"1066\",\"type\":\"HoverTool\"},{\"attributes\":{\"line_alpha\":0.7,\"line_color\":\"red\",\"x\":{\"field\":\"MONTH\"},\"y\":{\"field\":\"ASAL_PUB\"}},\"id\":\"1071\",\"type\":\"Line\"},{\"attributes\":{},\"id\":\"1006\",\"type\":\"DataRange1d\"},{\"attributes\":{\"line_alpha\":0.1,\"line_color\":\"red\",\"x\":{\"field\":\"MONTH\"},\"y\":{\"field\":\"ASAL_PUB\"}},\"id\":\"1072\",\"type\":\"Line\"}],\"root_ids\":[\"1003\"]},\"title\":\"Bokeh Application\",\"version\":\"2.3.3\"}};\n  var render_items = [{\"docid\":\"1115744e-476c-4528-b662-cbd347c20830\",\"root_ids\":[\"1003\"],\"roots\":{\"1003\":\"0c6371c2-32b4-4496-b265-93e210992588\"}}];\n  root.Bokeh.embed.embed_items_notebook(docs_json, render_items);\n\n  }\n  if (root.Bokeh !== undefined) {\n    embed_document(root);\n  } else {\n    var attempts = 0;\n    var timer = setInterval(function(root) {\n      if (root.Bokeh !== undefined) {\n        clearInterval(timer);\n        embed_document(root);\n      } else {\n        attempts++;\n        if (attempts > 100) {\n          clearInterval(timer);\n          console.log(\"Bokeh: ERROR: Unable to run BokehJS code because BokehJS library is missing\");\n        }\n      }\n    }, 10, root)\n  }\n})(window);",
      "application/vnd.bokehjs_exec.v0+json": ""
     },
     "metadata": {
      "application/vnd.bokehjs_exec.v0+json": {
       "id": "1003"
      }
     }
    }
   ],
   "metadata": {}
  },
  {
   "cell_type": "code",
   "execution_count": null,
   "source": [
    "\"|EXPORT .PNG FILE|\"\r\n",
    "\r\n",
    "export_png(p, filename=\"asalariados.png\")"
   ],
   "outputs": [],
   "metadata": {}
  },
  {
   "cell_type": "code",
   "execution_count": null,
   "source": [
    "\"|CREATE HTML FILE|\"\r\n",
    "\r\n",
    "output_file(filename=\"asalariados.html\", title=\"Asalariados público y privado\")\r\n",
    "save(p)"
   ],
   "outputs": [],
   "metadata": {}
  },
  {
   "cell_type": "code",
   "execution_count": 9,
   "source": [
    "\"|CREATE JSON FILE|\"\r\n",
    "import json\r\n",
    "import bokeh.embed\r\n",
    "\r\n",
    "from bokeh.embed import json_item\r\n",
    "\r\n",
    "j = json.dumps(json_item(p, \"asalariados\"))\r\n",
    "with open(\"04.03_asalariados.json\", \"w\") as fp:\r\n",
    "    json.dump(j, fp)"
   ],
   "outputs": [],
   "metadata": {}
  }
 ],
 "metadata": {
  "kernelspec": {
   "name": "python3",
   "display_name": "Python 3.8.8 64-bit ('base': conda)"
  },
  "language_info": {
   "codemirror_mode": {
    "name": "ipython",
    "version": 3
   },
   "file_extension": ".py",
   "mimetype": "text/x-python",
   "name": "python",
   "nbconvert_exporter": "python",
   "pygments_lexer": "ipython3",
   "version": "3.8.8"
  },
  "interpreter": {
   "hash": "67f5e3deb3d1187721f1897673cbf480ee531fe068877b6e0cbed7fdb83e5983"
  }
 },
 "nbformat": 4,
 "nbformat_minor": 5
}