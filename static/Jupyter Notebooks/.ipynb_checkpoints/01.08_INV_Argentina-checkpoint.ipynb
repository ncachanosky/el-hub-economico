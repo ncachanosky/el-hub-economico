{
 "cells": [
  {
   "cell_type": "code",
   "execution_count": 1,
   "id": "877a7d00-f284-4fc1-9e61-581854eb90c6",
   "metadata": {},
   "outputs": [],
   "source": [
    "\"|IMPORT PACKAGES|\"\n",
    "import pandas             as pd\n",
    "import datetime\n",
    "from   bokeh.plotting     import show, figure, output_file, save\n",
    "from   bokeh.io           import show, output_notebook, curdoc, export_png\n",
    "from   bokeh.models.tools import HoverTool\n",
    "from   bokeh.models       import ColumnDataSource,LinearAxis, Range1d, NumeralTickFormatter, LabelSet, Label, BoxAnnotation, DatetimeTickFormatter, Text, Span\n",
    "from   bokeh.models       import Arrow, NormalHead, OpenHead, VeeHead\n",
    "from   bokeh.transform    import dodge\n",
    "from   datetime           import datetime as dt"
   ]
  },
  {
   "cell_type": "code",
   "execution_count": 11,
   "id": "f1948cea-1e0c-4f70-88af-f30b5b4df3da",
   "metadata": {},
   "outputs": [],
   "source": [
    "\"|IMPORT DATA|\"\n",
    "path = r'https://github.com/ncachanosky/research/blob/master/Economic%20Series/'\n",
    "file = r'Resumen%20Estadistico%20-%20Internacional.xlsx?raw=true'\n",
    "IO   = path + file\n",
    "sheet = 'DATA'\n",
    "\n",
    "data = pd.read_excel(IO, sheet_name = sheet, usecols=\"A:C, N\", skiprows=2, nrows=12648, engine='openpyxl') # Be patient...\n",
    "data = data.dropna()"
   ]
  },
  {
   "cell_type": "code",
   "execution_count": 12,
   "id": "003d1466-e34d-49f6-bbe9-49a3a743c867",
   "metadata": {},
   "outputs": [],
   "source": [
    "\"|CHECK DATA|\"\n",
    "data.columns = ['YEAR', 'ISO CODE', 'COUNTRY', 'INV']"
   ]
  },
  {
   "cell_type": "code",
   "execution_count": 13,
   "id": "ae957ef2-c7ee-4291-be28-489504f6d6f0",
   "metadata": {},
   "outputs": [
    {
     "data": {
      "text/html": [
       "<div>\n",
       "<style scoped>\n",
       "    .dataframe tbody tr th:only-of-type {\n",
       "        vertical-align: middle;\n",
       "    }\n",
       "\n",
       "    .dataframe tbody tr th {\n",
       "        vertical-align: top;\n",
       "    }\n",
       "\n",
       "    .dataframe thead th {\n",
       "        text-align: right;\n",
       "    }\n",
       "</style>\n",
       "<table border=\"1\" class=\"dataframe\">\n",
       "  <thead>\n",
       "    <tr style=\"text-align: right;\">\n",
       "      <th></th>\n",
       "      <th>YEAR</th>\n",
       "      <th>ISO CODE</th>\n",
       "      <th>COUNTRY</th>\n",
       "      <th>INV</th>\n",
       "    </tr>\n",
       "  </thead>\n",
       "  <tbody>\n",
       "    <tr>\n",
       "      <th>12612</th>\n",
       "      <td>2020</td>\n",
       "      <td>URY</td>\n",
       "      <td>Uruguay</td>\n",
       "      <td>16.355604</td>\n",
       "    </tr>\n",
       "    <tr>\n",
       "      <th>12615</th>\n",
       "      <td>2020</td>\n",
       "      <td>CAN</td>\n",
       "      <td>Canada</td>\n",
       "      <td>23.003401</td>\n",
       "    </tr>\n",
       "    <tr>\n",
       "      <th>12620</th>\n",
       "      <td>2020</td>\n",
       "      <td>AUS</td>\n",
       "      <td>Australia</td>\n",
       "      <td>22.515888</td>\n",
       "    </tr>\n",
       "    <tr>\n",
       "      <th>12624</th>\n",
       "      <td>2020</td>\n",
       "      <td>FJI</td>\n",
       "      <td>Fiji</td>\n",
       "      <td>15.861421</td>\n",
       "    </tr>\n",
       "    <tr>\n",
       "      <th>12646</th>\n",
       "      <td>2020</td>\n",
       "      <td>VUT</td>\n",
       "      <td>Vanuatu</td>\n",
       "      <td>33.562113</td>\n",
       "    </tr>\n",
       "  </tbody>\n",
       "</table>\n",
       "</div>"
      ],
      "text/plain": [
       "       YEAR ISO CODE    COUNTRY        INV\n",
       "12612  2020      URY    Uruguay  16.355604\n",
       "12615  2020      CAN     Canada  23.003401\n",
       "12620  2020      AUS  Australia  22.515888\n",
       "12624  2020      FJI       Fiji  15.861421\n",
       "12646  2020      VUT    Vanuatu  33.562113"
      ]
     },
     "execution_count": 13,
     "metadata": {},
     "output_type": "execute_result"
    }
   ],
   "source": [
    "data.tail()"
   ]
  },
  {
   "cell_type": "code",
   "execution_count": 14,
   "id": "cade177e-1353-4125-b6a7-1f9039976221",
   "metadata": {},
   "outputs": [],
   "source": [
    "ARG = data.loc[data[\"COUNTRY\"]==\"Argentina\",:]"
   ]
  },
  {
   "cell_type": "code",
   "execution_count": 31,
   "id": "db0c7df8-9c79-4a51-863b-419c6e75d045",
   "metadata": {},
   "outputs": [],
   "source": [
    "cds = ColumnDataSource(ARG)\n",
    "\n",
    "#Presidents' shades and names\n",
    "Junta1       = BoxAnnotation(left=1970, right=1973, bottom=0, line_color=\"black\", fill_color=\"green\"  , fill_alpha=0.1)\n",
    "Peron        = BoxAnnotation(left=1973, right=1976, bottom=0, line_color=\"black\", fill_color=\"blue\"   , fill_alpha=0.1)\n",
    "Junta2       = BoxAnnotation(left=1976, right=1983, bottom=0, line_color=\"black\", fill_color=\"green\"  , fill_alpha=0.1)\n",
    "Alfonsin     = BoxAnnotation(left=1983, right=1989, bottom=0, line_color=\"black\", fill_color=\"red\"    , fill_alpha=0.1)\n",
    "Menem        = BoxAnnotation(left=1989, right=1999, bottom=0, line_color=\"black\", fill_color=\"blue\"   , fill_alpha=0.1)\n",
    "DeLaRua      = BoxAnnotation(left=1999, right=2001, bottom=0, line_color=\"black\", fill_color=\"red\"    , fill_alpha=0.1)\n",
    "Duhalde      = BoxAnnotation(left=2001, right=2003, bottom=0, line_color=\"black\", fill_color=\"blue\"   , fill_alpha=0.1)\n",
    "NKirchner    = BoxAnnotation(left=2003, right=2007, bottom=0, line_color=\"black\" ,fill_color=\"blue\"   , fill_alpha=0.1)\n",
    "CFK          = BoxAnnotation(left=2007, right=2015, bottom=0, line_color=\"black\" ,fill_color=\"blue\"   , fill_alpha=0.1)\n",
    "Macri        = BoxAnnotation(left=2015, right=2019, bottom=0, line_color=\"black\", fill_color=\"yellow\" , fill_alpha=0.1)\n",
    "Fernandez    = BoxAnnotation(left=2019, right=2020, bottom=0, line_color=\"black\", fill_color=\"blue\"   , fill_alpha=0.1)\n",
    "\n",
    "Junta1_N     = Label(x=1971.5, y=31, text=\"Junta Militar\", text_font_size=\"10pt\", text_align=\"right\", angle_units=\"deg\", angle=90)\n",
    "Peron_N      = Label(x=1974.5, y=31, text=\"Perón-Perón\"  , text_font_size=\"10pt\", text_align=\"right\", angle_units=\"deg\", angle=90)\n",
    "Junta2_N     = Label(x=1980.0, y=31, text=\"Junta Militar\", text_font_size=\"10pt\", text_align=\"right\", angle_units=\"deg\", angle=90)\n",
    "Alfonsin_N   = Label(x=1984.5, y=31, text=\"Alfonsín\"     , text_font_size=\"10pt\", text_align=\"right\", angle_units=\"deg\", angle=90)\n",
    "Menem_N      = Label(x=1990.5, y=31, text=\"Menem\"        , text_font_size=\"10pt\", text_align=\"right\", angle_units=\"deg\", angle=90)\n",
    "DeLaRua_N    = Label(x=2000.5, y=31, text=\"De la Rúa\"    , text_font_size=\"10pt\", text_align=\"right\", angle_units=\"deg\", angle=90)\n",
    "Duhalde_N    = Label(x=2002.5, y=31, text=\"Duhalde\"      , text_font_size=\"10pt\", text_align=\"right\", angle_units=\"deg\", angle=90)\n",
    "NKirchner_N  = Label(x=2004.5, y=31, text=\"N. Kirchner\"  , text_font_size=\"10pt\", text_align=\"right\", angle_units=\"deg\", angle=90)\n",
    "CFK_N        = Label(x=2008.5, y=31, text=\"C. Kirchner\"  , text_font_size=\"10pt\", text_align=\"right\", angle_units=\"deg\", angle=90)\n",
    "Macri_N      = Label(x=2016.5, y=31, text=\"Macri\"        , text_font_size=\"10pt\", text_align=\"right\", angle_units=\"deg\", angle=90)\n",
    "Fernandez_N  = Label(x=2021.5, y=31, text=\"Fernández\"    , text_font_size=\"10pt\", text_align=\"right\", angle_units=\"deg\", angle=90)\n",
    "\n",
    "#BUILD FIGURE\n",
    "p = figure(title = \"EL HUB ECONÓMICO | FORMACIÓN BURTA DE CAPITAL FIJO (% PBI): ARGENTINA\",\n",
    "           x_axis_label = \"Año\", \n",
    "           plot_height  = 400,\n",
    "           plot_width   = 700)\n",
    "\n",
    "p.toolbar_location = \"right\"\n",
    "p.toolbar.autohide = True\n",
    "p.line(\"YEAR\", \"INV\", color=\"black\" , line_alpha=0.50, width=2, legend_label=\"Argentina\", muted_alpha=0.20, source=cds)\n",
    "\n",
    "p.add_tools(HoverTool(tooltips = [(\"Año\", \"@YEAR\"), (\"Inversión (% PBI)\", \"@INV\")], mode=\"vline\"))\n",
    "\n",
    "#ARROWS\n",
    "hiperinflacion_text = Label(x=dt(1991, 1, 31).timestamp()*1000, y=2, text_font_size='12px', text_color='green', text_align='center', text_baseline='bottom',\n",
    "                    text='Fin hiperinflación')\n",
    "hiperinflacion_arrow = Arrow(end=VeeHead(line_color='green', line_width=2, line_alpha=0.5, size=10, fill_color='green', fill_alpha=0.75), line_color='green',\n",
    "                     x_start=dt(1991, 1,31).timestamp()*1000, x_end=dt(1991, 1,31).timestamp()*1000, y_start=5, y_end=27)\n",
    "\n",
    "\n",
    "#ADD PRSEIDENTS' SHADES\n",
    "p.add_layout(Junta1)\n",
    "p.add_layout(Peron)\n",
    "p.add_layout(Junta2)\n",
    "p.add_layout(Alfonsin)\n",
    "p.add_layout(Menem)\n",
    "p.add_layout(DeLaRua)\n",
    "p.add_layout(Duhalde)\n",
    "p.add_layout(NKirchner)\n",
    "p.add_layout(CFK)\n",
    "p.add_layout(Macri)\n",
    "p.add_layout(Fernandez)\n",
    "\n",
    "#ADD PRSIDENTS' NAMES\n",
    "p.add_layout(Junta1_N)\n",
    "p.add_layout(Peron_N)\n",
    "p.add_layout(Junta2_N)\n",
    "p.add_layout(Alfonsin_N)\n",
    "p.add_layout(Menem_N)\n",
    "p.add_layout(DeLaRua_N)\n",
    "p.add_layout(Duhalde_N)\n",
    "p.add_layout(NKirchner_N)\n",
    "p.add_layout(CFK_N)\n",
    "p.add_layout(Macri_N)\n",
    "#p.add_layout(Fernandez_N)\n",
    "\n",
    "p.legend.visible = False\n",
    "show(p)"
   ]
  },
  {
   "cell_type": "code",
   "execution_count": null,
   "id": "55b9c9de-daa6-416f-8fd2-3c52cd800051",
   "metadata": {},
   "outputs": [],
   "source": [
    "\"|EXPORT .PNG FILE|\"\n",
    "\n",
    "export_png(p, filename=\"INV_Argentina.png\")"
   ]
  },
  {
   "cell_type": "code",
   "execution_count": null,
   "id": "67d36107-615b-41a3-89f2-5ecd4b380e93",
   "metadata": {},
   "outputs": [],
   "source": [
    "\"|# CREATE HTML FILE|\"\n",
    "\n",
    "output_file(filename=\"TFP_Comparado.html\", title=\"INV Argentina (%PBI)\")\n",
    "save(p)"
   ]
  },
  {
   "cell_type": "code",
   "execution_count": 25,
   "id": "2cb73802-f588-4b4e-85fd-4f6db53162e3",
   "metadata": {},
   "outputs": [],
   "source": [
    "\"|CREATE JSON FILE|\"\n",
    "import json\n",
    "import bokeh.embed\n",
    "\n",
    "from bokeh.embed import json_item\n",
    "\n",
    "j = json.dumps(json_item(p, \"INV_Argentina\"))\n",
    "with open(\"01.08_INV_Argentina.json\", \"w\") as fp:\n",
    "    json.dump(j, fp)"
   ]
  }
 ],
 "metadata": {
  "interpreter": {
   "hash": "67f5e3deb3d1187721f1897673cbf480ee531fe068877b6e0cbed7fdb83e5983"
  },
  "kernelspec": {
   "display_name": "Python 3",
   "language": "python",
   "name": "python3"
  },
  "language_info": {
   "codemirror_mode": {
    "name": "ipython",
    "version": 3
   },
   "file_extension": ".py",
   "mimetype": "text/x-python",
   "name": "python",
   "nbconvert_exporter": "python",
   "pygments_lexer": "ipython3",
   "version": "3.8.8"
  }
 },
 "nbformat": 4,
 "nbformat_minor": 5
}
