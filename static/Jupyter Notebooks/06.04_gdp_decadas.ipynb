{
 "cells": [
  {
   "cell_type": "code",
   "execution_count": 1,
   "source": [
    "\"|IMPORT PACKAGES|\"\r\n",
    "import numpy              as np\r\n",
    "import pandas             as pd\r\n",
    "import datetime\r\n",
    "from   bokeh.plotting     import show, figure, output_file, save\r\n",
    "from   bokeh.io           import show, output_notebook, curdoc, export_png\r\n",
    "from   bokeh.models       import ColumnDataSource,LinearAxis, Range1d, NumeralTickFormatter, LabelSet, Label, BoxAnnotation, DatetimeTickFormatter, Text, Span\r\n",
    "from   bokeh.models.tools import HoverTool\r\n",
    "from   bokeh.models       import Arrow, NormalHead, OpenHead, VeeHead\r\n",
    "from   bokeh.transform    import dodge\r\n",
    "from   datetime           import datetime as dt"
   ],
   "outputs": [],
   "metadata": {}
  },
  {
   "cell_type": "code",
   "execution_count": 5,
   "source": [
    "\"|IMPORT DATA|\"\r\n",
    "path = r'https://github.com/ncachanosky/research/blob/master/Economic%20Series/'\r\n",
    "file = r'Resumen%20Estadistico%20-%20Argentina.xlsx?raw=true'\r\n",
    "#file = r'Resumen%20Estadistico%20-%20Argentina.xlsx'\r\n",
    "IO   = path + file\r\n",
    "\r\n",
    "sheet = 'PBI'\r\n",
    "\r\n",
    "data = pd.read_excel(IO, sheet_name = sheet, usecols=\"A,D \", skiprows=10, nrows=211, engine='openpyxl') # Be patient..."
   ],
   "outputs": [],
   "metadata": {}
  },
  {
   "cell_type": "code",
   "execution_count": 1,
   "source": [
    "\"|CHECK DATA|\"\r\n",
    "data"
   ],
   "outputs": [
    {
     "output_type": "error",
     "ename": "NameError",
     "evalue": "name 'data' is not defined",
     "traceback": [
      "\u001b[1;31m---------------------------------------------------------------------------\u001b[0m",
      "\u001b[1;31mNameError\u001b[0m                                 Traceback (most recent call last)",
      "\u001b[1;32m<ipython-input-1-be4c523ae998>\u001b[0m in \u001b[0;36m<module>\u001b[1;34m\u001b[0m\n\u001b[0;32m      1\u001b[0m \u001b[1;34m\"|CHECK DATA|\"\u001b[0m\u001b[1;33m\u001b[0m\u001b[1;33m\u001b[0m\u001b[0m\n\u001b[1;32m----> 2\u001b[1;33m \u001b[0mdata\u001b[0m\u001b[1;33m\u001b[0m\u001b[1;33m\u001b[0m\u001b[0m\n\u001b[0m",
      "\u001b[1;31mNameError\u001b[0m: name 'data' is not defined"
     ]
    }
   ],
   "metadata": {}
  },
  {
   "cell_type": "code",
   "execution_count": 1,
   "source": [
    "\"|BUILD PLOT|\"\r\n",
    "\r\n",
    "x = ['1900-10', #01\r\n",
    "     '1910-20', #02\r\n",
    "     '1920-30', #03\r\n",
    "     '1930-40', #04\r\n",
    "     '1940-50', #05\r\n",
    "     '1950-60', #06\r\n",
    "     '1960-70', #07\r\n",
    "     '1970-80', #08\r\n",
    "     '1980-90', #09\r\n",
    "     '1990-00', #10\r\n",
    "     '2000-10', #11\r\n",
    "     '2010-20'  #12\r\n",
    "     ]\r\n",
    "\r\n",
    "y = [((data.iloc[100,1]/data.iloc[ 90,1])**(1/10)-1)*100, # 01 | 1900 - 1910\r\n",
    "     ((data.iloc[110,1]/data.iloc[100,1])**(1/10)-1)*100, # 02 | 1910 - 1920\r\n",
    "     ((data.iloc[120,1]/data.iloc[110,1])**(1/10)-1)*100, # 03 | 1920 - 1930\r\n",
    "     ((data.iloc[130,1]/data.iloc[120,1])**(1/10)-1)*100, # 04 | 1930 - 1940\r\n",
    "     ((data.iloc[140,1]/data.iloc[130,1])**(1/10)-1)*100, # 05 | 1940 - 1950\r\n",
    "     ((data.iloc[150,1]/data.iloc[140,1])**(1/10)-1)*100, # 06 | 1950 - 1960\r\n",
    "     ((data.iloc[160,1]/data.iloc[150,1])**(1/10)-1)*100, # 07 | 1960 - 1970\r\n",
    "     ((data.iloc[170,1]/data.iloc[160,1])**(1/10)-1)*100, # 08 | 1970 - 1980\r\n",
    "     ((data.iloc[180,1]/data.iloc[170,1])**(1/10)-1)*100, # 09 | 1980 - 1990\r\n",
    "     ((data.iloc[190,1]/data.iloc[180,1])**(1/10)-1)*100, # 10 | 1990 - 2000\r\n",
    "     ((data.iloc[200,1]/data.iloc[190,1])**(1/10)-1)*100, # 11 | 2000 - 2010\r\n",
    "     ((data.iloc[210,1]/data.iloc[200,1])**(1/10)-1)*100  # 12 | 2010 - 2020\r\n",
    "     ]\r\n",
    "\r\n",
    "colors = ['blue', #01\r\n",
    "          'blue', #02\r\n",
    "          'blue', #03\r\n",
    "          'blue', #04\r\n",
    "          'blue', #05\r\n",
    "          'blue', #06\r\n",
    "          'blue', #07\r\n",
    "          'blue', #08\r\n",
    "          'red' , #09\r\n",
    "          'blue', #10\r\n",
    "          'blue', #11\r\n",
    "          'red'   #12\r\n",
    "          ]\r\n",
    "\r\n",
    "#BUILD FIGURE\r\n",
    "p = figure(title        = \"EL HUB ECONÓMICO | CRECIMIENTO ANUALIZADO, PBI REAL, POR DÉCADAS\",\r\n",
    "           x_axis_label = ''         ,\r\n",
    "           y_axis_label = 'Percentil',\r\n",
    "           x_range      = x          ,\r\n",
    "           y_range      = (-2, 8)    ,\r\n",
    "           plot_height  = 400        ,\r\n",
    "           plot_width   = 700\r\n",
    "           )\r\n",
    "\r\n",
    "p.toolbar_location = 'right'\r\n",
    "p.toolbar.autohide = True\r\n",
    "\r\n",
    "\r\n",
    "#AXIS 1 (LEFT)\r\n",
    "p.vbar(x=x, top=y, width=0.5, bottom=0, color=colors, alpha=0.75)\r\n",
    "\r\n",
    "hline = Span(location=0, dimension='width', line_color='black', line_width=1)\r\n",
    "p.add_layout(hline)\r\n",
    "\r\n",
    "#LEGEND\r\n",
    "output_notebook()\r\n",
    "show(p)"
   ],
   "outputs": [
    {
     "output_type": "error",
     "ename": "NameError",
     "evalue": "name 'data' is not defined",
     "traceback": [
      "\u001b[1;31m---------------------------------------------------------------------------\u001b[0m",
      "\u001b[1;31mNameError\u001b[0m                                 Traceback (most recent call last)",
      "\u001b[1;32m<ipython-input-1-80421b486d20>\u001b[0m in \u001b[0;36m<module>\u001b[1;34m\u001b[0m\n\u001b[0;32m     15\u001b[0m      ]\n\u001b[0;32m     16\u001b[0m \u001b[1;33m\u001b[0m\u001b[0m\n\u001b[1;32m---> 17\u001b[1;33m y = [((data.iloc[100,1]/data.iloc[ 90,1])**(1/10)-1)*100, # 01 | 1900 - 1910\n\u001b[0m\u001b[0;32m     18\u001b[0m      \u001b[1;33m(\u001b[0m\u001b[1;33m(\u001b[0m\u001b[0mdata\u001b[0m\u001b[1;33m.\u001b[0m\u001b[0miloc\u001b[0m\u001b[1;33m[\u001b[0m\u001b[1;36m110\u001b[0m\u001b[1;33m,\u001b[0m\u001b[1;36m1\u001b[0m\u001b[1;33m]\u001b[0m\u001b[1;33m/\u001b[0m\u001b[0mdata\u001b[0m\u001b[1;33m.\u001b[0m\u001b[0miloc\u001b[0m\u001b[1;33m[\u001b[0m\u001b[1;36m100\u001b[0m\u001b[1;33m,\u001b[0m\u001b[1;36m1\u001b[0m\u001b[1;33m]\u001b[0m\u001b[1;33m)\u001b[0m\u001b[1;33m**\u001b[0m\u001b[1;33m(\u001b[0m\u001b[1;36m1\u001b[0m\u001b[1;33m/\u001b[0m\u001b[1;36m10\u001b[0m\u001b[1;33m)\u001b[0m\u001b[1;33m-\u001b[0m\u001b[1;36m1\u001b[0m\u001b[1;33m)\u001b[0m\u001b[1;33m*\u001b[0m\u001b[1;36m100\u001b[0m\u001b[1;33m,\u001b[0m \u001b[1;31m# 02 | 1910 - 1920\u001b[0m\u001b[1;33m\u001b[0m\u001b[1;33m\u001b[0m\u001b[0m\n\u001b[0;32m     19\u001b[0m      \u001b[1;33m(\u001b[0m\u001b[1;33m(\u001b[0m\u001b[0mdata\u001b[0m\u001b[1;33m.\u001b[0m\u001b[0miloc\u001b[0m\u001b[1;33m[\u001b[0m\u001b[1;36m120\u001b[0m\u001b[1;33m,\u001b[0m\u001b[1;36m1\u001b[0m\u001b[1;33m]\u001b[0m\u001b[1;33m/\u001b[0m\u001b[0mdata\u001b[0m\u001b[1;33m.\u001b[0m\u001b[0miloc\u001b[0m\u001b[1;33m[\u001b[0m\u001b[1;36m110\u001b[0m\u001b[1;33m,\u001b[0m\u001b[1;36m1\u001b[0m\u001b[1;33m]\u001b[0m\u001b[1;33m)\u001b[0m\u001b[1;33m**\u001b[0m\u001b[1;33m(\u001b[0m\u001b[1;36m1\u001b[0m\u001b[1;33m/\u001b[0m\u001b[1;36m10\u001b[0m\u001b[1;33m)\u001b[0m\u001b[1;33m-\u001b[0m\u001b[1;36m1\u001b[0m\u001b[1;33m)\u001b[0m\u001b[1;33m*\u001b[0m\u001b[1;36m100\u001b[0m\u001b[1;33m,\u001b[0m \u001b[1;31m# 03 | 1920 - 1930\u001b[0m\u001b[1;33m\u001b[0m\u001b[1;33m\u001b[0m\u001b[0m\n",
      "\u001b[1;31mNameError\u001b[0m: name 'data' is not defined"
     ]
    }
   ],
   "metadata": {}
  },
  {
   "cell_type": "code",
   "execution_count": null,
   "source": [
    "\"|EXPORT .PNG FILE|\"\r\n",
    "\r\n",
    "export_png(p, filename=\"pbi_decadas.png\")"
   ],
   "outputs": [],
   "metadata": {}
  },
  {
   "cell_type": "code",
   "execution_count": null,
   "source": [
    "\"|# CREATE HTML FILE|\"\r\n",
    "\r\n",
    "output_file(filename=\"pbi_decadas.html\", title=\"CRECIMIENTO ANUALIZADO, PBI REAL, PER DÉCADAS\")\r\n",
    "save(p)"
   ],
   "outputs": [],
   "metadata": {}
  },
  {
   "cell_type": "code",
   "execution_count": 8,
   "source": [
    "\"|CREATE JSON FILE|\"\r\n",
    "import json\r\n",
    "import bokeh.embed\r\n",
    "\r\n",
    "from bokeh.embed import json_item\r\n",
    "\r\n",
    "j = json.dumps(json_item(p, \"gdp_decadas\"))\r\n",
    "with open(\"06.04_gdp_decadas.json\", \"w\") as fp:\r\n",
    "    json.dump(j, fp)"
   ],
   "outputs": [],
   "metadata": {}
  },
  {
   "cell_type": "code",
   "execution_count": null,
   "source": [],
   "outputs": [],
   "metadata": {}
  }
 ],
 "metadata": {
  "kernelspec": {
   "name": "python3",
   "display_name": "Python 3.8.8 64-bit ('base': conda)"
  },
  "language_info": {
   "codemirror_mode": {
    "name": "ipython",
    "version": 3
   },
   "file_extension": ".py",
   "mimetype": "text/x-python",
   "name": "python",
   "nbconvert_exporter": "python",
   "pygments_lexer": "ipython3",
   "version": "3.8.8"
  },
  "interpreter": {
   "hash": "67f5e3deb3d1187721f1897673cbf480ee531fe068877b6e0cbed7fdb83e5983"
  }
 },
 "nbformat": 4,
 "nbformat_minor": 5
}