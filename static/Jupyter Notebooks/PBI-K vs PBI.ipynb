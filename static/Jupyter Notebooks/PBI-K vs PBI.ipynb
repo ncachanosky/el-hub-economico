{
 "cells": [
  {
   "cell_type": "code",
   "execution_count": 7,
   "id": "creative-lottery",
   "metadata": {},
   "outputs": [],
   "source": [
    "\"|IMPORT PACKAGES|\"\n",
    "import pandas             as pd\n",
    "from   bokeh.plotting     import show, figure\n",
    "from   bokeh.io           import show, output_notebook\n",
    "from   bokeh.io           import curdoc\n",
    "from   bokeh.models       import LinearAxis, Range1d\n",
    "from   bokeh.models       import ColumnDataSource\n",
    "from   bokeh.models.tools import HoverTool"
   ]
  },
  {
   "cell_type": "code",
   "execution_count": 5,
   "id": "accessory-custody",
   "metadata": {},
   "outputs": [],
   "source": [
    "\"|IMPORT DATA|\"\n",
    "path = r'https://github.com/ncachanosky/research/blob/master/Economic%20Series/'\n",
    "file = r'Resumen%20Estadistico%20-%20Argentina.xlsx?raw=true'\n",
    "IO   = path + file\n",
    "\n",
    "sheet = 'PBI-K vs PBI'\n",
    "\n",
    "data = pd.read_excel(IO, sheet_name = sheet, usecols=\"U:AG\", skiprows=1, nrows=12) # Be patient...\n",
    "cds = ColumnDataSource(data)"
   ]
  },
  {
   "cell_type": "code",
   "execution_count": 6,
   "id": "horizontal-narrow",
   "metadata": {},
   "outputs": [
    {
     "data": {
      "text/html": [
       "<div>\n",
       "<style scoped>\n",
       "    .dataframe tbody tr th:only-of-type {\n",
       "        vertical-align: middle;\n",
       "    }\n",
       "\n",
       "    .dataframe tbody tr th {\n",
       "        vertical-align: top;\n",
       "    }\n",
       "\n",
       "    .dataframe thead th {\n",
       "        text-align: right;\n",
       "    }\n",
       "</style>\n",
       "<table border=\"1\" class=\"dataframe\">\n",
       "  <thead>\n",
       "    <tr style=\"text-align: right;\">\n",
       "      <th></th>\n",
       "    </tr>\n",
       "  </thead>\n",
       "  <tbody>\n",
       "  </tbody>\n",
       "</table>\n",
       "</div>"
      ],
      "text/plain": [
       "Empty DataFrame\n",
       "Columns: []\n",
       "Index: []"
      ]
     },
     "execution_count": 6,
     "metadata": {},
     "output_type": "execute_result"
    }
   ],
   "source": [
    "\"|CHECK DATA|\"\n",
    "data"
   ]
  },
  {
   "cell_type": "code",
   "execution_count": null,
   "id": "least-netscape",
   "metadata": {},
   "outputs": [],
   "source": []
  }
 ],
 "metadata": {
  "kernelspec": {
   "display_name": "Python 3",
   "language": "python",
   "name": "python3"
  },
  "language_info": {
   "codemirror_mode": {
    "name": "ipython",
    "version": 3
   },
   "file_extension": ".py",
   "mimetype": "text/x-python",
   "name": "python",
   "nbconvert_exporter": "python",
   "pygments_lexer": "ipython3",
   "version": "3.8.5"
  }
 },
 "nbformat": 4,
 "nbformat_minor": 5
}
